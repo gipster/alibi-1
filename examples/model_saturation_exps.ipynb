{
 "cells": [
  {
   "cell_type": "code",
   "execution_count": 1,
   "metadata": {},
   "outputs": [],
   "source": [
    "import numpy as np\n",
    "import pandas as pd\n",
    "import os\n",
    "import tensorflow as tf\n",
    "tf.compat.v1.enable_eager_execution()\n",
    "from tensorflow.keras.layers import Activation, Conv2D, Conv2DTranspose, Dense, Dropout\n",
    "from tensorflow.keras.layers import Flatten, Input, InputLayer, Reshape, MaxPooling2D\n",
    "from tensorflow.keras.models import Model\n",
    "from tensorflow.keras.utils import to_categorical\n",
    "from alibi.explainers import IntegratedGradients\n",
    "import matplotlib.pyplot as plt\n",
    "from tensorflow.keras.applications.inception_v3 import InceptionV3, preprocess_input, decode_predictions\n",
    "from tensorflow.keras.applications.resnet_v2 import ResNet50V2\n",
    "from alibi.datasets import fetch_imagenet\n",
    "from sklearn.datasets import load_iris, load_diabetes\n",
    "%matplotlib inline"
   ]
  },
  {
   "cell_type": "code",
   "execution_count": 2,
   "metadata": {},
   "outputs": [
    {
     "name": "stdout",
     "output_type": "stream",
     "text": [
      "env: CUDA_VISIBLE_DEVICES=2\n"
     ]
    }
   ],
   "source": [
    "%set_env CUDA_VISIBLE_DEVICES=2"
   ]
  },
  {
   "cell_type": "code",
   "execution_count": 3,
   "metadata": {},
   "outputs": [
    {
     "data": {
      "text/plain": [
       "True"
      ]
     },
     "execution_count": 3,
     "metadata": {},
     "output_type": "execute_result"
    }
   ],
   "source": [
    "tf.test.is_gpu_available()"
   ]
  },
  {
   "cell_type": "code",
   "execution_count": 466,
   "metadata": {},
   "outputs": [],
   "source": [
    "from alibi.utils.approximation_methods import approximation_parameters\n",
    "from alibi.confidence.model_linearity import LinearityMeasure"
   ]
  },
  {
   "cell_type": "code",
   "execution_count": 463,
   "metadata": {},
   "outputs": [],
   "source": [
    "def alpha_rand(x, tot_feats, alpha, permute=True):\n",
    "    if permute:\n",
    "        mask = np.random.permutation(np.concatenate((np.zeros(tot_feats - alpha), np.ones(alpha)))).reshape(x.shape)\n",
    "    else:\n",
    "        mask = np.concatenate((np.zeros(tot_feats - alpha), np.ones(alpha))).reshape(x.shape)\n",
    "    return mask"
   ]
  },
  {
   "cell_type": "code",
   "execution_count": 553,
   "metadata": {},
   "outputs": [
    {
     "name": "stdout",
     "output_type": "stream",
     "text": [
      "* \u001b[32mintegrated-gradients-2\u001b[m\r\n",
      "  master\u001b[m\r\n"
     ]
    }
   ],
   "source": [
    "!git branch "
   ]
  },
  {
   "cell_type": "code",
   "execution_count": 530,
   "metadata": {},
   "outputs": [],
   "source": [
    "def plot_saturation_curve(x, label, nb_steps, model, \n",
    "                          batch_size=1000, how='interpolation', permute=True, plot_df=False):\n",
    "    \n",
    "    baselines = np.zeros(x.shape)\n",
    "    nb_samples = x.shape[0]\n",
    "    reshape_as = (nb_steps, nb_samples) \n",
    "    step_sizes_func, alphas_func = approximation_parameters('gausslegendre')\n",
    "    step_sizes, alphas = step_sizes_func(nb_steps), alphas_func(nb_steps)  \n",
    "\n",
    "    if how == 'interpolation':\n",
    "        paths = np.concatenate([baselines + alphas[i] * (x - baselines) for i in range(nb_steps)], axis=0)\n",
    "    elif how == 'random_feats':\n",
    "        tot_feats = reduce(lambda x, y: x * y, list(x.shape))\n",
    "        paths = np.concatenate([baselines + alpha_rand(x, tot_feats, int(alphas[i] * tot_feats), permute=permute) * (x - baselines) for i in range(nb_steps)], axis=0)\n",
    "    target_paths = np.concatenate([label for _ in range(nb_steps)], axis=0)\n",
    "\n",
    "    lm = LinearityMeasure(nb_samples=10, epsilon=0.04, agg='pairwise')\n",
    "    lm.fit(paths)\n",
    "    pred_list, lin_list = [], []\n",
    "    nb_batches = np.ceil(len(paths) / batch_size).astype(int)\n",
    "    for b in range(nb_batches):\n",
    "        batch = paths[b * batch_size: (b + 1) * batch_size]\n",
    "        probas = model(tf.dtypes.cast(batch, model.input.dtype)).numpy()\n",
    "        pred = np.diag(probas[:, target_paths])\n",
    "        pred_list.append(pred)\n",
    "        # TODO calculate linearity\n",
    "        lins = lm.score(model, batch)\n",
    "        lin_list.append(lins)\n",
    "    paths_preds = np.concatenate(pred_list, axis=0).reshape(reshape_as)\n",
    "    paths_lins = np.concatenate(lin_list, axis=0).reshape(reshape_as)\n",
    "    \n",
    "    print(paths_lins.shape)\n",
    "    df_preds = pd.DataFrame(paths_preds, columns=['proba_{}'.format(i) for i in range(nb_samples)])\n",
    "    df_preds['alphas'] = alphas / max(alphas)\n",
    "    df_preds.set_index('alphas', inplace=True)\n",
    "    \n",
    "    df_lin = pd.DataFrame(paths_lins, columns=['linearity_{}'.format(i) for i in range(nb_samples)])\n",
    "    df_lin['alphas'] = alphas / max(alphas)\n",
    "    df_lin.set_index('alphas', inplace=True)    \n",
    "    if plot_df:\n",
    "        df_preds.plot()\n",
    "    \n",
    "    return df_preds, df_lin, paths"
   ]
  },
  {
   "cell_type": "code",
   "execution_count": 498,
   "metadata": {},
   "outputs": [],
   "source": [
    "lm = LinearityMeasure(nb_samples=0)\n",
    "lm.fit(X_train)"
   ]
  },
  {
   "cell_type": "code",
   "execution_count": 506,
   "metadata": {},
   "outputs": [],
   "source": [
    "features_range = np.asarray([np.zeros(x.shape[0]), np.ones(x.shape[0])]).T"
   ]
  },
  {
   "cell_type": "code",
   "execution_count": null,
   "metadata": {},
   "outputs": [],
   "source": []
  },
  {
   "cell_type": "code",
   "execution_count": 513,
   "metadata": {},
   "outputs": [
    {
     "data": {
      "text/plain": [
       "array([0.08608532, 0.08262309, 0.10064975, 0.09029256, 0.0868296 ,\n",
       "       0.08822641, 0.08562608, 0.08257526, 0.09024088, 0.09354826,\n",
       "       0.08675474, 0.09250273, 0.09114699, 0.09568189, 0.09040993,\n",
       "       0.083755  , 0.08406059, 0.08784564, 0.078799  , 0.09335609,\n",
       "       0.08880923, 0.08993843, 0.09058249, 0.08853659, 0.09048696,\n",
       "       0.09074292, 0.08883332, 0.09408507, 0.08840904, 0.08997014,\n",
       "       0.08996831, 0.09414225, 0.09369322, 0.09295072, 0.082501  ,\n",
       "       0.08693241, 0.09047274, 0.09054329, 0.08848981, 0.08426871,\n",
       "       0.08408919, 0.08606016, 0.09061858, 0.09001198, 0.09499568,\n",
       "       0.08998685, 0.097647  , 0.0945307 , 0.09705749, 0.08605793,\n",
       "       0.09674777, 0.08705922, 0.09952758, 0.08868048, 0.09536007,\n",
       "       0.09232794, 0.08626178, 0.09209324, 0.09730748, 0.09835101,\n",
       "       0.09295947, 0.09821894, 0.08701461, 0.09333112, 0.08551089,\n",
       "       0.09857955, 0.09146355, 0.09106109, 0.0886332 , 0.08717165,\n",
       "       0.09013332, 0.08795691, 0.08321964, 0.08290635, 0.08396943,\n",
       "       0.09169079, 0.08676322, 0.08226342, 0.08349061, 0.09071111,\n",
       "       0.08390893, 0.0831816 , 0.10067049, 0.09647194, 0.0858    ,\n",
       "       0.08513571, 0.09697993, 0.09038411, 0.08979795, 0.08171217,\n",
       "       0.08914325, 0.08411015, 0.09095079, 0.09069611, 0.09165172,\n",
       "       0.09503172, 0.09441576, 0.0886285 , 0.08311641, 0.08233972])"
      ]
     },
     "execution_count": 513,
     "metadata": {},
     "output_type": "execute_result"
    }
   ],
   "source": [
    "linearity_measure(model, np.zeros(x.shape), X_train=x, epsilon=0.001)"
   ]
  },
  {
   "cell_type": "code",
   "execution_count": 531,
   "metadata": {},
   "outputs": [
    {
     "name": "stdout",
     "output_type": "stream",
     "text": [
      "(50, 100)\n"
     ]
    }
   ],
   "source": [
    "df_inter, df_lin, paths = plot_saturation_curve(x, label, 50, model, how='random_feats')"
   ]
  },
  {
   "cell_type": "code",
   "execution_count": 532,
   "metadata": {},
   "outputs": [
    {
     "data": {
      "text/plain": [
       "<matplotlib.axes._subplots.AxesSubplot at 0x7fe5028b0e90>"
      ]
     },
     "execution_count": 532,
     "metadata": {},
     "output_type": "execute_result"
    },
    {
     "data": {
      "image/png": "[encoded data removed]",
      "text/plain": [
       "<Figure size 432x288 with 1 Axes>"
      ]
     },
     "metadata": {
      "needs_background": "light"
     },
     "output_type": "display_data"
    }
   ],
   "source": [
    "df_lin[['linearity_{}'.format(i) for i in range(30, 35)]].plot()"
   ]
  },
  {
   "cell_type": "code",
   "execution_count": 533,
   "metadata": {},
   "outputs": [
    {
     "data": {
      "text/plain": [
       "<matplotlib.axes._subplots.AxesSubplot at 0x7fe5103dded0>"
      ]
     },
     "execution_count": 533,
     "metadata": {},
     "output_type": "execute_result"
    },
    {
     "data": {
      "image/png": "[encoded data removed]",
      "text/plain": [
       "<Figure size 432x288 with 1 Axes>"
      ]
     },
     "metadata": {
      "needs_background": "light"
     },
     "output_type": "display_data"
    }
   ],
   "source": [
    "df_inter[['proba_{}'.format(i) for i in range(30, 35)]].plot()"
   ]
  },
  {
   "cell_type": "code",
   "execution_count": 346,
   "metadata": {},
   "outputs": [],
   "source": [
    "probas = np.random.rand(6,3)"
   ]
  },
  {
   "cell_type": "code",
   "execution_count": 347,
   "metadata": {},
   "outputs": [],
   "source": [
    "label = [0 for i in range(2)] + [1 for j in range(2)] + [2 for j in range(2)]"
   ]
  },
  {
   "cell_type": "code",
   "execution_count": 348,
   "metadata": {},
   "outputs": [
    {
     "data": {
      "text/plain": [
       "array([[0.0922033 , 0.9211942 , 0.17510147],\n",
       "       [0.05655539, 0.12004847, 0.52872185],\n",
       "       [0.56810658, 0.34367502, 0.32451034],\n",
       "       [0.99145758, 0.73099709, 0.92964368],\n",
       "       [0.27413529, 0.08600638, 0.91499253],\n",
       "       [0.17811224, 0.79128163, 0.99132546]])"
      ]
     },
     "execution_count": 348,
     "metadata": {},
     "output_type": "execute_result"
    }
   ],
   "source": [
    "probas"
   ]
  },
  {
   "cell_type": "code",
   "execution_count": 349,
   "metadata": {},
   "outputs": [
    {
     "data": {
      "text/html": [
       "[0, 0, 1, 1, 2, 2]"
      ],
      "text/plain": [
       "[0, 0, 1, 1, 2, 2]"
      ]
     },
     "execution_count": 349,
     "metadata": {},
     "output_type": "execute_result"
    }
   ],
   "source": [
    "label"
   ]
  },
  {
   "cell_type": "code",
   "execution_count": 352,
   "metadata": {},
   "outputs": [
    {
     "data": {
      "text/plain": [
       "array([0.0922033 , 0.05655539, 0.34367502, 0.73099709, 0.91499253,\n",
       "       0.99132546])"
      ]
     },
     "execution_count": 352,
     "metadata": {},
     "output_type": "execute_result"
    }
   ],
   "source": [
    "np.diag(probas[:, label])"
   ]
  },
  {
   "cell_type": "markdown",
   "metadata": {},
   "source": [
    "# TF model"
   ]
  },
  {
   "cell_type": "code",
   "execution_count": 238,
   "metadata": {},
   "outputs": [],
   "source": [
    "def define_model(X_train, model_arch, ff_activation='relu', nb_classes=3):\n",
    "    inputs = Input(shape=(X_train.shape[1:]), dtype=tf.float64)\n",
    "    if model_arch == 'conv':\n",
    "        x = Conv2D(64, 2, padding='same', activation='relu', name='conv1')(inputs)\n",
    "        x = MaxPooling2D(pool_size=(2,2), name='maxpool1')(x)\n",
    "        x = Dropout(.3)(x)\n",
    "        x = Conv2D(32, 2, padding='same', activation='relu', name='conv2')(x)\n",
    "        x = MaxPooling2D(pool_size=(2, 2), name='maxpool2')(x)\n",
    "        x = Dropout(.3)(x)\n",
    "        x = Flatten(data_format='channels_last')(x)\n",
    "        x = Dense(256, activation='relu', name='linear1')(x)\n",
    "        x = Dropout(.5)(x)\n",
    "        logits = Dense(nb_classes, name='linear2')(x)\n",
    "        \n",
    "    elif model_arch == 'ff':\n",
    "        x = Dense(256, activation=ff_activation, name='linear1')(inputs)\n",
    "        logits = Dense(nb_classes, name='linear2')(x)\n",
    "\n",
    "    outputs = Activation('softmax', name='softmax')(logits)\n",
    "    model = Model(inputs=inputs, outputs=outputs)\n",
    "    model.compile(loss='categorical_crossentropy',\n",
    "                  optimizer='adam',\n",
    "                  metrics=['accuracy'])\n",
    "    return model"
   ]
  },
  {
   "cell_type": "code",
   "execution_count": null,
   "metadata": {},
   "outputs": [],
   "source": []
  },
  {
   "cell_type": "code",
   "execution_count": null,
   "metadata": {},
   "outputs": [],
   "source": []
  },
  {
   "cell_type": "markdown",
   "metadata": {},
   "source": [
    "# Iris"
   ]
  },
  {
   "cell_type": "code",
   "execution_count": 126,
   "metadata": {},
   "outputs": [],
   "source": [
    "iris = load_iris()"
   ]
  },
  {
   "cell_type": "code",
   "execution_count": null,
   "metadata": {},
   "outputs": [],
   "source": []
  },
  {
   "cell_type": "code",
   "execution_count": 127,
   "metadata": {},
   "outputs": [],
   "source": [
    "perm = np.random.permutation(range(len(X_iris))).tolist()"
   ]
  },
  {
   "cell_type": "code",
   "execution_count": 292,
   "metadata": {},
   "outputs": [],
   "source": [
    "\n",
    "X_iris = iris.data\n",
    "X_iris = X_iris[perm]\n",
    "labels = iris.target\n",
    "labels = labels[perm]\n",
    "\n",
    "y_iris = to_categorical(labels)\n",
    "X_train, labels_train = X_iris[:int(0.7 * X_iris.shape[0])], labels[:int(0.7 * X_iris.shape[0])]\n",
    "X_test, labels_test = X_iris[int(0.7 * X_iris.shape[0]):], labels[int(0.7 * X_iris.shape[0]):]\n",
    "y_train = to_categorical(labels_train, 3)\n",
    "y_test = to_categorical(labels_test, 3)\n"
   ]
  },
  {
   "cell_type": "code",
   "execution_count": 293,
   "metadata": {},
   "outputs": [
    {
     "data": {
      "text/plain": [
       "array([0, 1, 2, 0, 2, 1, 1, 2, 0, 1, 0, 1, 2, 2, 2, 1, 0, 1, 2, 0, 1, 0,\n",
       "       0, 0, 0, 1, 0, 1, 2, 2, 1, 0, 0, 2, 1, 1, 1, 0, 1, 0, 0, 2, 1, 1,\n",
       "       1, 2, 2, 0, 1, 2, 0, 2, 1, 2, 0, 2, 1, 1, 0, 2, 0, 0, 1, 2, 1, 1,\n",
       "       1, 1, 1, 0, 1, 1, 0, 2, 1, 1, 2, 0, 2, 0, 1, 0, 0, 1, 0, 0, 0, 0,\n",
       "       1, 2, 0, 2, 0, 2, 0, 1, 2, 0, 0, 0, 1, 2, 0, 0, 2])"
      ]
     },
     "execution_count": 293,
     "metadata": {},
     "output_type": "execute_result"
    }
   ],
   "source": [
    "labels_train"
   ]
  },
  {
   "cell_type": "code",
   "execution_count": 294,
   "metadata": {
    "scrolled": true
   },
   "outputs": [
    {
     "ename": "OSError",
     "evalue": "SavedModel file does not exist at: ./model_iris/model.h5/{saved_model.pbtxt|saved_model.pb}",
     "output_type": "error",
     "traceback": [
      "\u001b[0;31m--------------------------------------------------------\u001b[0m",
      "\u001b[0;31mOSError\u001b[0m                Traceback (most recent call last)",
      "\u001b[0;32m<ipython-input-294-8717680e065a>\u001b[0m in \u001b[0;36m<module>\u001b[0;34m\u001b[0m\n\u001b[1;32m      2\u001b[0m \u001b[0;34m\u001b[0m\u001b[0m\n\u001b[1;32m      3\u001b[0m \u001b[0;32mif\u001b[0m \u001b[0mload_tf_model\u001b[0m\u001b[0;34m:\u001b[0m\u001b[0;34m\u001b[0m\u001b[0;34m\u001b[0m\u001b[0m\n\u001b[0;32m----> 4\u001b[0;31m     \u001b[0mmodel\u001b[0m \u001b[0;34m=\u001b[0m \u001b[0mtf\u001b[0m\u001b[0;34m.\u001b[0m\u001b[0mkeras\u001b[0m\u001b[0;34m.\u001b[0m\u001b[0mmodels\u001b[0m\u001b[0;34m.\u001b[0m\u001b[0mload_model\u001b[0m\u001b[0;34m(\u001b[0m\u001b[0mos\u001b[0m\u001b[0;34m.\u001b[0m\u001b[0mpath\u001b[0m\u001b[0;34m.\u001b[0m\u001b[0mjoin\u001b[0m\u001b[0;34m(\u001b[0m\u001b[0mfilepath\u001b[0m\u001b[0;34m,\u001b[0m \u001b[0;34m'model.h5'\u001b[0m\u001b[0;34m)\u001b[0m\u001b[0;34m)\u001b[0m\u001b[0;34m\u001b[0m\u001b[0;34m\u001b[0m\u001b[0m\n\u001b[0m\u001b[1;32m      5\u001b[0m \u001b[0;32melse\u001b[0m\u001b[0;34m:\u001b[0m\u001b[0;34m\u001b[0m\u001b[0;34m\u001b[0m\u001b[0m\n\u001b[1;32m      6\u001b[0m     \u001b[0;31m# define model\u001b[0m\u001b[0;34m\u001b[0m\u001b[0;34m\u001b[0m\u001b[0;34m\u001b[0m\u001b[0m\n",
      "\u001b[0;32m~/anaconda3/envs/tf115/lib/python3.7/site-packages/tensorflow_core/python/keras/saving/save.py\u001b[0m in \u001b[0;36mload_model\u001b[0;34m(filepath, custom_objects, compile)\u001b[0m\n\u001b[1;32m    144\u001b[0m \u001b[0;34m\u001b[0m\u001b[0m\n\u001b[1;32m    145\u001b[0m   \u001b[0;32mif\u001b[0m \u001b[0misinstance\u001b[0m\u001b[0;34m(\u001b[0m\u001b[0mfilepath\u001b[0m\u001b[0;34m,\u001b[0m \u001b[0msix\u001b[0m\u001b[0;34m.\u001b[0m\u001b[0mstring_types\u001b[0m\u001b[0;34m)\u001b[0m\u001b[0;34m:\u001b[0m\u001b[0;34m\u001b[0m\u001b[0;34m\u001b[0m\u001b[0m\n\u001b[0;32m--> 146\u001b[0;31m     \u001b[0mloader_impl\u001b[0m\u001b[0;34m.\u001b[0m\u001b[0mparse_saved_model\u001b[0m\u001b[0;34m(\u001b[0m\u001b[0mfilepath\u001b[0m\u001b[0;34m)\u001b[0m\u001b[0;34m\u001b[0m\u001b[0;34m\u001b[0m\u001b[0m\n\u001b[0m\u001b[1;32m    147\u001b[0m     \u001b[0;32mreturn\u001b[0m \u001b[0msaved_model_load\u001b[0m\u001b[0;34m.\u001b[0m\u001b[0mload\u001b[0m\u001b[0;34m(\u001b[0m\u001b[0mfilepath\u001b[0m\u001b[0;34m,\u001b[0m \u001b[0mcompile\u001b[0m\u001b[0;34m)\u001b[0m\u001b[0;34m\u001b[0m\u001b[0;34m\u001b[0m\u001b[0m\n\u001b[1;32m    148\u001b[0m \u001b[0;34m\u001b[0m\u001b[0m\n",
      "\u001b[0;32m~/anaconda3/envs/tf115/lib/python3.7/site-packages/tensorflow_core/python/saved_model/loader_impl.py\u001b[0m in \u001b[0;36mparse_saved_model\u001b[0;34m(export_dir)\u001b[0m\n\u001b[1;32m     81\u001b[0m                   (export_dir,\n\u001b[1;32m     82\u001b[0m                    \u001b[0mconstants\u001b[0m\u001b[0;34m.\u001b[0m\u001b[0mSAVED_MODEL_FILENAME_PBTXT\u001b[0m\u001b[0;34m,\u001b[0m\u001b[0;34m\u001b[0m\u001b[0;34m\u001b[0m\u001b[0m\n\u001b[0;32m---> 83\u001b[0;31m                    constants.SAVED_MODEL_FILENAME_PB))\n\u001b[0m\u001b[1;32m     84\u001b[0m \u001b[0;34m\u001b[0m\u001b[0m\n\u001b[1;32m     85\u001b[0m \u001b[0;34m\u001b[0m\u001b[0m\n",
      "\u001b[0;31mOSError\u001b[0m: SavedModel file does not exist at: ./model_iris/model.h5/{saved_model.pbtxt|saved_model.pb}"
     ]
    }
   ],
   "source": [
    "filepath = './model_iris'#change to directory where model is downloaded\n",
    "\n",
    "if load_tf_model:\n",
    "    model = tf.keras.models.load_model(os.path.join(filepath, 'model.h5'))\n",
    "else:\n",
    "    # define model\n",
    "    model = define_model(X_iris, 'ff', ff_activation='relu')\n",
    "    # train model\n",
    "    model.fit(X_train,\n",
    "              y_train,\n",
    "              epochs=100,\n",
    "              batch_size=256,\n",
    "              verbose=1,\n",
    "              validation_data=(X_test, y_test)\n",
    "              )\n",
    "    if not os.path.exists(filepath):\n",
    "        os.makedirs(filepath)\n",
    "    model.save(os.path.join(filepath, 'model_{}.h5'.format(model_arch)))\n",
    "    #model.save_weights(os.path.join(filepath, 'model.ckpt'))"
   ]
  },
  {
   "cell_type": "code",
   "execution_count": 131,
   "metadata": {},
   "outputs": [
    {
     "data": {
      "text/plain": [
       "(1, 4)"
      ]
     },
     "execution_count": 131,
     "metadata": {},
     "output_type": "execute_result"
    }
   ],
   "source": [
    "x = X_test[0].reshape(1, -1)\n",
    "label = labels_test[0]\n",
    "x.shape"
   ]
  },
  {
   "cell_type": "code",
   "execution_count": null,
   "metadata": {},
   "outputs": [],
   "source": []
  },
  {
   "cell_type": "code",
   "execution_count": 132,
   "metadata": {},
   "outputs": [
    {
     "name": "stdout",
     "output_type": "stream",
     "text": [
      "(50, 4)\n"
     ]
    },
    {
     "data": {
      "image/png": "[encoded data removed]",
      "text/plain": [
       "<Figure size 432x288 with 1 Axes>"
      ]
     },
     "metadata": {
      "needs_background": "light"
     },
     "output_type": "display_data"
    }
   ],
   "source": [
    "alphas, paths = plot_saturation_curve(x, label, 50, model, how='interpolation')"
   ]
  },
  {
   "cell_type": "code",
   "execution_count": 133,
   "metadata": {},
   "outputs": [
    {
     "name": "stdout",
     "output_type": "stream",
     "text": [
      "(50, 4)\n"
     ]
    },
    {
     "data": {
      "image/png": "[encoded data removed]",
      "text/plain": [
       "<Figure size 432x288 with 1 Axes>"
      ]
     },
     "metadata": {
      "needs_background": "light"
     },
     "output_type": "display_data"
    }
   ],
   "source": [
    "alphas, paths = plot_saturation_curve(x, label, 50, model, how='random_feats')"
   ]
  },
  {
   "cell_type": "code",
   "execution_count": 134,
   "metadata": {},
   "outputs": [
    {
     "name": "stdout",
     "output_type": "stream",
     "text": [
      "(50, 4)\n"
     ]
    },
    {
     "data": {
      "image/png": "[encoded data removed]",
      "text/plain": [
       "<Figure size 432x288 with 1 Axes>"
      ]
     },
     "metadata": {
      "needs_background": "light"
     },
     "output_type": "display_data"
    }
   ],
   "source": [
    "alphas, paths = plot_saturation_curve(x, label, 50, model, how='random_feats', permute=False)"
   ]
  },
  {
   "cell_type": "code",
   "execution_count": 102,
   "metadata": {},
   "outputs": [
    {
     "data": {
      "image/png": "[encoded data removed]",
      "text/plain": [
       "<Figure size 432x288 with 1 Axes>"
      ]
     },
     "metadata": {
      "needs_background": "light"
     },
     "output_type": "display_data"
    }
   ],
   "source": [
    "plot_saturation_curve(x, label, model)\n"
   ]
  },
  {
   "cell_type": "code",
   "execution_count": 103,
   "metadata": {},
   "outputs": [
    {
     "data": {
      "text/plain": [
       "<tf.Tensor: id=59714, shape=(1, 3), dtype=float64, numpy=array([[0.06966999, 0.53826848, 0.39206153]])>"
      ]
     },
     "execution_count": 103,
     "metadata": {},
     "output_type": "execute_result"
    }
   ],
   "source": [
    "model(x)"
   ]
  },
  {
   "cell_type": "code",
   "execution_count": 132,
   "metadata": {},
   "outputs": [],
   "source": [
    "model_arch ='conv' #  'ff'"
   ]
  },
  {
   "cell_type": "markdown",
   "metadata": {},
   "source": [
    "# Mnist"
   ]
  },
  {
   "cell_type": "code",
   "execution_count": 534,
   "metadata": {},
   "outputs": [
    {
     "name": "stdout",
     "output_type": "stream",
     "text": [
      "(60000, 28, 28, 1) (60000, 10) (10000, 28, 28, 1) (10000, 10)\n"
     ]
    }
   ],
   "source": [
    "train, test = tf.keras.datasets.mnist.load_data()\n",
    "X_train, labels_train = train\n",
    "X_test, labels_test = test\n",
    "if model_arch == 'conv':\n",
    "    X_train = X_train.reshape(-1, 28, 28, 1).astype('float64') / 255\n",
    "    X_test = X_test.reshape(-1, 28, 28, 1).astype('float64') / 255\n",
    "    y_train = to_categorical(labels_train, 10)\n",
    "    y_test = to_categorical(labels_test, 10)\n",
    "elif model_arch == 'ff':\n",
    "    X_train = X_train.reshape(-1, 28 * 28).astype('float64') / 255\n",
    "    X_test = X_test.reshape(-1, 28 * 28).astype('float64') / 255\n",
    "    y_train = to_categorical(labels_train, 10)\n",
    "    y_test = to_categorical(labels_test, 10)\n",
    "print(X_train.shape, y_train.shape, X_test.shape, y_test.shape)"
   ]
  },
  {
   "cell_type": "code",
   "execution_count": 535,
   "metadata": {},
   "outputs": [],
   "source": [
    "model_arch = 'conv'\n",
    "load_tf_model = True"
   ]
  },
  {
   "cell_type": "code",
   "execution_count": 536,
   "metadata": {},
   "outputs": [],
   "source": [
    "filepath = './model_{}_mnist/'.format(model_arch)#change to directory where model is downloaded\n",
    "\n",
    "if load_tf_model:\n",
    "    model = tf.keras.models.load_model(os.path.join(filepath, 'model_{}.h5'.format(model_arch)))\n",
    "else:\n",
    "    # define model\n",
    "    model = define_model(X_train, model_arch, nb_classes=10)\n",
    "    # train model\n",
    "    model.fit(X_train,\n",
    "              y_train,\n",
    "              epochs=10,\n",
    "              batch_size=256,\n",
    "              verbose=2,\n",
    "              validation_data=(X_test, y_test)\n",
    "              )\n",
    "    if not os.path.exists(filepath):\n",
    "        os.makedirs(filepath)\n",
    "    model.save(os.path.join(filepath, 'model_{}.h5'.format(model_arch)))\n",
    "    #model.save_weights(os.path.join(filepath, 'model.ckpt'))"
   ]
  },
  {
   "cell_type": "code",
   "execution_count": 537,
   "metadata": {},
   "outputs": [],
   "source": [
    "i = 11\n",
    "n_samples = 100\n",
    "x = X_test[i: i + n_samples]\n",
    "label = labels_test[i: i + n_samples]\n",
    "#label"
   ]
  },
  {
   "cell_type": "code",
   "execution_count": 538,
   "metadata": {},
   "outputs": [],
   "source": [
    "#plt.imshow(np.squeeze(x))"
   ]
  },
  {
   "cell_type": "code",
   "execution_count": 541,
   "metadata": {},
   "outputs": [
    {
     "name": "stdout",
     "output_type": "stream",
     "text": [
      "(50, 100)\n"
     ]
    }
   ],
   "source": [
    "df_inter_preds, df_inter_lins, paths = plot_saturation_curve(x, label, 50, model, how='interpolation')"
   ]
  },
  {
   "cell_type": "code",
   "execution_count": 542,
   "metadata": {},
   "outputs": [
    {
     "name": "stdout",
     "output_type": "stream",
     "text": [
      "(50, 100)\n"
     ]
    }
   ],
   "source": [
    "df_perm_preds, df_perm_lins, paths = plot_saturation_curve(x, label, 50, model, how='random_feats')"
   ]
  },
  {
   "cell_type": "code",
   "execution_count": 543,
   "metadata": {},
   "outputs": [
    {
     "name": "stdout",
     "output_type": "stream",
     "text": [
      "(50, 100)\n"
     ]
    }
   ],
   "source": [
    "df_noperm_preds, df_noperm_lins, paths = plot_saturation_curve(x, label, 50, model, how='random_feats', permute=False)"
   ]
  },
  {
   "cell_type": "code",
   "execution_count": 453,
   "metadata": {},
   "outputs": [
    {
     "data": {
      "text/html": [
       "<div>\n",
       "<style scoped>\n",
       "    .dataframe tbody tr th:only-of-type {\n",
       "        vertical-align: middle;\n",
       "    }\n",
       "\n",
       "    .dataframe tbody tr th {\n",
       "        vertical-align: top;\n",
       "    }\n",
       "\n",
       "    .dataframe thead th {\n",
       "        text-align: right;\n",
       "    }\n",
       "</style>\n",
       "<table border=\"1\" class=\"dataframe\">\n",
       "  <thead>\n",
       "    <tr style=\"text-align: right;\">\n",
       "      <th></th>\n",
       "      <th>proba_0</th>\n",
       "      <th>proba_1</th>\n",
       "      <th>proba_2</th>\n",
       "      <th>proba_3</th>\n",
       "      <th>proba_4</th>\n",
       "      <th>proba_5</th>\n",
       "      <th>proba_6</th>\n",
       "      <th>proba_7</th>\n",
       "      <th>proba_8</th>\n",
       "      <th>proba_9</th>\n",
       "      <th>...</th>\n",
       "      <th>proba_90</th>\n",
       "      <th>proba_91</th>\n",
       "      <th>proba_92</th>\n",
       "      <th>proba_93</th>\n",
       "      <th>proba_94</th>\n",
       "      <th>proba_95</th>\n",
       "      <th>proba_96</th>\n",
       "      <th>proba_97</th>\n",
       "      <th>proba_98</th>\n",
       "      <th>proba_99</th>\n",
       "    </tr>\n",
       "    <tr>\n",
       "      <th>alphas</th>\n",
       "      <th></th>\n",
       "      <th></th>\n",
       "      <th></th>\n",
       "      <th></th>\n",
       "      <th></th>\n",
       "      <th></th>\n",
       "      <th></th>\n",
       "      <th></th>\n",
       "      <th></th>\n",
       "      <th></th>\n",
       "      <th></th>\n",
       "      <th></th>\n",
       "      <th></th>\n",
       "      <th></th>\n",
       "      <th></th>\n",
       "      <th></th>\n",
       "      <th></th>\n",
       "      <th></th>\n",
       "      <th></th>\n",
       "      <th></th>\n",
       "      <th></th>\n",
       "    </tr>\n",
       "  </thead>\n",
       "  <tbody>\n",
       "    <tr>\n",
       "      <th>0.000567</th>\n",
       "      <td>0.086636</td>\n",
       "      <td>0.096039</td>\n",
       "      <td>0.088670</td>\n",
       "      <td>0.166834</td>\n",
       "      <td>0.359702</td>\n",
       "      <td>0.096039</td>\n",
       "      <td>0.115789</td>\n",
       "      <td>0.086827</td>\n",
       "      <td>0.099209</td>\n",
       "      <td>0.096039</td>\n",
       "      <td>...</td>\n",
       "      <td>0.096970</td>\n",
       "      <td>0.094556</td>\n",
       "      <td>0.099209</td>\n",
       "      <td>0.096039</td>\n",
       "      <td>0.096039</td>\n",
       "      <td>0.084274</td>\n",
       "      <td>0.166834</td>\n",
       "      <td>0.096039</td>\n",
       "      <td>0.099209</td>\n",
       "      <td>0.066422</td>\n",
       "    </tr>\n",
       "    <tr>\n",
       "      <th>0.002986</th>\n",
       "      <td>0.086636</td>\n",
       "      <td>0.080404</td>\n",
       "      <td>0.096970</td>\n",
       "      <td>0.166834</td>\n",
       "      <td>0.092816</td>\n",
       "      <td>0.096039</td>\n",
       "      <td>0.056270</td>\n",
       "      <td>0.143193</td>\n",
       "      <td>0.099209</td>\n",
       "      <td>0.119111</td>\n",
       "      <td>...</td>\n",
       "      <td>0.096970</td>\n",
       "      <td>0.112375</td>\n",
       "      <td>0.100201</td>\n",
       "      <td>0.096039</td>\n",
       "      <td>0.096039</td>\n",
       "      <td>0.090718</td>\n",
       "      <td>0.166834</td>\n",
       "      <td>0.096039</td>\n",
       "      <td>0.099209</td>\n",
       "      <td>0.047449</td>\n",
       "    </tr>\n",
       "    <tr>\n",
       "      <th>0.007327</th>\n",
       "      <td>0.061846</td>\n",
       "      <td>0.096039</td>\n",
       "      <td>0.095368</td>\n",
       "      <td>0.161179</td>\n",
       "      <td>0.156575</td>\n",
       "      <td>0.096039</td>\n",
       "      <td>0.112649</td>\n",
       "      <td>0.018605</td>\n",
       "      <td>0.099209</td>\n",
       "      <td>0.096039</td>\n",
       "      <td>...</td>\n",
       "      <td>0.096970</td>\n",
       "      <td>0.094556</td>\n",
       "      <td>0.150035</td>\n",
       "      <td>0.063386</td>\n",
       "      <td>0.095991</td>\n",
       "      <td>0.102234</td>\n",
       "      <td>0.192868</td>\n",
       "      <td>0.098678</td>\n",
       "      <td>0.091459</td>\n",
       "      <td>0.058393</td>\n",
       "    </tr>\n",
       "    <tr>\n",
       "      <th>0.013576</th>\n",
       "      <td>0.078964</td>\n",
       "      <td>0.054532</td>\n",
       "      <td>0.048552</td>\n",
       "      <td>0.166834</td>\n",
       "      <td>0.093734</td>\n",
       "      <td>0.045348</td>\n",
       "      <td>0.411326</td>\n",
       "      <td>0.044425</td>\n",
       "      <td>0.104438</td>\n",
       "      <td>0.128492</td>\n",
       "      <td>...</td>\n",
       "      <td>0.096782</td>\n",
       "      <td>0.181459</td>\n",
       "      <td>0.081684</td>\n",
       "      <td>0.048225</td>\n",
       "      <td>0.044405</td>\n",
       "      <td>0.011420</td>\n",
       "      <td>0.226594</td>\n",
       "      <td>0.073724</td>\n",
       "      <td>0.099209</td>\n",
       "      <td>0.066422</td>\n",
       "    </tr>\n",
       "    <tr>\n",
       "      <th>0.021707</th>\n",
       "      <td>0.034136</td>\n",
       "      <td>0.096039</td>\n",
       "      <td>0.067796</td>\n",
       "      <td>0.166834</td>\n",
       "      <td>0.018321</td>\n",
       "      <td>0.020738</td>\n",
       "      <td>0.149026</td>\n",
       "      <td>0.087180</td>\n",
       "      <td>0.096951</td>\n",
       "      <td>0.096039</td>\n",
       "      <td>...</td>\n",
       "      <td>0.059767</td>\n",
       "      <td>0.480406</td>\n",
       "      <td>0.069910</td>\n",
       "      <td>0.046480</td>\n",
       "      <td>0.078384</td>\n",
       "      <td>0.013352</td>\n",
       "      <td>0.101923</td>\n",
       "      <td>0.010737</td>\n",
       "      <td>0.154169</td>\n",
       "      <td>0.032840</td>\n",
       "    </tr>\n",
       "    <tr>\n",
       "      <th>0.031690</th>\n",
       "      <td>0.016148</td>\n",
       "      <td>0.020193</td>\n",
       "      <td>0.038840</td>\n",
       "      <td>0.120988</td>\n",
       "      <td>0.095595</td>\n",
       "      <td>0.051580</td>\n",
       "      <td>0.453692</td>\n",
       "      <td>0.147446</td>\n",
       "      <td>0.118232</td>\n",
       "      <td>0.045924</td>\n",
       "      <td>...</td>\n",
       "      <td>0.029320</td>\n",
       "      <td>0.104763</td>\n",
       "      <td>0.146029</td>\n",
       "      <td>0.096039</td>\n",
       "      <td>0.135112</td>\n",
       "      <td>0.040984</td>\n",
       "      <td>0.146820</td>\n",
       "      <td>0.096160</td>\n",
       "      <td>0.054866</td>\n",
       "      <td>0.003706</td>\n",
       "    </tr>\n",
       "    <tr>\n",
       "      <th>0.043485</th>\n",
       "      <td>0.062549</td>\n",
       "      <td>0.084977</td>\n",
       "      <td>0.039383</td>\n",
       "      <td>0.101327</td>\n",
       "      <td>0.012359</td>\n",
       "      <td>0.031385</td>\n",
       "      <td>0.210204</td>\n",
       "      <td>0.083778</td>\n",
       "      <td>0.027893</td>\n",
       "      <td>0.049805</td>\n",
       "      <td>...</td>\n",
       "      <td>0.037337</td>\n",
       "      <td>0.026683</td>\n",
       "      <td>0.098653</td>\n",
       "      <td>0.070730</td>\n",
       "      <td>0.039466</td>\n",
       "      <td>0.084106</td>\n",
       "      <td>0.124457</td>\n",
       "      <td>0.027830</td>\n",
       "      <td>0.091521</td>\n",
       "      <td>0.030785</td>\n",
       "    </tr>\n",
       "    <tr>\n",
       "      <th>0.057048</th>\n",
       "      <td>0.042750</td>\n",
       "      <td>0.031440</td>\n",
       "      <td>0.019508</td>\n",
       "      <td>0.045742</td>\n",
       "      <td>0.088357</td>\n",
       "      <td>0.046323</td>\n",
       "      <td>0.165495</td>\n",
       "      <td>0.034292</td>\n",
       "      <td>0.133968</td>\n",
       "      <td>0.088433</td>\n",
       "      <td>...</td>\n",
       "      <td>0.068689</td>\n",
       "      <td>0.132940</td>\n",
       "      <td>0.096130</td>\n",
       "      <td>0.016574</td>\n",
       "      <td>0.018699</td>\n",
       "      <td>0.112330</td>\n",
       "      <td>0.060649</td>\n",
       "      <td>0.051370</td>\n",
       "      <td>0.133594</td>\n",
       "      <td>0.030675</td>\n",
       "    </tr>\n",
       "    <tr>\n",
       "      <th>0.072326</th>\n",
       "      <td>0.017764</td>\n",
       "      <td>0.055530</td>\n",
       "      <td>0.096176</td>\n",
       "      <td>0.131339</td>\n",
       "      <td>0.060585</td>\n",
       "      <td>0.019651</td>\n",
       "      <td>0.483412</td>\n",
       "      <td>0.159662</td>\n",
       "      <td>0.093092</td>\n",
       "      <td>0.047310</td>\n",
       "      <td>...</td>\n",
       "      <td>0.037116</td>\n",
       "      <td>0.574209</td>\n",
       "      <td>0.055465</td>\n",
       "      <td>0.012736</td>\n",
       "      <td>0.011144</td>\n",
       "      <td>0.040156</td>\n",
       "      <td>0.098898</td>\n",
       "      <td>0.107069</td>\n",
       "      <td>0.124902</td>\n",
       "      <td>0.004483</td>\n",
       "    </tr>\n",
       "    <tr>\n",
       "      <th>0.089260</th>\n",
       "      <td>0.085575</td>\n",
       "      <td>0.023552</td>\n",
       "      <td>0.025538</td>\n",
       "      <td>0.068017</td>\n",
       "      <td>0.261876</td>\n",
       "      <td>0.096788</td>\n",
       "      <td>0.560551</td>\n",
       "      <td>0.167659</td>\n",
       "      <td>0.153392</td>\n",
       "      <td>0.127830</td>\n",
       "      <td>...</td>\n",
       "      <td>0.047302</td>\n",
       "      <td>0.655185</td>\n",
       "      <td>0.135126</td>\n",
       "      <td>0.018886</td>\n",
       "      <td>0.025599</td>\n",
       "      <td>0.039497</td>\n",
       "      <td>0.111112</td>\n",
       "      <td>0.021002</td>\n",
       "      <td>0.079199</td>\n",
       "      <td>0.023296</td>\n",
       "    </tr>\n",
       "    <tr>\n",
       "      <th>0.107783</th>\n",
       "      <td>0.034441</td>\n",
       "      <td>0.104259</td>\n",
       "      <td>0.006089</td>\n",
       "      <td>0.110506</td>\n",
       "      <td>0.086818</td>\n",
       "      <td>0.070330</td>\n",
       "      <td>0.208639</td>\n",
       "      <td>0.641247</td>\n",
       "      <td>0.066090</td>\n",
       "      <td>0.030438</td>\n",
       "      <td>...</td>\n",
       "      <td>0.059498</td>\n",
       "      <td>0.041830</td>\n",
       "      <td>0.118011</td>\n",
       "      <td>0.014847</td>\n",
       "      <td>0.012735</td>\n",
       "      <td>0.603066</td>\n",
       "      <td>0.065221</td>\n",
       "      <td>0.021272</td>\n",
       "      <td>0.128898</td>\n",
       "      <td>0.049890</td>\n",
       "    </tr>\n",
       "    <tr>\n",
       "      <th>0.127825</th>\n",
       "      <td>0.087433</td>\n",
       "      <td>0.018174</td>\n",
       "      <td>0.044313</td>\n",
       "      <td>0.129657</td>\n",
       "      <td>0.280544</td>\n",
       "      <td>0.016196</td>\n",
       "      <td>0.222275</td>\n",
       "      <td>0.278685</td>\n",
       "      <td>0.069210</td>\n",
       "      <td>0.074922</td>\n",
       "      <td>...</td>\n",
       "      <td>0.064877</td>\n",
       "      <td>0.599121</td>\n",
       "      <td>0.061460</td>\n",
       "      <td>0.060482</td>\n",
       "      <td>0.063047</td>\n",
       "      <td>0.162426</td>\n",
       "      <td>0.035526</td>\n",
       "      <td>0.034739</td>\n",
       "      <td>0.170407</td>\n",
       "      <td>0.006628</td>\n",
       "    </tr>\n",
       "    <tr>\n",
       "      <th>0.149308</th>\n",
       "      <td>0.203401</td>\n",
       "      <td>0.062398</td>\n",
       "      <td>0.001995</td>\n",
       "      <td>0.068438</td>\n",
       "      <td>0.072516</td>\n",
       "      <td>0.010158</td>\n",
       "      <td>0.332364</td>\n",
       "      <td>0.258927</td>\n",
       "      <td>0.198076</td>\n",
       "      <td>0.129999</td>\n",
       "      <td>...</td>\n",
       "      <td>0.022198</td>\n",
       "      <td>0.459620</td>\n",
       "      <td>0.017305</td>\n",
       "      <td>0.028712</td>\n",
       "      <td>0.026551</td>\n",
       "      <td>0.225041</td>\n",
       "      <td>0.107970</td>\n",
       "      <td>0.125630</td>\n",
       "      <td>0.228326</td>\n",
       "      <td>0.001144</td>\n",
       "    </tr>\n",
       "    <tr>\n",
       "      <th>0.172149</th>\n",
       "      <td>0.445526</td>\n",
       "      <td>0.099813</td>\n",
       "      <td>0.086507</td>\n",
       "      <td>0.006677</td>\n",
       "      <td>0.084882</td>\n",
       "      <td>0.042026</td>\n",
       "      <td>0.851540</td>\n",
       "      <td>0.228541</td>\n",
       "      <td>0.039683</td>\n",
       "      <td>0.137715</td>\n",
       "      <td>...</td>\n",
       "      <td>0.058234</td>\n",
       "      <td>0.589866</td>\n",
       "      <td>0.479847</td>\n",
       "      <td>0.001533</td>\n",
       "      <td>0.027856</td>\n",
       "      <td>0.508242</td>\n",
       "      <td>0.071664</td>\n",
       "      <td>0.036218</td>\n",
       "      <td>0.007483</td>\n",
       "      <td>0.020714</td>\n",
       "    </tr>\n",
       "    <tr>\n",
       "      <th>0.196260</th>\n",
       "      <td>0.041741</td>\n",
       "      <td>0.025280</td>\n",
       "      <td>0.128039</td>\n",
       "      <td>0.216299</td>\n",
       "      <td>0.787666</td>\n",
       "      <td>0.013302</td>\n",
       "      <td>0.647031</td>\n",
       "      <td>0.555738</td>\n",
       "      <td>0.098519</td>\n",
       "      <td>0.111220</td>\n",
       "      <td>...</td>\n",
       "      <td>0.027242</td>\n",
       "      <td>0.688452</td>\n",
       "      <td>0.222127</td>\n",
       "      <td>0.010072</td>\n",
       "      <td>0.033423</td>\n",
       "      <td>0.345852</td>\n",
       "      <td>0.022306</td>\n",
       "      <td>0.030811</td>\n",
       "      <td>0.102845</td>\n",
       "      <td>0.109482</td>\n",
       "    </tr>\n",
       "    <tr>\n",
       "      <th>0.221546</th>\n",
       "      <td>0.085864</td>\n",
       "      <td>0.028745</td>\n",
       "      <td>0.011705</td>\n",
       "      <td>0.093327</td>\n",
       "      <td>0.089615</td>\n",
       "      <td>0.067089</td>\n",
       "      <td>0.981578</td>\n",
       "      <td>0.097025</td>\n",
       "      <td>0.138356</td>\n",
       "      <td>0.055248</td>\n",
       "      <td>...</td>\n",
       "      <td>0.196292</td>\n",
       "      <td>0.898436</td>\n",
       "      <td>0.322241</td>\n",
       "      <td>0.043249</td>\n",
       "      <td>0.024639</td>\n",
       "      <td>0.585155</td>\n",
       "      <td>0.062384</td>\n",
       "      <td>0.034018</td>\n",
       "      <td>0.035833</td>\n",
       "      <td>0.012553</td>\n",
       "    </tr>\n",
       "    <tr>\n",
       "      <th>0.247911</th>\n",
       "      <td>0.009973</td>\n",
       "      <td>0.103793</td>\n",
       "      <td>0.082778</td>\n",
       "      <td>0.126912</td>\n",
       "      <td>0.433213</td>\n",
       "      <td>0.038265</td>\n",
       "      <td>0.970588</td>\n",
       "      <td>0.072543</td>\n",
       "      <td>0.166850</td>\n",
       "      <td>0.236470</td>\n",
       "      <td>...</td>\n",
       "      <td>0.215628</td>\n",
       "      <td>0.343857</td>\n",
       "      <td>0.561786</td>\n",
       "      <td>0.075214</td>\n",
       "      <td>0.022668</td>\n",
       "      <td>0.473272</td>\n",
       "      <td>0.018418</td>\n",
       "      <td>0.030891</td>\n",
       "      <td>0.180447</td>\n",
       "      <td>0.099855</td>\n",
       "    </tr>\n",
       "    <tr>\n",
       "      <th>0.275253</th>\n",
       "      <td>0.006148</td>\n",
       "      <td>0.146909</td>\n",
       "      <td>0.027133</td>\n",
       "      <td>0.104100</td>\n",
       "      <td>0.557630</td>\n",
       "      <td>0.007566</td>\n",
       "      <td>0.723876</td>\n",
       "      <td>0.454636</td>\n",
       "      <td>0.041917</td>\n",
       "      <td>0.489147</td>\n",
       "      <td>...</td>\n",
       "      <td>0.339937</td>\n",
       "      <td>0.774762</td>\n",
       "      <td>0.288920</td>\n",
       "      <td>0.010093</td>\n",
       "      <td>0.045735</td>\n",
       "      <td>0.036689</td>\n",
       "      <td>0.011593</td>\n",
       "      <td>0.001521</td>\n",
       "      <td>0.081193</td>\n",
       "      <td>0.015804</td>\n",
       "    </tr>\n",
       "    <tr>\n",
       "      <th>0.303465</th>\n",
       "      <td>0.038759</td>\n",
       "      <td>0.007014</td>\n",
       "      <td>0.103960</td>\n",
       "      <td>0.167272</td>\n",
       "      <td>0.505693</td>\n",
       "      <td>0.024461</td>\n",
       "      <td>0.312381</td>\n",
       "      <td>0.198321</td>\n",
       "      <td>0.075932</td>\n",
       "      <td>0.077791</td>\n",
       "      <td>...</td>\n",
       "      <td>0.001167</td>\n",
       "      <td>0.991044</td>\n",
       "      <td>0.927381</td>\n",
       "      <td>0.009710</td>\n",
       "      <td>0.025551</td>\n",
       "      <td>0.098740</td>\n",
       "      <td>0.060996</td>\n",
       "      <td>0.142807</td>\n",
       "      <td>0.444564</td>\n",
       "      <td>0.125259</td>\n",
       "    </tr>\n",
       "    <tr>\n",
       "      <th>0.332438</th>\n",
       "      <td>0.081065</td>\n",
       "      <td>0.176573</td>\n",
       "      <td>0.284896</td>\n",
       "      <td>0.132825</td>\n",
       "      <td>0.955441</td>\n",
       "      <td>0.056471</td>\n",
       "      <td>0.692764</td>\n",
       "      <td>0.281462</td>\n",
       "      <td>0.192662</td>\n",
       "      <td>0.157835</td>\n",
       "      <td>...</td>\n",
       "      <td>0.062060</td>\n",
       "      <td>0.936917</td>\n",
       "      <td>0.644693</td>\n",
       "      <td>0.046519</td>\n",
       "      <td>0.122190</td>\n",
       "      <td>0.017260</td>\n",
       "      <td>0.010709</td>\n",
       "      <td>0.061823</td>\n",
       "      <td>0.752016</td>\n",
       "      <td>0.233146</td>\n",
       "    </tr>\n",
       "    <tr>\n",
       "      <th>0.362061</th>\n",
       "      <td>0.364306</td>\n",
       "      <td>0.588828</td>\n",
       "      <td>0.137952</td>\n",
       "      <td>0.112573</td>\n",
       "      <td>0.171547</td>\n",
       "      <td>0.016952</td>\n",
       "      <td>0.900237</td>\n",
       "      <td>0.656353</td>\n",
       "      <td>0.549803</td>\n",
       "      <td>0.367220</td>\n",
       "      <td>...</td>\n",
       "      <td>0.027592</td>\n",
       "      <td>0.834984</td>\n",
       "      <td>0.901389</td>\n",
       "      <td>0.045955</td>\n",
       "      <td>0.222613</td>\n",
       "      <td>0.051966</td>\n",
       "      <td>0.096386</td>\n",
       "      <td>0.163645</td>\n",
       "      <td>0.059112</td>\n",
       "      <td>0.648763</td>\n",
       "    </tr>\n",
       "    <tr>\n",
       "      <th>0.392219</th>\n",
       "      <td>0.644979</td>\n",
       "      <td>0.054623</td>\n",
       "      <td>0.018716</td>\n",
       "      <td>0.049151</td>\n",
       "      <td>0.349656</td>\n",
       "      <td>0.302983</td>\n",
       "      <td>0.967205</td>\n",
       "      <td>0.297691</td>\n",
       "      <td>0.772256</td>\n",
       "      <td>0.689545</td>\n",
       "      <td>...</td>\n",
       "      <td>0.447357</td>\n",
       "      <td>0.913567</td>\n",
       "      <td>0.917055</td>\n",
       "      <td>0.211931</td>\n",
       "      <td>0.105583</td>\n",
       "      <td>0.269238</td>\n",
       "      <td>0.021962</td>\n",
       "      <td>0.379903</td>\n",
       "      <td>0.572258</td>\n",
       "      <td>0.034039</td>\n",
       "    </tr>\n",
       "    <tr>\n",
       "      <th>0.422794</th>\n",
       "      <td>0.180618</td>\n",
       "      <td>0.068162</td>\n",
       "      <td>0.012116</td>\n",
       "      <td>0.185942</td>\n",
       "      <td>0.672790</td>\n",
       "      <td>0.013526</td>\n",
       "      <td>0.958367</td>\n",
       "      <td>0.496202</td>\n",
       "      <td>0.732414</td>\n",
       "      <td>0.300504</td>\n",
       "      <td>...</td>\n",
       "      <td>0.269791</td>\n",
       "      <td>0.951292</td>\n",
       "      <td>0.768250</td>\n",
       "      <td>0.009448</td>\n",
       "      <td>0.309233</td>\n",
       "      <td>0.864007</td>\n",
       "      <td>0.047701</td>\n",
       "      <td>0.507569</td>\n",
       "      <td>0.139060</td>\n",
       "      <td>0.320337</td>\n",
       "    </tr>\n",
       "    <tr>\n",
       "      <th>0.453670</th>\n",
       "      <td>0.233220</td>\n",
       "      <td>0.248725</td>\n",
       "      <td>0.066572</td>\n",
       "      <td>0.301685</td>\n",
       "      <td>0.978797</td>\n",
       "      <td>0.112100</td>\n",
       "      <td>0.901301</td>\n",
       "      <td>0.731166</td>\n",
       "      <td>0.461759</td>\n",
       "      <td>0.389785</td>\n",
       "      <td>...</td>\n",
       "      <td>0.814736</td>\n",
       "      <td>0.966140</td>\n",
       "      <td>0.992210</td>\n",
       "      <td>0.048961</td>\n",
       "      <td>0.185502</td>\n",
       "      <td>0.376258</td>\n",
       "      <td>0.185159</td>\n",
       "      <td>0.559059</td>\n",
       "      <td>0.676799</td>\n",
       "      <td>0.895390</td>\n",
       "    </tr>\n",
       "    <tr>\n",
       "      <th>0.484726</th>\n",
       "      <td>0.951107</td>\n",
       "      <td>0.624473</td>\n",
       "      <td>0.266837</td>\n",
       "      <td>0.254594</td>\n",
       "      <td>0.937392</td>\n",
       "      <td>0.050097</td>\n",
       "      <td>0.940438</td>\n",
       "      <td>0.528792</td>\n",
       "      <td>0.990293</td>\n",
       "      <td>0.756242</td>\n",
       "      <td>...</td>\n",
       "      <td>0.594815</td>\n",
       "      <td>0.974123</td>\n",
       "      <td>0.731134</td>\n",
       "      <td>0.152047</td>\n",
       "      <td>0.103186</td>\n",
       "      <td>0.495242</td>\n",
       "      <td>0.245718</td>\n",
       "      <td>0.429326</td>\n",
       "      <td>0.719188</td>\n",
       "      <td>0.964959</td>\n",
       "    </tr>\n",
       "    <tr>\n",
       "      <th>0.515842</th>\n",
       "      <td>0.618399</td>\n",
       "      <td>0.046882</td>\n",
       "      <td>0.835075</td>\n",
       "      <td>0.130112</td>\n",
       "      <td>0.610342</td>\n",
       "      <td>0.619892</td>\n",
       "      <td>0.966507</td>\n",
       "      <td>0.057185</td>\n",
       "      <td>0.531756</td>\n",
       "      <td>0.212884</td>\n",
       "      <td>...</td>\n",
       "      <td>0.826701</td>\n",
       "      <td>0.941640</td>\n",
       "      <td>0.729977</td>\n",
       "      <td>0.245970</td>\n",
       "      <td>0.317992</td>\n",
       "      <td>0.887368</td>\n",
       "      <td>0.050917</td>\n",
       "      <td>0.575923</td>\n",
       "      <td>0.909177</td>\n",
       "      <td>0.003250</td>\n",
       "    </tr>\n",
       "    <tr>\n",
       "      <th>0.546897</th>\n",
       "      <td>0.640625</td>\n",
       "      <td>0.632833</td>\n",
       "      <td>0.779684</td>\n",
       "      <td>0.532405</td>\n",
       "      <td>0.996668</td>\n",
       "      <td>0.433864</td>\n",
       "      <td>0.826415</td>\n",
       "      <td>0.191253</td>\n",
       "      <td>0.223449</td>\n",
       "      <td>0.523579</td>\n",
       "      <td>...</td>\n",
       "      <td>0.343817</td>\n",
       "      <td>0.954616</td>\n",
       "      <td>0.953377</td>\n",
       "      <td>0.021513</td>\n",
       "      <td>0.684069</td>\n",
       "      <td>0.978230</td>\n",
       "      <td>0.084863</td>\n",
       "      <td>0.711778</td>\n",
       "      <td>0.981852</td>\n",
       "      <td>0.648357</td>\n",
       "    </tr>\n",
       "    <tr>\n",
       "      <th>0.577773</th>\n",
       "      <td>0.824763</td>\n",
       "      <td>0.180209</td>\n",
       "      <td>0.660381</td>\n",
       "      <td>0.353830</td>\n",
       "      <td>0.990677</td>\n",
       "      <td>0.256042</td>\n",
       "      <td>0.954881</td>\n",
       "      <td>0.551543</td>\n",
       "      <td>0.850259</td>\n",
       "      <td>0.436341</td>\n",
       "      <td>...</td>\n",
       "      <td>0.941370</td>\n",
       "      <td>0.988894</td>\n",
       "      <td>0.929770</td>\n",
       "      <td>0.719437</td>\n",
       "      <td>0.923950</td>\n",
       "      <td>0.928202</td>\n",
       "      <td>0.027558</td>\n",
       "      <td>0.372903</td>\n",
       "      <td>0.744202</td>\n",
       "      <td>0.601785</td>\n",
       "    </tr>\n",
       "    <tr>\n",
       "      <th>0.608348</th>\n",
       "      <td>0.947971</td>\n",
       "      <td>0.084096</td>\n",
       "      <td>0.893408</td>\n",
       "      <td>0.855007</td>\n",
       "      <td>0.962355</td>\n",
       "      <td>0.412418</td>\n",
       "      <td>0.987439</td>\n",
       "      <td>0.192544</td>\n",
       "      <td>0.789261</td>\n",
       "      <td>0.699576</td>\n",
       "      <td>...</td>\n",
       "      <td>0.988804</td>\n",
       "      <td>0.999897</td>\n",
       "      <td>0.978698</td>\n",
       "      <td>0.033301</td>\n",
       "      <td>0.677161</td>\n",
       "      <td>0.883142</td>\n",
       "      <td>0.011314</td>\n",
       "      <td>0.653256</td>\n",
       "      <td>0.872372</td>\n",
       "      <td>0.963695</td>\n",
       "    </tr>\n",
       "    <tr>\n",
       "      <th>0.638506</th>\n",
       "      <td>0.980073</td>\n",
       "      <td>0.704098</td>\n",
       "      <td>0.663520</td>\n",
       "      <td>0.380816</td>\n",
       "      <td>0.183023</td>\n",
       "      <td>0.899088</td>\n",
       "      <td>0.959025</td>\n",
       "      <td>0.209387</td>\n",
       "      <td>0.962026</td>\n",
       "      <td>0.858303</td>\n",
       "      <td>...</td>\n",
       "      <td>0.973821</td>\n",
       "      <td>0.999495</td>\n",
       "      <td>0.998612</td>\n",
       "      <td>0.410408</td>\n",
       "      <td>0.836406</td>\n",
       "      <td>0.966496</td>\n",
       "      <td>0.023395</td>\n",
       "      <td>0.926719</td>\n",
       "      <td>0.998652</td>\n",
       "      <td>0.981774</td>\n",
       "    </tr>\n",
       "    <tr>\n",
       "      <th>0.668129</th>\n",
       "      <td>0.964844</td>\n",
       "      <td>0.832817</td>\n",
       "      <td>0.942546</td>\n",
       "      <td>0.723943</td>\n",
       "      <td>0.989059</td>\n",
       "      <td>0.899045</td>\n",
       "      <td>0.998258</td>\n",
       "      <td>0.411175</td>\n",
       "      <td>0.932884</td>\n",
       "      <td>0.973793</td>\n",
       "      <td>...</td>\n",
       "      <td>0.996089</td>\n",
       "      <td>0.999688</td>\n",
       "      <td>0.999598</td>\n",
       "      <td>0.437044</td>\n",
       "      <td>0.864334</td>\n",
       "      <td>0.867769</td>\n",
       "      <td>0.008743</td>\n",
       "      <td>0.937100</td>\n",
       "      <td>0.964657</td>\n",
       "      <td>0.990463</td>\n",
       "    </tr>\n",
       "    <tr>\n",
       "      <th>0.697102</th>\n",
       "      <td>0.928113</td>\n",
       "      <td>0.982064</td>\n",
       "      <td>0.986070</td>\n",
       "      <td>0.900471</td>\n",
       "      <td>0.987177</td>\n",
       "      <td>0.829604</td>\n",
       "      <td>0.999973</td>\n",
       "      <td>0.476317</td>\n",
       "      <td>0.986830</td>\n",
       "      <td>0.622877</td>\n",
       "      <td>...</td>\n",
       "      <td>0.995021</td>\n",
       "      <td>0.999972</td>\n",
       "      <td>0.999948</td>\n",
       "      <td>0.815507</td>\n",
       "      <td>0.940790</td>\n",
       "      <td>0.885017</td>\n",
       "      <td>0.015102</td>\n",
       "      <td>0.812649</td>\n",
       "      <td>0.999704</td>\n",
       "      <td>0.947432</td>\n",
       "    </tr>\n",
       "    <tr>\n",
       "      <th>0.725314</th>\n",
       "      <td>0.994135</td>\n",
       "      <td>0.878751</td>\n",
       "      <td>0.964717</td>\n",
       "      <td>0.964966</td>\n",
       "      <td>0.998871</td>\n",
       "      <td>0.979154</td>\n",
       "      <td>0.999724</td>\n",
       "      <td>0.085415</td>\n",
       "      <td>0.990541</td>\n",
       "      <td>0.919349</td>\n",
       "      <td>...</td>\n",
       "      <td>0.998010</td>\n",
       "      <td>0.999771</td>\n",
       "      <td>0.998853</td>\n",
       "      <td>0.785722</td>\n",
       "      <td>0.843023</td>\n",
       "      <td>0.997957</td>\n",
       "      <td>0.018480</td>\n",
       "      <td>0.331261</td>\n",
       "      <td>0.997762</td>\n",
       "      <td>0.996339</td>\n",
       "    </tr>\n",
       "    <tr>\n",
       "      <th>0.752656</th>\n",
       "      <td>0.981946</td>\n",
       "      <td>0.870481</td>\n",
       "      <td>0.976449</td>\n",
       "      <td>0.843419</td>\n",
       "      <td>0.993142</td>\n",
       "      <td>0.975220</td>\n",
       "      <td>0.999892</td>\n",
       "      <td>0.706841</td>\n",
       "      <td>0.998004</td>\n",
       "      <td>0.747218</td>\n",
       "      <td>...</td>\n",
       "      <td>0.997550</td>\n",
       "      <td>0.999963</td>\n",
       "      <td>0.999986</td>\n",
       "      <td>0.894790</td>\n",
       "      <td>0.968285</td>\n",
       "      <td>0.999111</td>\n",
       "      <td>0.004683</td>\n",
       "      <td>0.962399</td>\n",
       "      <td>0.999693</td>\n",
       "      <td>0.999749</td>\n",
       "    </tr>\n",
       "    <tr>\n",
       "      <th>0.779021</th>\n",
       "      <td>0.997734</td>\n",
       "      <td>0.867654</td>\n",
       "      <td>0.995161</td>\n",
       "      <td>0.790793</td>\n",
       "      <td>0.998929</td>\n",
       "      <td>0.937251</td>\n",
       "      <td>0.999936</td>\n",
       "      <td>0.015618</td>\n",
       "      <td>0.999966</td>\n",
       "      <td>0.989762</td>\n",
       "      <td>...</td>\n",
       "      <td>0.995812</td>\n",
       "      <td>0.999922</td>\n",
       "      <td>0.999947</td>\n",
       "      <td>0.635595</td>\n",
       "      <td>0.993102</td>\n",
       "      <td>0.993884</td>\n",
       "      <td>0.035843</td>\n",
       "      <td>0.950497</td>\n",
       "      <td>0.999992</td>\n",
       "      <td>0.998966</td>\n",
       "    </tr>\n",
       "    <tr>\n",
       "      <th>0.804307</th>\n",
       "      <td>0.860773</td>\n",
       "      <td>0.998014</td>\n",
       "      <td>0.972703</td>\n",
       "      <td>0.951657</td>\n",
       "      <td>0.967878</td>\n",
       "      <td>0.996979</td>\n",
       "      <td>0.999885</td>\n",
       "      <td>0.038938</td>\n",
       "      <td>0.999954</td>\n",
       "      <td>0.955697</td>\n",
       "      <td>...</td>\n",
       "      <td>0.996667</td>\n",
       "      <td>0.999913</td>\n",
       "      <td>0.999948</td>\n",
       "      <td>0.795467</td>\n",
       "      <td>0.992679</td>\n",
       "      <td>0.996694</td>\n",
       "      <td>0.860031</td>\n",
       "      <td>0.967312</td>\n",
       "      <td>0.992323</td>\n",
       "      <td>0.999805</td>\n",
       "    </tr>\n",
       "    <tr>\n",
       "      <th>0.828418</th>\n",
       "      <td>0.995555</td>\n",
       "      <td>0.775844</td>\n",
       "      <td>0.972927</td>\n",
       "      <td>0.999971</td>\n",
       "      <td>0.999402</td>\n",
       "      <td>0.998991</td>\n",
       "      <td>0.999814</td>\n",
       "      <td>0.219594</td>\n",
       "      <td>0.999820</td>\n",
       "      <td>0.967522</td>\n",
       "      <td>...</td>\n",
       "      <td>0.999976</td>\n",
       "      <td>0.999658</td>\n",
       "      <td>0.999730</td>\n",
       "      <td>0.934238</td>\n",
       "      <td>0.960881</td>\n",
       "      <td>0.992240</td>\n",
       "      <td>0.805690</td>\n",
       "      <td>0.991694</td>\n",
       "      <td>0.999961</td>\n",
       "      <td>0.999385</td>\n",
       "    </tr>\n",
       "    <tr>\n",
       "      <th>0.851259</th>\n",
       "      <td>0.999321</td>\n",
       "      <td>0.999052</td>\n",
       "      <td>0.997431</td>\n",
       "      <td>0.997869</td>\n",
       "      <td>0.999780</td>\n",
       "      <td>0.997572</td>\n",
       "      <td>0.999984</td>\n",
       "      <td>0.278249</td>\n",
       "      <td>0.999995</td>\n",
       "      <td>0.956825</td>\n",
       "      <td>...</td>\n",
       "      <td>0.999988</td>\n",
       "      <td>0.999941</td>\n",
       "      <td>0.999976</td>\n",
       "      <td>0.980515</td>\n",
       "      <td>0.986693</td>\n",
       "      <td>0.997688</td>\n",
       "      <td>0.468639</td>\n",
       "      <td>0.996395</td>\n",
       "      <td>0.998983</td>\n",
       "      <td>0.998671</td>\n",
       "    </tr>\n",
       "    <tr>\n",
       "      <th>0.872742</th>\n",
       "      <td>0.998420</td>\n",
       "      <td>0.997930</td>\n",
       "      <td>0.999895</td>\n",
       "      <td>0.999026</td>\n",
       "      <td>0.981988</td>\n",
       "      <td>0.997105</td>\n",
       "      <td>0.999997</td>\n",
       "      <td>0.524263</td>\n",
       "      <td>0.998299</td>\n",
       "      <td>0.968488</td>\n",
       "      <td>...</td>\n",
       "      <td>0.999138</td>\n",
       "      <td>0.999973</td>\n",
       "      <td>1.000000</td>\n",
       "      <td>0.998909</td>\n",
       "      <td>0.999868</td>\n",
       "      <td>0.996292</td>\n",
       "      <td>0.967533</td>\n",
       "      <td>0.980401</td>\n",
       "      <td>0.999889</td>\n",
       "      <td>0.999327</td>\n",
       "    </tr>\n",
       "    <tr>\n",
       "      <th>0.892784</th>\n",
       "      <td>0.997995</td>\n",
       "      <td>0.999415</td>\n",
       "      <td>0.999988</td>\n",
       "      <td>0.977193</td>\n",
       "      <td>0.999886</td>\n",
       "      <td>0.999356</td>\n",
       "      <td>0.999541</td>\n",
       "      <td>0.318846</td>\n",
       "      <td>0.999983</td>\n",
       "      <td>0.997373</td>\n",
       "      <td>...</td>\n",
       "      <td>0.999980</td>\n",
       "      <td>0.999975</td>\n",
       "      <td>0.999999</td>\n",
       "      <td>0.994069</td>\n",
       "      <td>0.999679</td>\n",
       "      <td>0.999954</td>\n",
       "      <td>0.951153</td>\n",
       "      <td>0.988473</td>\n",
       "      <td>0.999998</td>\n",
       "      <td>0.999718</td>\n",
       "    </tr>\n",
       "    <tr>\n",
       "      <th>0.911308</th>\n",
       "      <td>0.999005</td>\n",
       "      <td>0.999665</td>\n",
       "      <td>0.999975</td>\n",
       "      <td>0.990489</td>\n",
       "      <td>0.999454</td>\n",
       "      <td>0.997899</td>\n",
       "      <td>0.999989</td>\n",
       "      <td>0.021145</td>\n",
       "      <td>0.999089</td>\n",
       "      <td>0.997388</td>\n",
       "      <td>...</td>\n",
       "      <td>0.999987</td>\n",
       "      <td>0.999969</td>\n",
       "      <td>1.000000</td>\n",
       "      <td>0.992823</td>\n",
       "      <td>0.999668</td>\n",
       "      <td>0.999872</td>\n",
       "      <td>0.984989</td>\n",
       "      <td>0.983376</td>\n",
       "      <td>0.999992</td>\n",
       "      <td>0.999961</td>\n",
       "    </tr>\n",
       "    <tr>\n",
       "      <th>0.928241</th>\n",
       "      <td>0.999988</td>\n",
       "      <td>0.999808</td>\n",
       "      <td>0.999943</td>\n",
       "      <td>0.999838</td>\n",
       "      <td>0.999878</td>\n",
       "      <td>0.992385</td>\n",
       "      <td>0.999996</td>\n",
       "      <td>0.648763</td>\n",
       "      <td>0.998384</td>\n",
       "      <td>0.999092</td>\n",
       "      <td>...</td>\n",
       "      <td>0.999943</td>\n",
       "      <td>0.999961</td>\n",
       "      <td>1.000000</td>\n",
       "      <td>0.943320</td>\n",
       "      <td>0.999739</td>\n",
       "      <td>0.999837</td>\n",
       "      <td>0.938886</td>\n",
       "      <td>0.997865</td>\n",
       "      <td>0.999999</td>\n",
       "      <td>0.999836</td>\n",
       "    </tr>\n",
       "    <tr>\n",
       "      <th>0.943519</th>\n",
       "      <td>0.999831</td>\n",
       "      <td>0.999241</td>\n",
       "      <td>0.999995</td>\n",
       "      <td>0.999087</td>\n",
       "      <td>0.999942</td>\n",
       "      <td>0.998556</td>\n",
       "      <td>0.999962</td>\n",
       "      <td>0.290121</td>\n",
       "      <td>0.999995</td>\n",
       "      <td>0.999357</td>\n",
       "      <td>...</td>\n",
       "      <td>0.999997</td>\n",
       "      <td>0.999955</td>\n",
       "      <td>1.000000</td>\n",
       "      <td>0.962568</td>\n",
       "      <td>0.989477</td>\n",
       "      <td>0.999910</td>\n",
       "      <td>0.997611</td>\n",
       "      <td>0.981950</td>\n",
       "      <td>0.999999</td>\n",
       "      <td>0.999880</td>\n",
       "    </tr>\n",
       "    <tr>\n",
       "      <th>0.957082</th>\n",
       "      <td>0.999930</td>\n",
       "      <td>0.999662</td>\n",
       "      <td>0.999980</td>\n",
       "      <td>0.999934</td>\n",
       "      <td>0.999939</td>\n",
       "      <td>0.999613</td>\n",
       "      <td>0.999992</td>\n",
       "      <td>0.757322</td>\n",
       "      <td>0.999997</td>\n",
       "      <td>0.994862</td>\n",
       "      <td>...</td>\n",
       "      <td>0.999972</td>\n",
       "      <td>0.999987</td>\n",
       "      <td>1.000000</td>\n",
       "      <td>0.993866</td>\n",
       "      <td>0.999911</td>\n",
       "      <td>0.999890</td>\n",
       "      <td>0.997692</td>\n",
       "      <td>0.999333</td>\n",
       "      <td>0.999996</td>\n",
       "      <td>0.999981</td>\n",
       "    </tr>\n",
       "    <tr>\n",
       "      <th>0.968877</th>\n",
       "      <td>0.999990</td>\n",
       "      <td>0.999592</td>\n",
       "      <td>0.999996</td>\n",
       "      <td>0.999625</td>\n",
       "      <td>0.999777</td>\n",
       "      <td>0.997236</td>\n",
       "      <td>0.999995</td>\n",
       "      <td>0.078913</td>\n",
       "      <td>0.999995</td>\n",
       "      <td>0.996932</td>\n",
       "      <td>...</td>\n",
       "      <td>0.999999</td>\n",
       "      <td>0.999989</td>\n",
       "      <td>1.000000</td>\n",
       "      <td>0.993626</td>\n",
       "      <td>0.999765</td>\n",
       "      <td>0.999761</td>\n",
       "      <td>0.997779</td>\n",
       "      <td>0.999644</td>\n",
       "      <td>0.999999</td>\n",
       "      <td>0.999939</td>\n",
       "    </tr>\n",
       "    <tr>\n",
       "      <th>0.978860</th>\n",
       "      <td>0.999983</td>\n",
       "      <td>0.999675</td>\n",
       "      <td>0.999961</td>\n",
       "      <td>0.999985</td>\n",
       "      <td>0.999905</td>\n",
       "      <td>0.999755</td>\n",
       "      <td>0.999999</td>\n",
       "      <td>0.323397</td>\n",
       "      <td>0.999995</td>\n",
       "      <td>0.996898</td>\n",
       "      <td>...</td>\n",
       "      <td>1.000000</td>\n",
       "      <td>0.999988</td>\n",
       "      <td>1.000000</td>\n",
       "      <td>0.998659</td>\n",
       "      <td>0.999977</td>\n",
       "      <td>0.999945</td>\n",
       "      <td>0.997463</td>\n",
       "      <td>0.998954</td>\n",
       "      <td>1.000000</td>\n",
       "      <td>0.999905</td>\n",
       "    </tr>\n",
       "    <tr>\n",
       "      <th>0.986992</th>\n",
       "      <td>0.999988</td>\n",
       "      <td>0.999359</td>\n",
       "      <td>0.999996</td>\n",
       "      <td>0.999993</td>\n",
       "      <td>0.999931</td>\n",
       "      <td>0.999767</td>\n",
       "      <td>0.999999</td>\n",
       "      <td>0.378796</td>\n",
       "      <td>0.999997</td>\n",
       "      <td>0.997432</td>\n",
       "      <td>...</td>\n",
       "      <td>1.000000</td>\n",
       "      <td>0.999990</td>\n",
       "      <td>1.000000</td>\n",
       "      <td>0.999044</td>\n",
       "      <td>0.999973</td>\n",
       "      <td>0.999887</td>\n",
       "      <td>0.999395</td>\n",
       "      <td>0.999682</td>\n",
       "      <td>1.000000</td>\n",
       "      <td>0.999969</td>\n",
       "    </tr>\n",
       "    <tr>\n",
       "      <th>0.993240</th>\n",
       "      <td>0.999989</td>\n",
       "      <td>0.999534</td>\n",
       "      <td>0.999996</td>\n",
       "      <td>0.999993</td>\n",
       "      <td>0.999941</td>\n",
       "      <td>0.999822</td>\n",
       "      <td>0.999999</td>\n",
       "      <td>0.321555</td>\n",
       "      <td>0.999997</td>\n",
       "      <td>0.996309</td>\n",
       "      <td>...</td>\n",
       "      <td>0.999999</td>\n",
       "      <td>0.999991</td>\n",
       "      <td>1.000000</td>\n",
       "      <td>0.999042</td>\n",
       "      <td>0.999974</td>\n",
       "      <td>0.999849</td>\n",
       "      <td>0.999395</td>\n",
       "      <td>0.999712</td>\n",
       "      <td>1.000000</td>\n",
       "      <td>0.999976</td>\n",
       "    </tr>\n",
       "    <tr>\n",
       "      <th>0.997581</th>\n",
       "      <td>0.999988</td>\n",
       "      <td>0.999675</td>\n",
       "      <td>0.999998</td>\n",
       "      <td>0.999993</td>\n",
       "      <td>0.999941</td>\n",
       "      <td>0.999816</td>\n",
       "      <td>0.999999</td>\n",
       "      <td>0.324761</td>\n",
       "      <td>0.999997</td>\n",
       "      <td>0.996309</td>\n",
       "      <td>...</td>\n",
       "      <td>0.999999</td>\n",
       "      <td>0.999989</td>\n",
       "      <td>1.000000</td>\n",
       "      <td>0.999044</td>\n",
       "      <td>0.999975</td>\n",
       "      <td>0.999945</td>\n",
       "      <td>0.999395</td>\n",
       "      <td>0.999682</td>\n",
       "      <td>1.000000</td>\n",
       "      <td>0.999970</td>\n",
       "    </tr>\n",
       "    <tr>\n",
       "      <th>1.000000</th>\n",
       "      <td>0.999988</td>\n",
       "      <td>0.999675</td>\n",
       "      <td>0.999998</td>\n",
       "      <td>0.999993</td>\n",
       "      <td>0.999941</td>\n",
       "      <td>0.999796</td>\n",
       "      <td>0.999999</td>\n",
       "      <td>0.853913</td>\n",
       "      <td>0.999997</td>\n",
       "      <td>0.996309</td>\n",
       "      <td>...</td>\n",
       "      <td>0.999999</td>\n",
       "      <td>0.999989</td>\n",
       "      <td>1.000000</td>\n",
       "      <td>0.999044</td>\n",
       "      <td>0.999975</td>\n",
       "      <td>0.999937</td>\n",
       "      <td>0.999395</td>\n",
       "      <td>0.999682</td>\n",
       "      <td>1.000000</td>\n",
       "      <td>0.999970</td>\n",
       "    </tr>\n",
       "  </tbody>\n",
       "</table>\n",
       "<p>50 rows × 100 columns</p>\n",
       "</div>"
      ],
      "text/plain": [
       "           proba_0   proba_1   proba_2   proba_3   proba_4   proba_5  \\\n",
       "alphas                                                                 \n",
       "0.000567  0.086636  0.096039  0.088670  0.166834  0.359702  0.096039   \n",
       "0.002986  0.086636  0.080404  0.096970  0.166834  0.092816  0.096039   \n",
       "0.007327  0.061846  0.096039  0.095368  0.161179  0.156575  0.096039   \n",
       "0.013576  0.078964  0.054532  0.048552  0.166834  0.093734  0.045348   \n",
       "0.021707  0.034136  0.096039  0.067796  0.166834  0.018321  0.020738   \n",
       "0.031690  0.016148  0.020193  0.038840  0.120988  0.095595  0.051580   \n",
       "0.043485  0.062549  0.084977  0.039383  0.101327  0.012359  0.031385   \n",
       "0.057048  0.042750  0.031440  0.019508  0.045742  0.088357  0.046323   \n",
       "0.072326  0.017764  0.055530  0.096176  0.131339  0.060585  0.019651   \n",
       "0.089260  0.085575  0.023552  0.025538  0.068017  0.261876  0.096788   \n",
       "0.107783  0.034441  0.104259  0.006089  0.110506  0.086818  0.070330   \n",
       "0.127825  0.087433  0.018174  0.044313  0.129657  0.280544  0.016196   \n",
       "0.149308  0.203401  0.062398  0.001995  0.068438  0.072516  0.010158   \n",
       "0.172149  0.445526  0.099813  0.086507  0.006677  0.084882  0.042026   \n",
       "0.196260  0.041741  0.025280  0.128039  0.216299  0.787666  0.013302   \n",
       "0.221546  0.085864  0.028745  0.011705  0.093327  0.089615  0.067089   \n",
       "0.247911  0.009973  0.103793  0.082778  0.126912  0.433213  0.038265   \n",
       "0.275253  0.006148  0.146909  0.027133  0.104100  0.557630  0.007566   \n",
       "0.303465  0.038759  0.007014  0.103960  0.167272  0.505693  0.024461   \n",
       "0.332438  0.081065  0.176573  0.284896  0.132825  0.955441  0.056471   \n",
       "0.362061  0.364306  0.588828  0.137952  0.112573  0.171547  0.016952   \n",
       "0.392219  0.644979  0.054623  0.018716  0.049151  0.349656  0.302983   \n",
       "0.422794  0.180618  0.068162  0.012116  0.185942  0.672790  0.013526   \n",
       "0.453670  0.233220  0.248725  0.066572  0.301685  0.978797  0.112100   \n",
       "0.484726  0.951107  0.624473  0.266837  0.254594  0.937392  0.050097   \n",
       "0.515842  0.618399  0.046882  0.835075  0.130112  0.610342  0.619892   \n",
       "0.546897  0.640625  0.632833  0.779684  0.532405  0.996668  0.433864   \n",
       "0.577773  0.824763  0.180209  0.660381  0.353830  0.990677  0.256042   \n",
       "0.608348  0.947971  0.084096  0.893408  0.855007  0.962355  0.412418   \n",
       "0.638506  0.980073  0.704098  0.663520  0.380816  0.183023  0.899088   \n",
       "0.668129  0.964844  0.832817  0.942546  0.723943  0.989059  0.899045   \n",
       "0.697102  0.928113  0.982064  0.986070  0.900471  0.987177  0.829604   \n",
       "0.725314  0.994135  0.878751  0.964717  0.964966  0.998871  0.979154   \n",
       "0.752656  0.981946  0.870481  0.976449  0.843419  0.993142  0.975220   \n",
       "0.779021  0.997734  0.867654  0.995161  0.790793  0.998929  0.937251   \n",
       "0.804307  0.860773  0.998014  0.972703  0.951657  0.967878  0.996979   \n",
       "0.828418  0.995555  0.775844  0.972927  0.999971  0.999402  0.998991   \n",
       "0.851259  0.999321  0.999052  0.997431  0.997869  0.999780  0.997572   \n",
       "0.872742  0.998420  0.997930  0.999895  0.999026  0.981988  0.997105   \n",
       "0.892784  0.997995  0.999415  0.999988  0.977193  0.999886  0.999356   \n",
       "0.911308  0.999005  0.999665  0.999975  0.990489  0.999454  0.997899   \n",
       "0.928241  0.999988  0.999808  0.999943  0.999838  0.999878  0.992385   \n",
       "0.943519  0.999831  0.999241  0.999995  0.999087  0.999942  0.998556   \n",
       "0.957082  0.999930  0.999662  0.999980  0.999934  0.999939  0.999613   \n",
       "0.968877  0.999990  0.999592  0.999996  0.999625  0.999777  0.997236   \n",
       "0.978860  0.999983  0.999675  0.999961  0.999985  0.999905  0.999755   \n",
       "0.986992  0.999988  0.999359  0.999996  0.999993  0.999931  0.999767   \n",
       "0.993240  0.999989  0.999534  0.999996  0.999993  0.999941  0.999822   \n",
       "0.997581  0.999988  0.999675  0.999998  0.999993  0.999941  0.999816   \n",
       "1.000000  0.999988  0.999675  0.999998  0.999993  0.999941  0.999796   \n",
       "\n",
       "           proba_6   proba_7   proba_8   proba_9  ...  proba_90  proba_91  \\\n",
       "alphas                                            ...                       \n",
       "0.000567  0.115789  0.086827  0.099209  0.096039  ...  0.096970  0.094556   \n",
       "0.002986  0.056270  0.143193  0.099209  0.119111  ...  0.096970  0.112375   \n",
       "0.007327  0.112649  0.018605  0.099209  0.096039  ...  0.096970  0.094556   \n",
       "0.013576  0.411326  0.044425  0.104438  0.128492  ...  0.096782  0.181459   \n",
       "0.021707  0.149026  0.087180  0.096951  0.096039  ...  0.059767  0.480406   \n",
       "0.031690  0.453692  0.147446  0.118232  0.045924  ...  0.029320  0.104763   \n",
       "0.043485  0.210204  0.083778  0.027893  0.049805  ...  0.037337  0.026683   \n",
       "0.057048  0.165495  0.034292  0.133968  0.088433  ...  0.068689  0.132940   \n",
       "0.072326  0.483412  0.159662  0.093092  0.047310  ...  0.037116  0.574209   \n",
       "0.089260  0.560551  0.167659  0.153392  0.127830  ...  0.047302  0.655185   \n",
       "0.107783  0.208639  0.641247  0.066090  0.030438  ...  0.059498  0.041830   \n",
       "0.127825  0.222275  0.278685  0.069210  0.074922  ...  0.064877  0.599121   \n",
       "0.149308  0.332364  0.258927  0.198076  0.129999  ...  0.022198  0.459620   \n",
       "0.172149  0.851540  0.228541  0.039683  0.137715  ...  0.058234  0.589866   \n",
       "0.196260  0.647031  0.555738  0.098519  0.111220  ...  0.027242  0.688452   \n",
       "0.221546  0.981578  0.097025  0.138356  0.055248  ...  0.196292  0.898436   \n",
       "0.247911  0.970588  0.072543  0.166850  0.236470  ...  0.215628  0.343857   \n",
       "0.275253  0.723876  0.454636  0.041917  0.489147  ...  0.339937  0.774762   \n",
       "0.303465  0.312381  0.198321  0.075932  0.077791  ...  0.001167  0.991044   \n",
       "0.332438  0.692764  0.281462  0.192662  0.157835  ...  0.062060  0.936917   \n",
       "0.362061  0.900237  0.656353  0.549803  0.367220  ...  0.027592  0.834984   \n",
       "0.392219  0.967205  0.297691  0.772256  0.689545  ...  0.447357  0.913567   \n",
       "0.422794  0.958367  0.496202  0.732414  0.300504  ...  0.269791  0.951292   \n",
       "0.453670  0.901301  0.731166  0.461759  0.389785  ...  0.814736  0.966140   \n",
       "0.484726  0.940438  0.528792  0.990293  0.756242  ...  0.594815  0.974123   \n",
       "0.515842  0.966507  0.057185  0.531756  0.212884  ...  0.826701  0.941640   \n",
       "0.546897  0.826415  0.191253  0.223449  0.523579  ...  0.343817  0.954616   \n",
       "0.577773  0.954881  0.551543  0.850259  0.436341  ...  0.941370  0.988894   \n",
       "0.608348  0.987439  0.192544  0.789261  0.699576  ...  0.988804  0.999897   \n",
       "0.638506  0.959025  0.209387  0.962026  0.858303  ...  0.973821  0.999495   \n",
       "0.668129  0.998258  0.411175  0.932884  0.973793  ...  0.996089  0.999688   \n",
       "0.697102  0.999973  0.476317  0.986830  0.622877  ...  0.995021  0.999972   \n",
       "0.725314  0.999724  0.085415  0.990541  0.919349  ...  0.998010  0.999771   \n",
       "0.752656  0.999892  0.706841  0.998004  0.747218  ...  0.997550  0.999963   \n",
       "0.779021  0.999936  0.015618  0.999966  0.989762  ...  0.995812  0.999922   \n",
       "0.804307  0.999885  0.038938  0.999954  0.955697  ...  0.996667  0.999913   \n",
       "0.828418  0.999814  0.219594  0.999820  0.967522  ...  0.999976  0.999658   \n",
       "0.851259  0.999984  0.278249  0.999995  0.956825  ...  0.999988  0.999941   \n",
       "0.872742  0.999997  0.524263  0.998299  0.968488  ...  0.999138  0.999973   \n",
       "0.892784  0.999541  0.318846  0.999983  0.997373  ...  0.999980  0.999975   \n",
       "0.911308  0.999989  0.021145  0.999089  0.997388  ...  0.999987  0.999969   \n",
       "0.928241  0.999996  0.648763  0.998384  0.999092  ...  0.999943  0.999961   \n",
       "0.943519  0.999962  0.290121  0.999995  0.999357  ...  0.999997  0.999955   \n",
       "0.957082  0.999992  0.757322  0.999997  0.994862  ...  0.999972  0.999987   \n",
       "0.968877  0.999995  0.078913  0.999995  0.996932  ...  0.999999  0.999989   \n",
       "0.978860  0.999999  0.323397  0.999995  0.996898  ...  1.000000  0.999988   \n",
       "0.986992  0.999999  0.378796  0.999997  0.997432  ...  1.000000  0.999990   \n",
       "0.993240  0.999999  0.321555  0.999997  0.996309  ...  0.999999  0.999991   \n",
       "0.997581  0.999999  0.324761  0.999997  0.996309  ...  0.999999  0.999989   \n",
       "1.000000  0.999999  0.853913  0.999997  0.996309  ...  0.999999  0.999989   \n",
       "\n",
       "          proba_92  proba_93  proba_94  proba_95  proba_96  proba_97  \\\n",
       "alphas                                                                 \n",
       "0.000567  0.099209  0.096039  0.096039  0.084274  0.166834  0.096039   \n",
       "0.002986  0.100201  0.096039  0.096039  0.090718  0.166834  0.096039   \n",
       "0.007327  0.150035  0.063386  0.095991  0.102234  0.192868  0.098678   \n",
       "0.013576  0.081684  0.048225  0.044405  0.011420  0.226594  0.073724   \n",
       "0.021707  0.069910  0.046480  0.078384  0.013352  0.101923  0.010737   \n",
       "0.031690  0.146029  0.096039  0.135112  0.040984  0.146820  0.096160   \n",
       "0.043485  0.098653  0.070730  0.039466  0.084106  0.124457  0.027830   \n",
       "0.057048  0.096130  0.016574  0.018699  0.112330  0.060649  0.051370   \n",
       "0.072326  0.055465  0.012736  0.011144  0.040156  0.098898  0.107069   \n",
       "0.089260  0.135126  0.018886  0.025599  0.039497  0.111112  0.021002   \n",
       "0.107783  0.118011  0.014847  0.012735  0.603066  0.065221  0.021272   \n",
       "0.127825  0.061460  0.060482  0.063047  0.162426  0.035526  0.034739   \n",
       "0.149308  0.017305  0.028712  0.026551  0.225041  0.107970  0.125630   \n",
       "0.172149  0.479847  0.001533  0.027856  0.508242  0.071664  0.036218   \n",
       "0.196260  0.222127  0.010072  0.033423  0.345852  0.022306  0.030811   \n",
       "0.221546  0.322241  0.043249  0.024639  0.585155  0.062384  0.034018   \n",
       "0.247911  0.561786  0.075214  0.022668  0.473272  0.018418  0.030891   \n",
       "0.275253  0.288920  0.010093  0.045735  0.036689  0.011593  0.001521   \n",
       "0.303465  0.927381  0.009710  0.025551  0.098740  0.060996  0.142807   \n",
       "0.332438  0.644693  0.046519  0.122190  0.017260  0.010709  0.061823   \n",
       "0.362061  0.901389  0.045955  0.222613  0.051966  0.096386  0.163645   \n",
       "0.392219  0.917055  0.211931  0.105583  0.269238  0.021962  0.379903   \n",
       "0.422794  0.768250  0.009448  0.309233  0.864007  0.047701  0.507569   \n",
       "0.453670  0.992210  0.048961  0.185502  0.376258  0.185159  0.559059   \n",
       "0.484726  0.731134  0.152047  0.103186  0.495242  0.245718  0.429326   \n",
       "0.515842  0.729977  0.245970  0.317992  0.887368  0.050917  0.575923   \n",
       "0.546897  0.953377  0.021513  0.684069  0.978230  0.084863  0.711778   \n",
       "0.577773  0.929770  0.719437  0.923950  0.928202  0.027558  0.372903   \n",
       "0.608348  0.978698  0.033301  0.677161  0.883142  0.011314  0.653256   \n",
       "0.638506  0.998612  0.410408  0.836406  0.966496  0.023395  0.926719   \n",
       "0.668129  0.999598  0.437044  0.864334  0.867769  0.008743  0.937100   \n",
       "0.697102  0.999948  0.815507  0.940790  0.885017  0.015102  0.812649   \n",
       "0.725314  0.998853  0.785722  0.843023  0.997957  0.018480  0.331261   \n",
       "0.752656  0.999986  0.894790  0.968285  0.999111  0.004683  0.962399   \n",
       "0.779021  0.999947  0.635595  0.993102  0.993884  0.035843  0.950497   \n",
       "0.804307  0.999948  0.795467  0.992679  0.996694  0.860031  0.967312   \n",
       "0.828418  0.999730  0.934238  0.960881  0.992240  0.805690  0.991694   \n",
       "0.851259  0.999976  0.980515  0.986693  0.997688  0.468639  0.996395   \n",
       "0.872742  1.000000  0.998909  0.999868  0.996292  0.967533  0.980401   \n",
       "0.892784  0.999999  0.994069  0.999679  0.999954  0.951153  0.988473   \n",
       "0.911308  1.000000  0.992823  0.999668  0.999872  0.984989  0.983376   \n",
       "0.928241  1.000000  0.943320  0.999739  0.999837  0.938886  0.997865   \n",
       "0.943519  1.000000  0.962568  0.989477  0.999910  0.997611  0.981950   \n",
       "0.957082  1.000000  0.993866  0.999911  0.999890  0.997692  0.999333   \n",
       "0.968877  1.000000  0.993626  0.999765  0.999761  0.997779  0.999644   \n",
       "0.978860  1.000000  0.998659  0.999977  0.999945  0.997463  0.998954   \n",
       "0.986992  1.000000  0.999044  0.999973  0.999887  0.999395  0.999682   \n",
       "0.993240  1.000000  0.999042  0.999974  0.999849  0.999395  0.999712   \n",
       "0.997581  1.000000  0.999044  0.999975  0.999945  0.999395  0.999682   \n",
       "1.000000  1.000000  0.999044  0.999975  0.999937  0.999395  0.999682   \n",
       "\n",
       "          proba_98  proba_99  \n",
       "alphas                        \n",
       "0.000567  0.099209  0.066422  \n",
       "0.002986  0.099209  0.047449  \n",
       "0.007327  0.091459  0.058393  \n",
       "0.013576  0.099209  0.066422  \n",
       "0.021707  0.154169  0.032840  \n",
       "0.031690  0.054866  0.003706  \n",
       "0.043485  0.091521  0.030785  \n",
       "0.057048  0.133594  0.030675  \n",
       "0.072326  0.124902  0.004483  \n",
       "0.089260  0.079199  0.023296  \n",
       "0.107783  0.128898  0.049890  \n",
       "0.127825  0.170407  0.006628  \n",
       "0.149308  0.228326  0.001144  \n",
       "0.172149  0.007483  0.020714  \n",
       "0.196260  0.102845  0.109482  \n",
       "0.221546  0.035833  0.012553  \n",
       "0.247911  0.180447  0.099855  \n",
       "0.275253  0.081193  0.015804  \n",
       "0.303465  0.444564  0.125259  \n",
       "0.332438  0.752016  0.233146  \n",
       "0.362061  0.059112  0.648763  \n",
       "0.392219  0.572258  0.034039  \n",
       "0.422794  0.139060  0.320337  \n",
       "0.453670  0.676799  0.895390  \n",
       "0.484726  0.719188  0.964959  \n",
       "0.515842  0.909177  0.003250  \n",
       "0.546897  0.981852  0.648357  \n",
       "0.577773  0.744202  0.601785  \n",
       "0.608348  0.872372  0.963695  \n",
       "0.638506  0.998652  0.981774  \n",
       "0.668129  0.964657  0.990463  \n",
       "0.697102  0.999704  0.947432  \n",
       "0.725314  0.997762  0.996339  \n",
       "0.752656  0.999693  0.999749  \n",
       "0.779021  0.999992  0.998966  \n",
       "0.804307  0.992323  0.999805  \n",
       "0.828418  0.999961  0.999385  \n",
       "0.851259  0.998983  0.998671  \n",
       "0.872742  0.999889  0.999327  \n",
       "0.892784  0.999998  0.999718  \n",
       "0.911308  0.999992  0.999961  \n",
       "0.928241  0.999999  0.999836  \n",
       "0.943519  0.999999  0.999880  \n",
       "0.957082  0.999996  0.999981  \n",
       "0.968877  0.999999  0.999939  \n",
       "0.978860  1.000000  0.999905  \n",
       "0.986992  1.000000  0.999969  \n",
       "0.993240  1.000000  0.999976  \n",
       "0.997581  1.000000  0.999970  \n",
       "1.000000  1.000000  0.999970  \n",
       "\n",
       "[50 rows x 100 columns]"
      ]
     },
     "execution_count": 453,
     "metadata": {},
     "output_type": "execute_result"
    }
   ],
   "source": [
    "df_perm"
   ]
  },
  {
   "cell_type": "code",
   "execution_count": null,
   "metadata": {},
   "outputs": [],
   "source": []
  },
  {
   "cell_type": "markdown",
   "metadata": {},
   "source": [
    "# Cifar"
   ]
  },
  {
   "cell_type": "code",
   "execution_count": 544,
   "metadata": {},
   "outputs": [
    {
     "name": "stdout",
     "output_type": "stream",
     "text": [
      "(50000, 32, 32, 3) (50000, 10) (10000, 32, 32, 3) (10000, 10)\n"
     ]
    }
   ],
   "source": [
    "train, test = tf.keras.datasets.cifar10.load_data()\n",
    "X_train, labels_train = train\n",
    "X_test, labels_test = test\n",
    "labels_train, labels_test = labels_train.flatten(), labels_test.flatten()\n",
    "if model_arch == 'conv':\n",
    "    X_train = X_train.reshape(-1, 32, 32, 3).astype('float64') / 255\n",
    "    X_test = X_test.reshape(-1, 32, 32, 3).astype('float64') / 255\n",
    "    y_train = to_categorical(labels_train, 10)\n",
    "    y_test = to_categorical(labels_test, 10)\n",
    "elif model_arch == 'ff':\n",
    "    X_train = X_train.reshape(-1, 32 * 32 * 3).astype('float64') / 255\n",
    "    X_test = X_test.reshape(-1, 32 * 32 * 3).astype('float64') / 255\n",
    "    y_train = to_categorical(labels_train, 10)\n",
    "    y_test = to_categorical(labels_test, 10)\n",
    "print(X_train.shape, y_train.shape, X_test.shape, y_test.shape)"
   ]
  },
  {
   "cell_type": "code",
   "execution_count": 545,
   "metadata": {},
   "outputs": [],
   "source": [
    "model_arch = 'conv'\n",
    "load_tf_model = True"
   ]
  },
  {
   "cell_type": "code",
   "execution_count": 546,
   "metadata": {},
   "outputs": [],
   "source": [
    "filepath = './model_{}_cifar/'.format(model_arch)#change to directory where model is downloaded\n",
    "\n",
    "if load_tf_model:\n",
    "    model = tf.keras.models.load_model(os.path.join(filepath, 'model_{}.h5'.format(model_arch)))\n",
    "else:\n",
    "    # define model\n",
    "    model = define_model(X_train, model_arch, nb_classes=10)\n",
    "    # train model\n",
    "    model.fit(X_train,\n",
    "              y_train,\n",
    "              epochs=10,\n",
    "              batch_size=256,\n",
    "              verbose=2,\n",
    "              validation_data=(X_test, y_test)\n",
    "              )\n",
    "    if not os.path.exists(filepath):\n",
    "        os.makedirs(filepath)\n",
    "    model.save(os.path.join(filepath, 'model_{}.h5'.format(model_arch)))\n",
    "    #model.save_weights(os.path.join(filepath, 'model.ckpt'))"
   ]
  },
  {
   "cell_type": "code",
   "execution_count": 547,
   "metadata": {},
   "outputs": [],
   "source": [
    "i = 11\n",
    "n_samples = 100\n",
    "x = X_test[i: i + n_samples]\n",
    "label = labels_test[i: i + n_samples]\n",
    "#label"
   ]
  },
  {
   "cell_type": "code",
   "execution_count": 548,
   "metadata": {},
   "outputs": [],
   "source": [
    "#plt.imshow(np.squeeze(x))"
   ]
  },
  {
   "cell_type": "code",
   "execution_count": 550,
   "metadata": {},
   "outputs": [
    {
     "name": "stdout",
     "output_type": "stream",
     "text": [
      "(50, 100)\n"
     ]
    }
   ],
   "source": [
    "df_inter_preds, df_inter_lins, paths = plot_saturation_curve(x, label, 50, model, batch_size=500, how='interpolation')"
   ]
  },
  {
   "cell_type": "code",
   "execution_count": 551,
   "metadata": {},
   "outputs": [
    {
     "name": "stdout",
     "output_type": "stream",
     "text": [
      "(50, 100)\n"
     ]
    }
   ],
   "source": [
    "df_perm_preds, df_perm_lins, paths = plot_saturation_curve(x, label, 50, model, batch_size=500, how='random_feats')"
   ]
  },
  {
   "cell_type": "code",
   "execution_count": 552,
   "metadata": {},
   "outputs": [
    {
     "name": "stdout",
     "output_type": "stream",
     "text": [
      "(50, 100)\n"
     ]
    }
   ],
   "source": [
    "df_noperm_preds, df_noperm_lins, paths = plot_saturation_curve(x, label, 50, model, batch_size=500, how='random_feats', permute=False)"
   ]
  },
  {
   "cell_type": "markdown",
   "metadata": {},
   "source": [
    "# Resnet imagenet"
   ]
  },
  {
   "cell_type": "code",
   "execution_count": 223,
   "metadata": {},
   "outputs": [
    {
     "name": "stdout",
     "output_type": "stream",
     "text": [
      "Images shape: (10, 224, 224, 3)\n"
     ]
    }
   ],
   "source": [
    "category = 'Persian cat'\n",
    "image_shape = (224, 224, 3)\n",
    "data, labels = fetch_imagenet(category, nb_images=10, target_size=image_shape[:2], seed=2, return_X_y=True)\n",
    "data = data / 255\n",
    "print('Images shape: {}'.format(data.shape))"
   ]
  },
  {
   "cell_type": "code",
   "execution_count": 224,
   "metadata": {},
   "outputs": [],
   "source": [
    "model = ResNet50V2(weights='imagenet')"
   ]
  },
  {
   "cell_type": "code",
   "execution_count": 233,
   "metadata": {},
   "outputs": [
    {
     "data": {
      "text/plain": [
       "283"
      ]
     },
     "execution_count": 233,
     "metadata": {},
     "output_type": "execute_result"
    }
   ],
   "source": [
    "i = 7\n",
    "x = data[i: i + 1]\n",
    "label = labels[i]\n",
    "label"
   ]
  },
  {
   "cell_type": "code",
   "execution_count": null,
   "metadata": {},
   "outputs": [],
   "source": []
  },
  {
   "cell_type": "code",
   "execution_count": 234,
   "metadata": {},
   "outputs": [
    {
     "name": "stdout",
     "output_type": "stream",
     "text": [
      "(50, 224, 224, 3)\n"
     ]
    },
    {
     "data": {
      "image/png": "[encoded data removed]",
      "text/plain": [
       "<Figure size 432x288 with 1 Axes>"
      ]
     },
     "metadata": {
      "needs_background": "light"
     },
     "output_type": "display_data"
    }
   ],
   "source": [
    "alphas, paths = plot_saturation_curve(x, label, 50, model, how='interpolation')"
   ]
  },
  {
   "cell_type": "code",
   "execution_count": 235,
   "metadata": {},
   "outputs": [
    {
     "name": "stdout",
     "output_type": "stream",
     "text": [
      "(51, 224, 224, 3)\n"
     ]
    },
    {
     "data": {
      "image/png": "[encoded data removed]",
      "text/plain": [
       "<Figure size 432x288 with 1 Axes>"
      ]
     },
     "metadata": {
      "needs_background": "light"
     },
     "output_type": "display_data"
    }
   ],
   "source": [
    "alphas, paths = plot_saturation_curve(x, label, 50, model, how='random_feats')"
   ]
  },
  {
   "cell_type": "code",
   "execution_count": 236,
   "metadata": {},
   "outputs": [
    {
     "name": "stdout",
     "output_type": "stream",
     "text": [
      "(51, 224, 224, 3)\n"
     ]
    },
    {
     "data": {
      "image/png": "[encoded data removed]",
      "text/plain": [
       "<Figure size 432x288 with 1 Axes>"
      ]
     },
     "metadata": {
      "needs_background": "light"
     },
     "output_type": "display_data"
    }
   ],
   "source": [
    "alphas, paths = plot_saturation_curve(x, label, 50, model, how='random_feats', permute=False)"
   ]
  },
  {
   "cell_type": "code",
   "execution_count": null,
   "metadata": {},
   "outputs": [],
   "source": []
  },
  {
   "cell_type": "code",
   "execution_count": null,
   "metadata": {},
   "outputs": [],
   "source": []
  },
  {
   "cell_type": "code",
   "execution_count": 51,
   "metadata": {},
   "outputs": [],
   "source": [
    "from functools import reduce"
   ]
  },
  {
   "cell_type": "code",
   "execution_count": 56,
   "metadata": {},
   "outputs": [],
   "source": [
    "tot_feats = reduce(lambda x, y: x * y, list(x.shape))"
   ]
  },
  {
   "cell_type": "code",
   "execution_count": 60,
   "metadata": {},
   "outputs": [],
   "source": [
    "step_size = int(tot_feats / 50)"
   ]
  },
  {
   "cell_type": "code",
   "execution_count": 67,
   "metadata": {},
   "outputs": [],
   "source": [
    "i = 1\n",
    "alpha = np.random.permutation(np.concatenate((np.ones(i * step_size), np.zeros(tot_feats - i * step_size)))).reshape(x.shape)"
   ]
  },
  {
   "cell_type": "code",
   "execution_count": 69,
   "metadata": {},
   "outputs": [
    {
     "data": {
      "text/plain": [
       "array([[[[0.        , 0.        , 0.        ],\n",
       "         [0.        , 0.        , 0.        ],\n",
       "         [0.        , 0.10588235, 0.        ],\n",
       "         ...,\n",
       "         [0.        , 0.        , 0.        ],\n",
       "         [0.        , 0.        , 0.        ],\n",
       "         [0.        , 0.        , 0.        ]],\n",
       "\n",
       "        [[0.        , 0.        , 0.        ],\n",
       "         [0.        , 0.        , 0.        ],\n",
       "         [0.        , 0.        , 0.        ],\n",
       "         ...,\n",
       "         [0.        , 0.        , 0.        ],\n",
       "         [0.        , 0.        , 0.        ],\n",
       "         [0.        , 0.        , 0.        ]],\n",
       "\n",
       "        [[0.        , 0.        , 0.        ],\n",
       "         [0.        , 0.        , 0.        ],\n",
       "         [0.        , 0.        , 0.        ],\n",
       "         ...,\n",
       "         [0.        , 0.        , 0.        ],\n",
       "         [0.        , 0.        , 0.        ],\n",
       "         [0.        , 0.        , 0.        ]],\n",
       "\n",
       "        ...,\n",
       "\n",
       "        [[0.        , 0.        , 0.        ],\n",
       "         [0.        , 0.        , 0.        ],\n",
       "         [0.        , 0.        , 0.        ],\n",
       "         ...,\n",
       "         [0.        , 0.        , 0.        ],\n",
       "         [0.        , 0.        , 0.        ],\n",
       "         [0.        , 0.        , 0.        ]],\n",
       "\n",
       "        [[0.        , 0.        , 0.16470588],\n",
       "         [0.        , 0.        , 0.        ],\n",
       "         [0.        , 0.        , 0.        ],\n",
       "         ...,\n",
       "         [0.        , 0.        , 0.        ],\n",
       "         [0.        , 0.        , 0.        ],\n",
       "         [0.        , 0.        , 0.        ]],\n",
       "\n",
       "        [[0.        , 0.        , 0.        ],\n",
       "         [0.        , 0.        , 0.        ],\n",
       "         [0.        , 0.        , 0.        ],\n",
       "         ...,\n",
       "         [0.        , 0.        , 0.        ],\n",
       "         [0.        , 0.        , 0.        ],\n",
       "         [0.        , 0.        , 0.        ]]]])"
      ]
     },
     "execution_count": 69,
     "metadata": {},
     "output_type": "execute_result"
    }
   ],
   "source": [
    "alpha * x"
   ]
  },
  {
   "cell_type": "code",
   "execution_count": null,
   "metadata": {
    "scrolled": false
   },
   "outputs": [],
   "source": [
    "for i in np.arange(0, 50, 5):\n",
    "    alpha = alphas[i]\n",
    "    print(alpha)\n",
    "    plt.imshow(paths[i])\n",
    "    plt.show()"
   ]
  },
  {
   "cell_type": "code",
   "execution_count": null,
   "metadata": {},
   "outputs": [],
   "source": []
  }
 ],
 "metadata": {
  "kernelspec": {
   "display_name": "Python [conda env:tf115]",
   "language": "python",
   "name": "conda-env-tf115-py"
  },
  "language_info": {
   "codemirror_mode": {
    "name": "ipython",
    "version": 3
   },
   "file_extension": ".py",
   "mimetype": "text/x-python",
   "name": "python",
   "nbconvert_exporter": "python",
   "pygments_lexer": "ipython3",
   "version": "3.7.6"
  }
 },
 "nbformat": 4,
 "nbformat_minor": 4
}
