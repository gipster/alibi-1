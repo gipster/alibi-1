{
 "cells": [
  {
   "cell_type": "code",
   "execution_count": 1,
   "metadata": {},
   "outputs": [
    {
     "name": "stdout",
     "output_type": "stream",
     "text": [
      "1.14.1-dev20190327\n"
     ]
    }
   ],
   "source": [
    "import tensorflow as tf\n",
    "print(tf.__version__)\n",
    "import sys\n",
    "sys.path.append('../alibi/explainers/counterfactual/')\n",
    "import pandas as pd\n",
    "import numpy as np\n",
    "from scipy.spatial.distance import cityblock\n",
    "from scipy.optimize import minimize\n",
    "from sklearn import svm, datasets\n",
    "from sklearn.model_selection import cross_val_score\n",
    "import counterfactuals\n",
    "from matplotlib.pyplot import imshow\n",
    "import importlib\n",
    "%matplotlib inline"
   ]
  },
  {
   "cell_type": "code",
   "execution_count": null,
   "metadata": {},
   "outputs": [],
   "source": []
  },
  {
   "cell_type": "markdown",
   "metadata": {},
   "source": [
    "# Iris"
   ]
  },
  {
   "cell_type": "code",
   "execution_count": 2,
   "metadata": {},
   "outputs": [
    {
     "data": {
      "text/plain": [
       "SVC(C=1.0, cache_size=200, class_weight=None, coef0=0.0,\n",
       "  decision_function_shape='ovr', degree=3, gamma='scale', kernel='rbf',\n",
       "  max_iter=-1, probability=True, random_state=None, shrinking=True,\n",
       "  tol=0.001, verbose=False)"
      ]
     },
     "execution_count": 2,
     "metadata": {},
     "output_type": "execute_result"
    }
   ],
   "source": [
    "iris = datasets.load_iris()\n",
    "X_train, y_train = iris.data, iris.target\n",
    "clf = svm.SVC(gamma='scale',probability=True)\n",
    "clf.fit(X_train,y_train)"
   ]
  },
  {
   "cell_type": "code",
   "execution_count": 3,
   "metadata": {},
   "outputs": [],
   "source": [
    "X=X_train[42:43]"
   ]
  },
  {
   "cell_type": "code",
   "execution_count": 4,
   "metadata": {},
   "outputs": [
    {
     "data": {
      "text/plain": [
       "array([[0.97743677, 0.01176178, 0.01080145]])"
      ]
     },
     "execution_count": 4,
     "metadata": {},
     "output_type": "execute_result"
    }
   ],
   "source": [
    "clf.predict_proba(X)"
   ]
  },
  {
   "cell_type": "code",
   "execution_count": 5,
   "metadata": {},
   "outputs": [],
   "source": [
    "pred_class=clf.predict_proba(X).argmax()"
   ]
  },
  {
   "cell_type": "code",
   "execution_count": 6,
   "metadata": {},
   "outputs": [
    {
     "data": {
      "text/plain": [
       "0"
      ]
     },
     "execution_count": 6,
     "metadata": {},
     "output_type": "execute_result"
    }
   ],
   "source": [
    "pred_class"
   ]
  },
  {
   "cell_type": "code",
   "execution_count": 7,
   "metadata": {},
   "outputs": [],
   "source": [
    "initial_instace = np.random.permutation(X_train)[0]"
   ]
  },
  {
   "cell_type": "code",
   "execution_count": 8,
   "metadata": {},
   "outputs": [
    {
     "data": {
      "text/plain": [
       "(4,)"
      ]
     },
     "execution_count": 8,
     "metadata": {},
     "output_type": "execute_result"
    }
   ],
   "source": [
    "initial_instace.flatten().shape"
   ]
  },
  {
   "cell_type": "code",
   "execution_count": 9,
   "metadata": {},
   "outputs": [
    {
     "data": {
      "text/plain": [
       "(4,)"
      ]
     },
     "execution_count": 9,
     "metadata": {},
     "output_type": "execute_result"
    }
   ],
   "source": [
    "initial_instace.flatten().shape"
   ]
  },
  {
   "cell_type": "markdown",
   "metadata": {},
   "source": [
    "# Mnist"
   ]
  },
  {
   "cell_type": "code",
   "execution_count": 10,
   "metadata": {},
   "outputs": [],
   "source": [
    "import tensorflow as tf\n",
    "(x_train, y_train), (x_test, y_test) = tf.keras.datasets.mnist.load_data()"
   ]
  },
  {
   "cell_type": "code",
   "execution_count": 11,
   "metadata": {},
   "outputs": [
    {
     "data": {
      "text/plain": [
       "<matplotlib.image.AxesImage at 0x1a32660978>"
      ]
     },
     "execution_count": 11,
     "metadata": {},
     "output_type": "execute_result"
    },
    {
     "data": {
      "image/png": "[encoded data removed]",
      "text/plain": [
       "<Figure size 432x288 with 1 Axes>"
      ]
     },
     "metadata": {
      "needs_background": "light"
     },
     "output_type": "display_data"
    }
   ],
   "source": [
    "imshow(x_train[0],cmap='Greys')"
   ]
  },
  {
   "cell_type": "code",
   "execution_count": 12,
   "metadata": {},
   "outputs": [
    {
     "name": "stdout",
     "output_type": "stream",
     "text": [
      "x_train shape: (60000, 28, 28, 1)\n",
      "Number of images in x_train 60000\n",
      "Number of images in x_test 10000\n"
     ]
    },
    {
     "data": {
      "text/plain": [
       "(1, 28, 28, 1)"
      ]
     },
     "execution_count": 12,
     "metadata": {},
     "output_type": "execute_result"
    }
   ],
   "source": [
    "x_train = x_train.reshape(x_train.shape[0], 28, 28, 1)\n",
    "x_test = x_test.reshape(x_test.shape[0], 28, 28, 1)\n",
    "input_shape = (28, 28, 1)\n",
    "# Making sure that the values are float so that we can get decimal points after division\n",
    "x_train = x_train.astype('float32')\n",
    "x_test = x_test.astype('float32')\n",
    "# Normalizing the RGB codes by dividing it to the max RGB value.\n",
    "x_train /= 255\n",
    "x_test /= 255\n",
    "print('x_train shape:', x_train.shape)\n",
    "print('Number of images in x_train', x_train.shape[0])\n",
    "print('Number of images in x_test', x_test.shape[0])\n",
    "initial_instace = np.random.permutation(x_train)[:1]\n",
    "initial_instace.shape"
   ]
  },
  {
   "cell_type": "code",
   "execution_count": null,
   "metadata": {},
   "outputs": [],
   "source": []
  },
  {
   "cell_type": "code",
   "execution_count": 13,
   "metadata": {},
   "outputs": [
    {
     "name": "stderr",
     "output_type": "stream",
     "text": [
      "WARNING: Logging before flag parsing goes to stderr.\n",
      "W0402 16:43:51.024849 140735836812160 deprecation.py:506] From /Users/Gigio/anaconda3/lib/python3.7/site-packages/tensorflow/python/ops/init_ops.py:1257: calling VarianceScaling.__init__ (from tensorflow.python.ops.init_ops) with dtype is deprecated and will be removed in a future version.\n",
      "Instructions for updating:\n",
      "Call initializer instance with the dtype argument instead of passing it to the constructor\n"
     ]
    }
   ],
   "source": [
    "#from keras import backend as K\n",
    "#from keras.utils import to_categorical\n",
    "#from keras.models import Model\n",
    "#from keras.layers import Dense, Reshape, Flatten, Input, Dropout\n",
    "#from keras.layers.core import Activation\n",
    "#from keras.layers.convolutional import Conv2D\n",
    "#from keras.layers.normalization import BatchNormalization\n",
    "#from keras.optimizers import Adam, RMSprop, SGD\n",
    "#from keras.layers.pooling import GlobalAveragePooling2D,MaxPooling2D\n",
    "#from keras.losses import categorical_crossentropy\n",
    "\n",
    "input = tf.keras.Input(shape=(28,28,1),name='input_part')\n",
    "out=tf.keras.layers.Conv2D(32, (5, 5), activation='relu')(input)\n",
    "out=tf.keras.layers.MaxPooling2D(pool_size=(2, 2))(out)\n",
    "out=tf.keras.layers.Dropout(0.2)(out)\n",
    "out=tf.keras.layers.Flatten()(out)\n",
    "out=tf.keras.layers.Dense(128, activation='relu')(out)\n",
    "out=tf.keras.layers.Dense(10,activation='softmax')(out)\n",
    "\n",
    "model = tf.keras.Model(input, out)\n",
    "\n",
    "model.compile(loss='categorical_crossentropy', optimizer='adam', metrics=['accuracy'])"
   ]
  },
  {
   "cell_type": "code",
   "execution_count": 14,
   "metadata": {},
   "outputs": [
    {
     "name": "stdout",
     "output_type": "stream",
     "text": [
      "Epoch 1/2\n",
      "60000/60000 [==============================] - 15s 249us/sample - loss: 0.1517 - acc: 0.9548\n",
      "Epoch 2/2\n",
      "60000/60000 [==============================] - 17s 276us/sample - loss: 0.0547 - acc: 0.9835\n"
     ]
    },
    {
     "data": {
      "text/plain": [
       "<tensorflow.python.keras.callbacks.History at 0x1a330ff4e0>"
      ]
     },
     "execution_count": 14,
     "metadata": {},
     "output_type": "execute_result"
    }
   ],
   "source": [
    "model.fit(x_train,tf.keras.utils.to_categorical(y_train),epochs=2)"
   ]
  },
  {
   "cell_type": "markdown",
   "metadata": {},
   "source": [
    "# Minimization"
   ]
  },
  {
   "cell_type": "code",
   "execution_count": 15,
   "metadata": {},
   "outputs": [
    {
     "name": "stdout",
     "output_type": "stream",
     "text": [
      "False\n",
      "False\n",
      "False\n",
      "False\n",
      "False\n",
      "False\n",
      "False\n"
     ]
    }
   ],
   "source": [
    "for layer in model.layers:\n",
    "    layer.trainable=False\n",
    "    print(layer.trainable)"
   ]
  },
  {
   "cell_type": "code",
   "execution_count": 16,
   "metadata": {},
   "outputs": [],
   "source": [
    "_lam=1\n",
    "pred_class=0\n",
    "target_probability=0.5"
   ]
  },
  {
   "cell_type": "code",
   "execution_count": 17,
   "metadata": {},
   "outputs": [
    {
     "data": {
      "text/plain": [
       "array([[1.0821414e-07, 4.2472368e-07, 5.2352925e-07, 2.7912642e-05,\n",
       "        4.9559949e-05, 3.6116423e-06, 6.7935951e-10, 5.5396446e-04,\n",
       "        5.3786043e-05, 9.9931002e-01]], dtype=float32)"
      ]
     },
     "execution_count": 17,
     "metadata": {},
     "output_type": "execute_result"
    }
   ],
   "source": [
    "model.predict(initial_instace)"
   ]
  },
  {
   "cell_type": "code",
   "execution_count": 18,
   "metadata": {},
   "outputs": [],
   "source": [
    "def my_fun(x):\n",
    "    return 0.9"
   ]
  },
  {
   "cell_type": "code",
   "execution_count": 26,
   "metadata": {},
   "outputs": [
    {
     "name": "stdout",
     "output_type": "stream",
     "text": [
      "[(<tf.Tensor 'truediv_7:0' shape=<unknown> dtype=float32>, <tf.Variable 'cf_7:0' shape=(1, 28, 28, 1) dtype=float32_ref>)]\n"
     ]
    },
    {
     "ename": "UnknownError",
     "evalue": "RuntimeError: The Session graph is empty.  Add operations to the graph before calling run().\nTraceback (most recent call last):\n\n  File \"/Users/Gigio/anaconda3/lib/python3.7/site-packages/tensorflow/python/ops/script_ops.py\", line 207, in __call__\n    ret = func(*args)\n\n  File \"/Users/Gigio/anaconda3/lib/python3.7/site-packages/tensorflow/python/keras/engine/training.py\", line 1167, in predict\n    callbacks=callbacks)\n\n  File \"/Users/Gigio/anaconda3/lib/python3.7/site-packages/tensorflow/python/keras/engine/training_arrays.py\", line 239, in model_iteration\n    model.reset_metrics()\n\n  File \"/Users/Gigio/anaconda3/lib/python3.7/site-packages/tensorflow/python/keras/engine/training.py\", line 1173, in reset_metrics\n    m.reset_states()\n\n  File \"/Users/Gigio/anaconda3/lib/python3.7/site-packages/tensorflow/python/keras/metrics.py\", line 200, in reset_states\n    K.batch_set_value([(v, 0) for v in self.variables])\n\n  File \"/Users/Gigio/anaconda3/lib/python3.7/site-packages/tensorflow/python/keras/backend.py\", line 2919, in batch_set_value\n    get_session().run(assign_ops, feed_dict=feed_dict)\n\n  File \"/Users/Gigio/anaconda3/lib/python3.7/site-packages/tensorflow/python/client/session.py\", line 932, in run\n    run_metadata_ptr)\n\n  File \"/Users/Gigio/anaconda3/lib/python3.7/site-packages/tensorflow/python/client/session.py\", line 1080, in _run\n    raise RuntimeError('The Session graph is empty.  Add operations to the '\n\nRuntimeError: The Session graph is empty.  Add operations to the graph before calling run().\n\n\n\t [[node PyFunc_22 (defined at <ipython-input-26-fe94593fe82c>:19) ]]\n\nOriginal stack trace for 'PyFunc_22':\n  File \"/Users/Gigio/anaconda3/lib/python3.7/runpy.py\", line 193, in _run_module_as_main\n    \"__main__\", mod_spec)\n  File \"/Users/Gigio/anaconda3/lib/python3.7/runpy.py\", line 85, in _run_code\n    exec(code, run_globals)\n  File \"/Users/Gigio/anaconda3/lib/python3.7/site-packages/ipykernel_launcher.py\", line 16, in <module>\n    app.launch_new_instance()\n  File \"/Users/Gigio/anaconda3/lib/python3.7/site-packages/traitlets/config/application.py\", line 658, in launch_instance\n    app.start()\n  File \"/Users/Gigio/anaconda3/lib/python3.7/site-packages/ipykernel/kernelapp.py\", line 505, in start\n    self.io_loop.start()\n  File \"/Users/Gigio/anaconda3/lib/python3.7/site-packages/tornado/platform/asyncio.py\", line 132, in start\n    self.asyncio_loop.run_forever()\n  File \"/Users/Gigio/anaconda3/lib/python3.7/asyncio/base_events.py\", line 528, in run_forever\n    self._run_once()\n  File \"/Users/Gigio/anaconda3/lib/python3.7/asyncio/base_events.py\", line 1764, in _run_once\n    handle._run()\n  File \"/Users/Gigio/anaconda3/lib/python3.7/asyncio/events.py\", line 88, in _run\n    self._context.run(self._callback, *self._args)\n  File \"/Users/Gigio/anaconda3/lib/python3.7/site-packages/tornado/ioloop.py\", line 758, in _run_callback\n    ret = callback()\n  File \"/Users/Gigio/anaconda3/lib/python3.7/site-packages/tornado/stack_context.py\", line 300, in null_wrapper\n    return fn(*args, **kwargs)\n  File \"/Users/Gigio/anaconda3/lib/python3.7/site-packages/tornado/gen.py\", line 1233, in inner\n    self.run()\n  File \"/Users/Gigio/anaconda3/lib/python3.7/site-packages/tornado/gen.py\", line 1147, in run\n    yielded = self.gen.send(value)\n  File \"/Users/Gigio/anaconda3/lib/python3.7/site-packages/ipykernel/kernelbase.py\", line 357, in process_one\n    yield gen.maybe_future(dispatch(*args))\n  File \"/Users/Gigio/anaconda3/lib/python3.7/site-packages/tornado/gen.py\", line 326, in wrapper\n    yielded = next(result)\n  File \"/Users/Gigio/anaconda3/lib/python3.7/site-packages/ipykernel/kernelbase.py\", line 267, in dispatch_shell\n    yield gen.maybe_future(handler(stream, idents, msg))\n  File \"/Users/Gigio/anaconda3/lib/python3.7/site-packages/tornado/gen.py\", line 326, in wrapper\n    yielded = next(result)\n  File \"/Users/Gigio/anaconda3/lib/python3.7/site-packages/ipykernel/kernelbase.py\", line 534, in execute_request\n    user_expressions, allow_stdin,\n  File \"/Users/Gigio/anaconda3/lib/python3.7/site-packages/tornado/gen.py\", line 326, in wrapper\n    yielded = next(result)\n  File \"/Users/Gigio/anaconda3/lib/python3.7/site-packages/ipykernel/ipkernel.py\", line 294, in do_execute\n    res = shell.run_cell(code, store_history=store_history, silent=silent)\n  File \"/Users/Gigio/anaconda3/lib/python3.7/site-packages/ipykernel/zmqshell.py\", line 536, in run_cell\n    return super(ZMQInteractiveShell, self).run_cell(*args, **kwargs)\n  File \"/Users/Gigio/anaconda3/lib/python3.7/site-packages/IPython/core/interactiveshell.py\", line 2819, in run_cell\n    raw_cell, store_history, silent, shell_futures)\n  File \"/Users/Gigio/anaconda3/lib/python3.7/site-packages/IPython/core/interactiveshell.py\", line 2845, in _run_cell\n    return runner(coro)\n  File \"/Users/Gigio/anaconda3/lib/python3.7/site-packages/IPython/core/async_helpers.py\", line 67, in _pseudo_sync_runner\n    coro.send(None)\n  File \"/Users/Gigio/anaconda3/lib/python3.7/site-packages/IPython/core/interactiveshell.py\", line 3020, in run_cell_async\n    interactivity=interactivity, compiler=compiler, result=result)\n  File \"/Users/Gigio/anaconda3/lib/python3.7/site-packages/IPython/core/interactiveshell.py\", line 3185, in run_ast_nodes\n    if (yield from self.run_code(code, result)):\n  File \"/Users/Gigio/anaconda3/lib/python3.7/site-packages/IPython/core/interactiveshell.py\", line 3267, in run_code\n    exec(code_obj, self.user_global_ns, self.user_ns)\n  File \"<ipython-input-26-fe94593fe82c>\", line 19, in <module>\n    gradient_x = (tf.py_func(model.predict,[x+1e-10],(tf.float32))[0] - tf.py_func(model.predict,[x-1e-10],(tf.float32))[0]) / (2*1e-10)\n  File \"/Users/Gigio/anaconda3/lib/python3.7/site-packages/tensorflow/python/util/deprecation.py\", line 324, in new_func\n    return func(*args, **kwargs)\n  File \"/Users/Gigio/anaconda3/lib/python3.7/site-packages/tensorflow/python/ops/script_ops.py\", line 476, in py_func\n    return py_func_common(func, inp, Tout, stateful, name=name)\n  File \"/Users/Gigio/anaconda3/lib/python3.7/site-packages/tensorflow/python/ops/script_ops.py\", line 458, in py_func_common\n    func=func, inp=inp, Tout=Tout, stateful=stateful, eager=False, name=name)\n  File \"/Users/Gigio/anaconda3/lib/python3.7/site-packages/tensorflow/python/ops/script_ops.py\", line 282, in _internal_py_func\n    input=inp, token=token, Tout=Tout, name=name)\n  File \"/Users/Gigio/anaconda3/lib/python3.7/site-packages/tensorflow/python/ops/gen_script_ops.py\", line 159, in py_func\n    \"PyFunc\", input=input, token=token, Tout=Tout, name=name)\n  File \"/Users/Gigio/anaconda3/lib/python3.7/site-packages/tensorflow/python/framework/op_def_library.py\", line 788, in _apply_op_helper\n    op_def=op_def)\n  File \"/Users/Gigio/anaconda3/lib/python3.7/site-packages/tensorflow/python/util/deprecation.py\", line 507, in new_func\n    return func(*args, **kwargs)\n  File \"/Users/Gigio/anaconda3/lib/python3.7/site-packages/tensorflow/python/framework/ops.py\", line 3537, in create_op\n    op_def=op_def)\n  File \"/Users/Gigio/anaconda3/lib/python3.7/site-packages/tensorflow/python/framework/ops.py\", line 1961, in __init__\n    self._traceback = tf_stack.extract_stack()\n",
     "output_type": "error",
     "traceback": [
      "\u001b[0;31m---------------------------------------------------------------------------\u001b[0m",
      "\u001b[0;31mUnknownError\u001b[0m                              Traceback (most recent call last)",
      "\u001b[0;32m~/anaconda3/lib/python3.7/site-packages/tensorflow/python/client/session.py\u001b[0m in \u001b[0;36m_do_call\u001b[0;34m(self, fn, *args)\u001b[0m\n\u001b[1;32m   1336\u001b[0m     \u001b[0;32mtry\u001b[0m\u001b[0;34m:\u001b[0m\u001b[0;34m\u001b[0m\u001b[0;34m\u001b[0m\u001b[0m\n\u001b[0;32m-> 1337\u001b[0;31m       \u001b[0;32mreturn\u001b[0m \u001b[0mfn\u001b[0m\u001b[0;34m(\u001b[0m\u001b[0;34m*\u001b[0m\u001b[0margs\u001b[0m\u001b[0;34m)\u001b[0m\u001b[0;34m\u001b[0m\u001b[0;34m\u001b[0m\u001b[0m\n\u001b[0m\u001b[1;32m   1338\u001b[0m     \u001b[0;32mexcept\u001b[0m \u001b[0merrors\u001b[0m\u001b[0;34m.\u001b[0m\u001b[0mOpError\u001b[0m \u001b[0;32mas\u001b[0m \u001b[0me\u001b[0m\u001b[0;34m:\u001b[0m\u001b[0;34m\u001b[0m\u001b[0;34m\u001b[0m\u001b[0m\n",
      "\u001b[0;32m~/anaconda3/lib/python3.7/site-packages/tensorflow/python/client/session.py\u001b[0m in \u001b[0;36m_run_fn\u001b[0;34m(feed_dict, fetch_list, target_list, options, run_metadata)\u001b[0m\n\u001b[1;32m   1321\u001b[0m       return self._call_tf_sessionrun(\n\u001b[0;32m-> 1322\u001b[0;31m           options, feed_dict, fetch_list, target_list, run_metadata)\n\u001b[0m\u001b[1;32m   1323\u001b[0m \u001b[0;34m\u001b[0m\u001b[0m\n",
      "\u001b[0;32m~/anaconda3/lib/python3.7/site-packages/tensorflow/python/client/session.py\u001b[0m in \u001b[0;36m_call_tf_sessionrun\u001b[0;34m(self, options, feed_dict, fetch_list, target_list, run_metadata)\u001b[0m\n\u001b[1;32m   1409\u001b[0m         \u001b[0mself\u001b[0m\u001b[0;34m.\u001b[0m\u001b[0m_session\u001b[0m\u001b[0;34m,\u001b[0m \u001b[0moptions\u001b[0m\u001b[0;34m,\u001b[0m \u001b[0mfeed_dict\u001b[0m\u001b[0;34m,\u001b[0m \u001b[0mfetch_list\u001b[0m\u001b[0;34m,\u001b[0m \u001b[0mtarget_list\u001b[0m\u001b[0;34m,\u001b[0m\u001b[0;34m\u001b[0m\u001b[0;34m\u001b[0m\u001b[0m\n\u001b[0;32m-> 1410\u001b[0;31m         run_metadata)\n\u001b[0m\u001b[1;32m   1411\u001b[0m \u001b[0;34m\u001b[0m\u001b[0m\n",
      "\u001b[0;31mUnknownError\u001b[0m: RuntimeError: The Session graph is empty.  Add operations to the graph before calling run().\nTraceback (most recent call last):\n\n  File \"/Users/Gigio/anaconda3/lib/python3.7/site-packages/tensorflow/python/ops/script_ops.py\", line 207, in __call__\n    ret = func(*args)\n\n  File \"/Users/Gigio/anaconda3/lib/python3.7/site-packages/tensorflow/python/keras/engine/training.py\", line 1167, in predict\n    callbacks=callbacks)\n\n  File \"/Users/Gigio/anaconda3/lib/python3.7/site-packages/tensorflow/python/keras/engine/training_arrays.py\", line 239, in model_iteration\n    model.reset_metrics()\n\n  File \"/Users/Gigio/anaconda3/lib/python3.7/site-packages/tensorflow/python/keras/engine/training.py\", line 1173, in reset_metrics\n    m.reset_states()\n\n  File \"/Users/Gigio/anaconda3/lib/python3.7/site-packages/tensorflow/python/keras/metrics.py\", line 200, in reset_states\n    K.batch_set_value([(v, 0) for v in self.variables])\n\n  File \"/Users/Gigio/anaconda3/lib/python3.7/site-packages/tensorflow/python/keras/backend.py\", line 2919, in batch_set_value\n    get_session().run(assign_ops, feed_dict=feed_dict)\n\n  File \"/Users/Gigio/anaconda3/lib/python3.7/site-packages/tensorflow/python/client/session.py\", line 932, in run\n    run_metadata_ptr)\n\n  File \"/Users/Gigio/anaconda3/lib/python3.7/site-packages/tensorflow/python/client/session.py\", line 1080, in _run\n    raise RuntimeError('The Session graph is empty.  Add operations to the '\n\nRuntimeError: The Session graph is empty.  Add operations to the graph before calling run().\n\n\n\t [[{{node PyFunc_22}}]]",
      "\nDuring handling of the above exception, another exception occurred:\n",
      "\u001b[0;31mUnknownError\u001b[0m                              Traceback (most recent call last)",
      "\u001b[0;32m<ipython-input-26-fe94593fe82c>\u001b[0m in \u001b[0;36m<module>\u001b[0;34m\u001b[0m\n\u001b[1;32m     33\u001b[0m     \u001b[0;31m#print(sess.run(out_2,feed_dict))\u001b[0m\u001b[0;34m\u001b[0m\u001b[0;34m\u001b[0m\u001b[0;34m\u001b[0m\u001b[0m\n\u001b[1;32m     34\u001b[0m     \u001b[0;32mfor\u001b[0m \u001b[0mi\u001b[0m \u001b[0;32min\u001b[0m \u001b[0mrange\u001b[0m\u001b[0;34m(\u001b[0m\u001b[0;36m1000\u001b[0m\u001b[0;34m)\u001b[0m\u001b[0;34m:\u001b[0m\u001b[0;34m\u001b[0m\u001b[0;34m\u001b[0m\u001b[0m\n\u001b[0;32m---> 35\u001b[0;31m         \u001b[0msess\u001b[0m\u001b[0;34m.\u001b[0m\u001b[0mrun\u001b[0m\u001b[0;34m(\u001b[0m\u001b[0;34m[\u001b[0m\u001b[0mopt_op\u001b[0m\u001b[0;34m]\u001b[0m\u001b[0;34m,\u001b[0m\u001b[0mfeed_dict\u001b[0m\u001b[0;34m)\u001b[0m\u001b[0;34m\u001b[0m\u001b[0;34m\u001b[0m\u001b[0m\n\u001b[0m\u001b[1;32m     36\u001b[0m     \u001b[0mprint\u001b[0m\u001b[0;34m(\u001b[0m\u001b[0msess\u001b[0m\u001b[0;34m.\u001b[0m\u001b[0mrun\u001b[0m\u001b[0;34m(\u001b[0m\u001b[0mout_2\u001b[0m\u001b[0;34m,\u001b[0m\u001b[0mfeed_dict\u001b[0m\u001b[0;34m)\u001b[0m\u001b[0;34m)\u001b[0m\u001b[0;34m\u001b[0m\u001b[0;34m\u001b[0m\u001b[0m\n",
      "\u001b[0;32m~/anaconda3/lib/python3.7/site-packages/tensorflow/python/client/session.py\u001b[0m in \u001b[0;36mrun\u001b[0;34m(self, fetches, feed_dict, options, run_metadata)\u001b[0m\n\u001b[1;32m    930\u001b[0m     \u001b[0;32mtry\u001b[0m\u001b[0;34m:\u001b[0m\u001b[0;34m\u001b[0m\u001b[0;34m\u001b[0m\u001b[0m\n\u001b[1;32m    931\u001b[0m       result = self._run(None, fetches, feed_dict, options_ptr,\n\u001b[0;32m--> 932\u001b[0;31m                          run_metadata_ptr)\n\u001b[0m\u001b[1;32m    933\u001b[0m       \u001b[0;32mif\u001b[0m \u001b[0mrun_metadata\u001b[0m\u001b[0;34m:\u001b[0m\u001b[0;34m\u001b[0m\u001b[0;34m\u001b[0m\u001b[0m\n\u001b[1;32m    934\u001b[0m         \u001b[0mproto_data\u001b[0m \u001b[0;34m=\u001b[0m \u001b[0mtf_session\u001b[0m\u001b[0;34m.\u001b[0m\u001b[0mTF_GetBuffer\u001b[0m\u001b[0;34m(\u001b[0m\u001b[0mrun_metadata_ptr\u001b[0m\u001b[0;34m)\u001b[0m\u001b[0;34m\u001b[0m\u001b[0;34m\u001b[0m\u001b[0m\n",
      "\u001b[0;32m~/anaconda3/lib/python3.7/site-packages/tensorflow/python/client/session.py\u001b[0m in \u001b[0;36m_run\u001b[0;34m(self, handle, fetches, feed_dict, options, run_metadata)\u001b[0m\n\u001b[1;32m   1153\u001b[0m     \u001b[0;32mif\u001b[0m \u001b[0mfinal_fetches\u001b[0m \u001b[0;32mor\u001b[0m \u001b[0mfinal_targets\u001b[0m \u001b[0;32mor\u001b[0m \u001b[0;34m(\u001b[0m\u001b[0mhandle\u001b[0m \u001b[0;32mand\u001b[0m \u001b[0mfeed_dict_tensor\u001b[0m\u001b[0;34m)\u001b[0m\u001b[0;34m:\u001b[0m\u001b[0;34m\u001b[0m\u001b[0;34m\u001b[0m\u001b[0m\n\u001b[1;32m   1154\u001b[0m       results = self._do_run(handle, final_targets, final_fetches,\n\u001b[0;32m-> 1155\u001b[0;31m                              feed_dict_tensor, options, run_metadata)\n\u001b[0m\u001b[1;32m   1156\u001b[0m     \u001b[0;32melse\u001b[0m\u001b[0;34m:\u001b[0m\u001b[0;34m\u001b[0m\u001b[0;34m\u001b[0m\u001b[0m\n\u001b[1;32m   1157\u001b[0m       \u001b[0mresults\u001b[0m \u001b[0;34m=\u001b[0m \u001b[0;34m[\u001b[0m\u001b[0;34m]\u001b[0m\u001b[0;34m\u001b[0m\u001b[0;34m\u001b[0m\u001b[0m\n",
      "\u001b[0;32m~/anaconda3/lib/python3.7/site-packages/tensorflow/python/client/session.py\u001b[0m in \u001b[0;36m_do_run\u001b[0;34m(self, handle, target_list, fetch_list, feed_dict, options, run_metadata)\u001b[0m\n\u001b[1;32m   1329\u001b[0m     \u001b[0;32mif\u001b[0m \u001b[0mhandle\u001b[0m \u001b[0;32mis\u001b[0m \u001b[0;32mNone\u001b[0m\u001b[0;34m:\u001b[0m\u001b[0;34m\u001b[0m\u001b[0;34m\u001b[0m\u001b[0m\n\u001b[1;32m   1330\u001b[0m       return self._do_call(_run_fn, feeds, fetches, targets, options,\n\u001b[0;32m-> 1331\u001b[0;31m                            run_metadata)\n\u001b[0m\u001b[1;32m   1332\u001b[0m     \u001b[0;32melse\u001b[0m\u001b[0;34m:\u001b[0m\u001b[0;34m\u001b[0m\u001b[0;34m\u001b[0m\u001b[0m\n\u001b[1;32m   1333\u001b[0m       \u001b[0;32mreturn\u001b[0m \u001b[0mself\u001b[0m\u001b[0;34m.\u001b[0m\u001b[0m_do_call\u001b[0m\u001b[0;34m(\u001b[0m\u001b[0m_prun_fn\u001b[0m\u001b[0;34m,\u001b[0m \u001b[0mhandle\u001b[0m\u001b[0;34m,\u001b[0m \u001b[0mfeeds\u001b[0m\u001b[0;34m,\u001b[0m \u001b[0mfetches\u001b[0m\u001b[0;34m)\u001b[0m\u001b[0;34m\u001b[0m\u001b[0;34m\u001b[0m\u001b[0m\n",
      "\u001b[0;32m~/anaconda3/lib/python3.7/site-packages/tensorflow/python/client/session.py\u001b[0m in \u001b[0;36m_do_call\u001b[0;34m(self, fn, *args)\u001b[0m\n\u001b[1;32m   1349\u001b[0m           \u001b[0;32mpass\u001b[0m\u001b[0;34m\u001b[0m\u001b[0;34m\u001b[0m\u001b[0m\n\u001b[1;32m   1350\u001b[0m       \u001b[0mmessage\u001b[0m \u001b[0;34m=\u001b[0m \u001b[0merror_interpolation\u001b[0m\u001b[0;34m.\u001b[0m\u001b[0minterpolate\u001b[0m\u001b[0;34m(\u001b[0m\u001b[0mmessage\u001b[0m\u001b[0;34m,\u001b[0m \u001b[0mself\u001b[0m\u001b[0;34m.\u001b[0m\u001b[0m_graph\u001b[0m\u001b[0;34m)\u001b[0m\u001b[0;34m\u001b[0m\u001b[0;34m\u001b[0m\u001b[0m\n\u001b[0;32m-> 1351\u001b[0;31m       \u001b[0;32mraise\u001b[0m \u001b[0mtype\u001b[0m\u001b[0;34m(\u001b[0m\u001b[0me\u001b[0m\u001b[0;34m)\u001b[0m\u001b[0;34m(\u001b[0m\u001b[0mnode_def\u001b[0m\u001b[0;34m,\u001b[0m \u001b[0mop\u001b[0m\u001b[0;34m,\u001b[0m \u001b[0mmessage\u001b[0m\u001b[0;34m)\u001b[0m\u001b[0;34m\u001b[0m\u001b[0;34m\u001b[0m\u001b[0m\n\u001b[0m\u001b[1;32m   1352\u001b[0m \u001b[0;34m\u001b[0m\u001b[0m\n\u001b[1;32m   1353\u001b[0m   \u001b[0;32mdef\u001b[0m \u001b[0m_extend_graph\u001b[0m\u001b[0;34m(\u001b[0m\u001b[0mself\u001b[0m\u001b[0;34m)\u001b[0m\u001b[0;34m:\u001b[0m\u001b[0;34m\u001b[0m\u001b[0;34m\u001b[0m\u001b[0m\n",
      "\u001b[0;31mUnknownError\u001b[0m: RuntimeError: The Session graph is empty.  Add operations to the graph before calling run().\nTraceback (most recent call last):\n\n  File \"/Users/Gigio/anaconda3/lib/python3.7/site-packages/tensorflow/python/ops/script_ops.py\", line 207, in __call__\n    ret = func(*args)\n\n  File \"/Users/Gigio/anaconda3/lib/python3.7/site-packages/tensorflow/python/keras/engine/training.py\", line 1167, in predict\n    callbacks=callbacks)\n\n  File \"/Users/Gigio/anaconda3/lib/python3.7/site-packages/tensorflow/python/keras/engine/training_arrays.py\", line 239, in model_iteration\n    model.reset_metrics()\n\n  File \"/Users/Gigio/anaconda3/lib/python3.7/site-packages/tensorflow/python/keras/engine/training.py\", line 1173, in reset_metrics\n    m.reset_states()\n\n  File \"/Users/Gigio/anaconda3/lib/python3.7/site-packages/tensorflow/python/keras/metrics.py\", line 200, in reset_states\n    K.batch_set_value([(v, 0) for v in self.variables])\n\n  File \"/Users/Gigio/anaconda3/lib/python3.7/site-packages/tensorflow/python/keras/backend.py\", line 2919, in batch_set_value\n    get_session().run(assign_ops, feed_dict=feed_dict)\n\n  File \"/Users/Gigio/anaconda3/lib/python3.7/site-packages/tensorflow/python/client/session.py\", line 932, in run\n    run_metadata_ptr)\n\n  File \"/Users/Gigio/anaconda3/lib/python3.7/site-packages/tensorflow/python/client/session.py\", line 1080, in _run\n    raise RuntimeError('The Session graph is empty.  Add operations to the '\n\nRuntimeError: The Session graph is empty.  Add operations to the graph before calling run().\n\n\n\t [[node PyFunc_22 (defined at <ipython-input-26-fe94593fe82c>:19) ]]\n\nOriginal stack trace for 'PyFunc_22':\n  File \"/Users/Gigio/anaconda3/lib/python3.7/runpy.py\", line 193, in _run_module_as_main\n    \"__main__\", mod_spec)\n  File \"/Users/Gigio/anaconda3/lib/python3.7/runpy.py\", line 85, in _run_code\n    exec(code, run_globals)\n  File \"/Users/Gigio/anaconda3/lib/python3.7/site-packages/ipykernel_launcher.py\", line 16, in <module>\n    app.launch_new_instance()\n  File \"/Users/Gigio/anaconda3/lib/python3.7/site-packages/traitlets/config/application.py\", line 658, in launch_instance\n    app.start()\n  File \"/Users/Gigio/anaconda3/lib/python3.7/site-packages/ipykernel/kernelapp.py\", line 505, in start\n    self.io_loop.start()\n  File \"/Users/Gigio/anaconda3/lib/python3.7/site-packages/tornado/platform/asyncio.py\", line 132, in start\n    self.asyncio_loop.run_forever()\n  File \"/Users/Gigio/anaconda3/lib/python3.7/asyncio/base_events.py\", line 528, in run_forever\n    self._run_once()\n  File \"/Users/Gigio/anaconda3/lib/python3.7/asyncio/base_events.py\", line 1764, in _run_once\n    handle._run()\n  File \"/Users/Gigio/anaconda3/lib/python3.7/asyncio/events.py\", line 88, in _run\n    self._context.run(self._callback, *self._args)\n  File \"/Users/Gigio/anaconda3/lib/python3.7/site-packages/tornado/ioloop.py\", line 758, in _run_callback\n    ret = callback()\n  File \"/Users/Gigio/anaconda3/lib/python3.7/site-packages/tornado/stack_context.py\", line 300, in null_wrapper\n    return fn(*args, **kwargs)\n  File \"/Users/Gigio/anaconda3/lib/python3.7/site-packages/tornado/gen.py\", line 1233, in inner\n    self.run()\n  File \"/Users/Gigio/anaconda3/lib/python3.7/site-packages/tornado/gen.py\", line 1147, in run\n    yielded = self.gen.send(value)\n  File \"/Users/Gigio/anaconda3/lib/python3.7/site-packages/ipykernel/kernelbase.py\", line 357, in process_one\n    yield gen.maybe_future(dispatch(*args))\n  File \"/Users/Gigio/anaconda3/lib/python3.7/site-packages/tornado/gen.py\", line 326, in wrapper\n    yielded = next(result)\n  File \"/Users/Gigio/anaconda3/lib/python3.7/site-packages/ipykernel/kernelbase.py\", line 267, in dispatch_shell\n    yield gen.maybe_future(handler(stream, idents, msg))\n  File \"/Users/Gigio/anaconda3/lib/python3.7/site-packages/tornado/gen.py\", line 326, in wrapper\n    yielded = next(result)\n  File \"/Users/Gigio/anaconda3/lib/python3.7/site-packages/ipykernel/kernelbase.py\", line 534, in execute_request\n    user_expressions, allow_stdin,\n  File \"/Users/Gigio/anaconda3/lib/python3.7/site-packages/tornado/gen.py\", line 326, in wrapper\n    yielded = next(result)\n  File \"/Users/Gigio/anaconda3/lib/python3.7/site-packages/ipykernel/ipkernel.py\", line 294, in do_execute\n    res = shell.run_cell(code, store_history=store_history, silent=silent)\n  File \"/Users/Gigio/anaconda3/lib/python3.7/site-packages/ipykernel/zmqshell.py\", line 536, in run_cell\n    return super(ZMQInteractiveShell, self).run_cell(*args, **kwargs)\n  File \"/Users/Gigio/anaconda3/lib/python3.7/site-packages/IPython/core/interactiveshell.py\", line 2819, in run_cell\n    raw_cell, store_history, silent, shell_futures)\n  File \"/Users/Gigio/anaconda3/lib/python3.7/site-packages/IPython/core/interactiveshell.py\", line 2845, in _run_cell\n    return runner(coro)\n  File \"/Users/Gigio/anaconda3/lib/python3.7/site-packages/IPython/core/async_helpers.py\", line 67, in _pseudo_sync_runner\n    coro.send(None)\n  File \"/Users/Gigio/anaconda3/lib/python3.7/site-packages/IPython/core/interactiveshell.py\", line 3020, in run_cell_async\n    interactivity=interactivity, compiler=compiler, result=result)\n  File \"/Users/Gigio/anaconda3/lib/python3.7/site-packages/IPython/core/interactiveshell.py\", line 3185, in run_ast_nodes\n    if (yield from self.run_code(code, result)):\n  File \"/Users/Gigio/anaconda3/lib/python3.7/site-packages/IPython/core/interactiveshell.py\", line 3267, in run_code\n    exec(code_obj, self.user_global_ns, self.user_ns)\n  File \"<ipython-input-26-fe94593fe82c>\", line 19, in <module>\n    gradient_x = (tf.py_func(model.predict,[x+1e-10],(tf.float32))[0] - tf.py_func(model.predict,[x-1e-10],(tf.float32))[0]) / (2*1e-10)\n  File \"/Users/Gigio/anaconda3/lib/python3.7/site-packages/tensorflow/python/util/deprecation.py\", line 324, in new_func\n    return func(*args, **kwargs)\n  File \"/Users/Gigio/anaconda3/lib/python3.7/site-packages/tensorflow/python/ops/script_ops.py\", line 476, in py_func\n    return py_func_common(func, inp, Tout, stateful, name=name)\n  File \"/Users/Gigio/anaconda3/lib/python3.7/site-packages/tensorflow/python/ops/script_ops.py\", line 458, in py_func_common\n    func=func, inp=inp, Tout=Tout, stateful=stateful, eager=False, name=name)\n  File \"/Users/Gigio/anaconda3/lib/python3.7/site-packages/tensorflow/python/ops/script_ops.py\", line 282, in _internal_py_func\n    input=inp, token=token, Tout=Tout, name=name)\n  File \"/Users/Gigio/anaconda3/lib/python3.7/site-packages/tensorflow/python/ops/gen_script_ops.py\", line 159, in py_func\n    \"PyFunc\", input=input, token=token, Tout=Tout, name=name)\n  File \"/Users/Gigio/anaconda3/lib/python3.7/site-packages/tensorflow/python/framework/op_def_library.py\", line 788, in _apply_op_helper\n    op_def=op_def)\n  File \"/Users/Gigio/anaconda3/lib/python3.7/site-packages/tensorflow/python/util/deprecation.py\", line 507, in new_func\n    return func(*args, **kwargs)\n  File \"/Users/Gigio/anaconda3/lib/python3.7/site-packages/tensorflow/python/framework/ops.py\", line 3537, in create_op\n    op_def=op_def)\n  File \"/Users/Gigio/anaconda3/lib/python3.7/site-packages/tensorflow/python/framework/ops.py\", line 1961, in __init__\n    self._traceback = tf_stack.extract_stack()\n"
     ]
    }
   ],
   "source": [
    "vector_shape = initial_instace.shape[1:]\n",
    "\n",
    "for layer in model.layers:\n",
    "    layer.trainable=False\n",
    "    \n",
    "with tf.Session() as sess:     \n",
    "\n",
    "    pl_class = tf.placeholder(dtype=tf.int32,name='class')\n",
    "    pl_target_prob = tf.placeholder(dtype=tf.float32, name='target_prob')\n",
    "    pl_lam = tf.placeholder(dtype=tf.float32, name='lam_param')\n",
    "    pl_pred = tf.placeholder(dtype=tf.float32, name='cf_prob')\n",
    "    out_2 = tf.placeholder(dtype=tf.float32, name='preds')\n",
    "\n",
    "    x=tf.Variable(dtype=tf.float32,initial_value=initial_instace,name='cf')\n",
    "    \n",
    "    out_2 = tf.py_func(model.predict,[x],(tf.float32))[0]\n",
    "    #pl_out = tf.placeholder()\n",
    "    \n",
    "    gradient_x = (tf.py_func(model.predict,[x+1e-10],(tf.float32))[0] - tf.py_func(model.predict,[x-1e-10],(tf.float32))[0]) / (2*1e-10)\n",
    "    \n",
    "    loss_0 = tf.multiply(pl_lam,(tf.square(out_2[:,pl_class] - pl_target_prob)))\n",
    "\n",
    "    opt = tf.train.AdamOptimizer()\n",
    "    gradients=[]\n",
    "    gradients.append((gradient_x,x))\n",
    "    print(gradients)\n",
    "    opt_op = opt.apply_gradients(gradients)\n",
    "    #opt_op=opt.minimize(loss_0)\n",
    "    tf.global_variables_initializer().run()\n",
    "    \n",
    "    #print(x.get_variable())\n",
    "    feed_dict = {pl_class:pred_class,pl_target_prob:target_probability,pl_lam:_lam}\n",
    "    #print(sess.run(out_2,feed_dict))\n",
    "    for i in range(1000):\n",
    "        sess.run([opt_op],feed_dict)\n",
    "    print(sess.run(out_2,feed_dict))\n"
   ]
  },
  {
   "cell_type": "code",
   "execution_count": 47,
   "metadata": {},
   "outputs": [
    {
     "data": {
      "text/plain": [
       "array([[0.97672869, 0.01241837, 0.01085294]])"
      ]
     },
     "execution_count": 47,
     "metadata": {},
     "output_type": "execute_result"
    }
   ],
   "source": [
    "clf.predict_proba(X)"
   ]
  },
  {
   "cell_type": "code",
   "execution_count": 34,
   "metadata": {},
   "outputs": [],
   "source": [
    "from scipy.spatial.distance import cityblock\n",
    "def _metric_distance(x0,x1):\n",
    "    return cityblock(x0,x1)\n",
    "    "
   ]
  },
  {
   "cell_type": "code",
   "execution_count": 49,
   "metadata": {},
   "outputs": [],
   "source": [
    "def _countefactual_loss(x, XX=X.flatten(), pc=pred_class):\n",
    "    pred_tmp = clf.predict_proba(x.reshape(X.shape))[:, pc]\n",
    "    loss_0 = 0.5*(pred_tmp - 1.0)**2\n",
    "    loss_1 = (0.5)*_metric_distance(x, XX)\n",
    "    print(loss_0,loss_1)\n",
    "    return loss_0#+loss_1"
   ]
  },
  {
   "cell_type": "code",
   "execution_count": 52,
   "metadata": {},
   "outputs": [
    {
     "name": "stdout",
     "output_type": "stream",
     "text": [
      "[0.00027078] 0.0\n",
      "[0.00027078] 7.450580596923828e-09\n",
      "[0.00027078] 7.450580596923828e-09\n",
      "[0.00027078] 7.450580596923828e-09\n",
      "[0.00027078] 7.450580596923828e-09\n",
      "[0.00027078] 0.0\n",
      "[0.0002704] 0.0005727034804294817\n",
      "[0.0002704] 0.0005727034804294817\n",
      "[0.0002704] 0.0005727109310100786\n",
      "[0.0002704] 0.0005727109310100786\n",
      "[0.0002704] 0.0005726960298488848\n",
      "[0.0002704] 0.0005726960298488848\n",
      "[0.00026892] 0.0028635174021474086\n",
      "[0.00026892] 0.0028635174021474086\n",
      "[0.00026892] 0.0028635248527280055\n",
      "[0.00026892] 0.0028635248527280055\n",
      "[0.00026892] 0.0028635099515668117\n",
      "[0.00026892] 0.0028635099515668117\n",
      "[0.00026313] 0.012026773089019116\n",
      "[0.00026313] 0.012026773089019116\n",
      "[0.00026313] 0.012026780539599713\n",
      "[0.00026313] 0.012026780539599713\n",
      "[0.00026313] 0.012026765638438519\n",
      "[0.00026313] 0.012026765638438519\n",
      "[0.00024209] 0.048679795836505946\n",
      "[0.00024209] 0.048679795836505946\n",
      "[0.00024209] 0.04867980328708654\n",
      "[0.00024209] 0.04867980328708654\n",
      "[0.00024209] 0.04867978838592535\n",
      "[0.00024209] 0.04867978838592535\n",
      "[0.00019582] 0.15796530893368577\n",
      "[0.00019582] 0.15796530893368577\n",
      "[0.00019582] 0.15796531638426636\n",
      "[0.00019582] 0.15796531638426636\n",
      "[0.00019582] 0.15796530148310517\n",
      "[0.00019582] 0.15796530148310517\n",
      "[0.00015529] 0.33979692522732025\n",
      "[0.00015529] 0.33979692522732025\n",
      "[0.00015529] 0.33979693267790084\n",
      "[0.00015529] 0.33979693267790084\n",
      "[0.00015529] 0.33979691777673965\n",
      "[0.00015529] 0.33979691777673965\n",
      "[0.00014442] 0.4632707277409014\n",
      "[0.00014442] 0.4632707277409014\n",
      "[0.00014442] 0.463270735191482\n",
      "[0.00014442] 0.463270735191482\n",
      "[0.00014442] 0.4632707202903208\n",
      "[0.00014442] 0.4632707202903208\n",
      "[0.00014279] 0.526824801138605\n",
      "[0.00014279] 0.526824801138605\n",
      "[0.00014279] 0.5268248085891856\n",
      "[0.00014279] 0.5268248085891856\n",
      "[0.00014279] 0.5268247936880244\n",
      "[0.00014279] 0.5268247936880244\n",
      "[0.00014274] 0.5367516265407488\n",
      "[0.00014274] 0.5367516265407488\n",
      "[0.00014274] 0.5367516339913294\n",
      "[0.00014274] 0.5367516339913294\n",
      "[0.00014274] 0.5367516190901682\n",
      "[0.00014274] 0.5367516190901682\n",
      "[0.00014272] 0.5395896826346356\n",
      "[0.00014272] 0.5395896826346356\n",
      "[0.00014272] 0.5395896900852162\n",
      "[0.00014272] 0.5395896900852162\n",
      "[0.00014272] 0.539589675184055\n",
      "[0.00014272] 0.539589675184055\n",
      "[0.00014268] 0.5425259442599935\n",
      "[0.00014268] 0.5425259442599935\n",
      "[0.00014268] 0.542525951710574\n",
      "[0.00014268] 0.542525951710574\n",
      "[0.00014268] 0.5425259368094129\n",
      "[0.00014268] 0.5425259368094129\n",
      "[0.0001426] 0.5463141219883605\n",
      "[0.0001426] 0.5463141219883605\n",
      "[0.0001426] 0.5463141294389411\n",
      "[0.0001426] 0.5463141294389411\n",
      "[0.0001426] 0.5463141145377799\n",
      "[0.0001426] 0.5463141145377799\n",
      "[0.00014237] 0.561466832901828\n",
      "[0.00014237] 0.561466832901828\n",
      "[0.00014237] 0.5614668403524086\n",
      "[0.00014237] 0.5614668403524086\n",
      "[0.00014237] 0.5614668254512474\n",
      "[0.00014237] 0.5614668254512474\n",
      "[0.00014192] 0.5828668011637037\n",
      "[0.00014192] 0.5828668011637037\n",
      "[0.00014192] 0.5828668086142843\n",
      "[0.00014192] 0.5828668086142843\n",
      "[0.00014192] 0.5828667937131231\n",
      "[0.00014192] 0.5828667937131231\n",
      "[0.00014112] 0.605441816116678\n",
      "[0.00014112] 0.605441816116678\n",
      "[0.00014112] 0.6054418235672586\n",
      "[0.00014112] 0.6054418235672586\n",
      "[0.00014112] 0.6054418086660974\n",
      "[0.00014112] 0.6054418086660974\n",
      "[0.00013971] 0.6308348378391347\n",
      "[0.00013971] 0.6308348378391347\n",
      "[0.00013971] 0.6308348452897153\n",
      "[0.00013971] 0.6308348452897153\n",
      "[0.00013971] 0.6308348303885541\n",
      "[0.00013971] 0.6308348303885541\n",
      "[0.00013723] 0.6613165132908745\n",
      "[0.00013723] 0.6613165132908745\n",
      "[0.00013723] 0.6613165207414551\n",
      "[0.00013723] 0.6613165207414551\n",
      "[0.00013723] 0.6613165058402939\n",
      "[0.00013723] 0.6613165058402939\n",
      "[0.00013318] 0.6972730679945534\n",
      "[0.00013318] 0.6972730679945534\n",
      "[0.00013318] 0.697273075445134\n",
      "[0.00013318] 0.697273075445134\n",
      "[0.00013318] 0.6972730605439728\n",
      "[0.00013318] 0.6972730605439728\n",
      "[0.00012831] 0.7258927470763533\n",
      "[0.00012831] 0.7258927470763533\n",
      "[0.00012831] 0.7258927545269339\n",
      "[0.00012831] 0.7258927545269339\n",
      "[0.00012831] 0.7258927396257727\n",
      "[0.00012831] 0.7258927396257727\n",
      "[0.00012663] 0.7057600040785543\n",
      "[0.00012663] 0.7057600040785543\n",
      "[0.00012663] 0.7057600115291349\n",
      "[0.00012663] 0.7057600115291349\n",
      "[0.00012663] 0.7057599966279737\n",
      "[0.00012663] 0.7057599966279737\n",
      "[0.00012587] 0.6663971373327001\n",
      "[0.00012587] 0.6663971373327001\n",
      "[0.00012587] 0.6663971447832807\n",
      "[0.00012587] 0.6663971447832807\n",
      "[0.00012587] 0.6663971298821195\n",
      "[0.00012587] 0.6663971298821195\n",
      "[0.00012578] 0.6503007370430239\n",
      "[0.00012578] 0.6503007370430239\n",
      "[0.00012578] 0.6503007444936045\n",
      "[0.00012578] 0.6503007444936045\n",
      "[0.00012578] 0.6503007295924433\n",
      "[0.00012578] 0.6503007295924433\n",
      "[0.00012577] 0.6475733832395916\n",
      "[0.00012577] 0.6475733832395916\n",
      "[0.00012577] 0.6475733906901722\n",
      "[0.00012577] 0.6475733906901722\n",
      "[0.00012577] 0.647573375789011\n",
      "[0.00012577] 0.647573375789011\n",
      "[0.00012577] 0.6475830557212018\n",
      "[0.00012577] 0.6475830557212018\n",
      "[0.00012577] 0.6475830631717824\n",
      "[0.00012577] 0.6475830631717824\n",
      "[0.00012577] 0.6475830482706212\n",
      "[0.00012577] 0.6475830482706212\n",
      "[0.00012577] 0.6476270636569872\n",
      "[0.00012577] 0.6476270636569872\n",
      "[0.00012577] 0.6476270711075678\n",
      "[0.00012577] 0.6476270711075678\n",
      "[0.00012577] 0.6476270562064066\n",
      "[0.00012577] 0.6476270562064066\n",
      "[0.00012577] 0.6476891655972421\n",
      "[0.00012577] 0.6476891655972421\n",
      "[0.00012577] 0.6476891730478227\n",
      "[0.00012577] 0.6476891730478227\n",
      "[0.00012577] 0.6476891581466615\n",
      "[0.00012577] 0.6476891581466615\n",
      "[0.00012577] 0.6477851627562068\n",
      "[0.00012577] 0.6477851627562068\n",
      "[0.00012577] 0.6477851702067874\n",
      "[0.00012577] 0.6477851702067874\n",
      "[0.00012577] 0.6477851553056262\n",
      "[0.00012577] 0.6477851553056262\n",
      "[0.00012577] 0.6479410143102469\n",
      "[0.00012577] 0.6479410143102469\n",
      "[0.00012577] 0.6479410217608275\n",
      "[0.00012577] 0.6479410217608275\n",
      "[0.00012577] 0.6479410068596663\n",
      "[0.00012577] 0.6479410068596663\n",
      "[0.00012576] 0.6482105154688321\n",
      "[0.00012576] 0.6482105154688321\n",
      "[0.00012576] 0.6482105229194127\n",
      "[0.00012576] 0.6482105229194127\n",
      "[0.00012576] 0.6482105080182515\n",
      "[0.00012576] 0.6482105080182515\n",
      "[0.00012575] 0.648681432984532\n",
      "[0.00012575] 0.648681432984532\n",
      "[0.00012575] 0.6486814404351126\n",
      "[0.00012575] 0.6486814404351126\n",
      "[0.00012575] 0.6486814255339514\n",
      "[0.00012575] 0.6486814255339514\n",
      "[0.00012573] 0.6495097188702157\n",
      "[0.00012573] 0.6495097188702157\n",
      "[0.00012573] 0.6495097263207963\n",
      "[0.00012573] 0.6495097263207963\n",
      "[0.00012573] 0.6495097114196351\n",
      "[0.00012573] 0.6495097114196351\n",
      "[0.0001257] 0.6509438689640655\n",
      "[0.0001257] 0.6509438689640655\n",
      "[0.0001257] 0.6509438764146461\n",
      "[0.0001257] 0.6509438764146461\n",
      "[0.0001257] 0.6509438615134849\n",
      "[0.0001257] 0.6509438615134849\n",
      "[0.00012565] 0.6532543284394609\n",
      "[0.00012565] 0.6532543284394609\n",
      "[0.00012565] 0.6532543358900414\n",
      "[0.00012565] 0.6532543358900414\n",
      "[0.00012565] 0.6532543209888803\n",
      "[0.00012565] 0.6532543209888803\n",
      "[0.00012558] 0.6565881164528701\n",
      "[0.00012558] 0.6565881164528701\n",
      "[0.00012558] 0.6565881239034507\n",
      "[0.00012558] 0.6565881239034507\n",
      "[0.00012558] 0.6565881090022895\n",
      "[0.00012558] 0.6565881090022895\n",
      "[0.00012547] 0.6608232199757679\n",
      "[0.00012547] 0.6608232199757679\n",
      "[0.00012547] 0.6608232274263485\n",
      "[0.00012547] 0.6608232274263485\n",
      "[0.00012547] 0.6608232125251873\n",
      "[0.00012547] 0.6608232125251873\n"
     ]
    }
   ],
   "source": [
    "res = minimize(_countefactual_loss, X, method=None,options={'maxiter': 1000})"
   ]
  },
  {
   "cell_type": "code",
   "execution_count": 51,
   "metadata": {},
   "outputs": [
    {
     "data": {
      "text/plain": [
       "array([[0.98415889, 0.00709285, 0.00874826]])"
      ]
     },
     "execution_count": 51,
     "metadata": {},
     "output_type": "execute_result"
    }
   ],
   "source": [
    "clf.predict_proba(res.x.reshape(1,-1))"
   ]
  },
  {
   "cell_type": "code",
   "execution_count": null,
   "metadata": {},
   "outputs": [],
   "source": []
  }
 ],
 "metadata": {
  "kernelspec": {
   "display_name": "Python 3",
   "language": "python",
   "name": "python3"
  },
  "language_info": {
   "codemirror_mode": {
    "name": "ipython",
    "version": 3
   },
   "file_extension": ".py",
   "mimetype": "text/x-python",
   "name": "python",
   "nbconvert_exporter": "python",
   "pygments_lexer": "ipython3",
   "version": "3.7.1"
  }
 },
 "nbformat": 4,
 "nbformat_minor": 2
}
