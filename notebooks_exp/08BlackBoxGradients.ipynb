{
 "cells": [
  {
   "cell_type": "code",
   "execution_count": 1,
   "metadata": {},
   "outputs": [],
   "source": [
    "import sys\n",
    "#sys.path.append('../alibi/explainers/counterfactual/')\n",
    "import pandas as pd\n",
    "import numpy as np\n",
    "from scipy.spatial.distance import cityblock\n",
    "from scipy.optimize import minimize\n",
    "from sklearn import svm, datasets\n",
    "from sklearn.model_selection import cross_val_score\n",
    "#import counterfactuals\n",
    "from matplotlib.pyplot import imshow\n",
    "import importlib\n",
    "%matplotlib inline"
   ]
  },
  {
   "cell_type": "markdown",
   "metadata": {},
   "source": [
    "# Iris"
   ]
  },
  {
   "cell_type": "code",
   "execution_count": 2,
   "metadata": {},
   "outputs": [
    {
     "data": {
      "text/plain": [
       "SVC(C=1.0, cache_size=200, class_weight=None, coef0=0.0,\n",
       "  decision_function_shape='ovr', degree=3, gamma='scale', kernel='rbf',\n",
       "  max_iter=-1, probability=True, random_state=None, shrinking=True,\n",
       "  tol=0.001, verbose=False)"
      ]
     },
     "execution_count": 2,
     "metadata": {},
     "output_type": "execute_result"
    }
   ],
   "source": [
    "iris = datasets.load_iris()\n",
    "X_train, y_train = iris.data, iris.target\n",
    "clf = svm.SVC(gamma='scale',probability=True)\n",
    "clf.fit(X_train,y_train)"
   ]
  },
  {
   "cell_type": "code",
   "execution_count": 3,
   "metadata": {},
   "outputs": [],
   "source": [
    "X=X_train[42:43]"
   ]
  },
  {
   "cell_type": "code",
   "execution_count": 4,
   "metadata": {},
   "outputs": [
    {
     "data": {
      "text/plain": [
       "array([[0.97580458, 0.01278708, 0.01140834]])"
      ]
     },
     "execution_count": 4,
     "metadata": {},
     "output_type": "execute_result"
    }
   ],
   "source": [
    "pred_class=clf.predict_proba(X).argmax()\n",
    "initial_instace = np.random.permutation(X_train)[0]\n",
    "clf.predict_proba(X)\n"
   ]
  },
  {
   "cell_type": "markdown",
   "metadata": {},
   "source": [
    "### Minimization"
   ]
  },
  {
   "cell_type": "code",
   "execution_count": null,
   "metadata": {},
   "outputs": [],
   "source": [
    "X = X_train[1]\n",
    "X_0 = X_train[2]\n",
    "func = _define_func(clf.predict_proba,X,target_class=0)\n",
    "#gradients=_calculate_funcgradx(func,X)\n",
    "gradients = _calculate_watcher_grads(X,func,_mock_metric,X_0,0.1,0.5,1)\n",
    "gradients"
   ]
  },
  {
   "cell_type": "markdown",
   "metadata": {},
   "source": [
    "---"
   ]
  },
  {
   "cell_type": "markdown",
   "metadata": {},
   "source": [
    "# Mnist"
   ]
  },
  {
   "cell_type": "code",
   "execution_count": 5,
   "metadata": {},
   "outputs": [
    {
     "data": {
      "text/plain": [
       "<matplotlib.image.AxesImage at 0x1a39ae7c88>"
      ]
     },
     "execution_count": 5,
     "metadata": {},
     "output_type": "execute_result"
    },
    {
     "data": {
      "image/png": "[encoded data removed]",
      "text/plain": [
       "<Figure size 432x288 with 1 Axes>"
      ]
     },
     "metadata": {
      "needs_background": "light"
     },
     "output_type": "display_data"
    }
   ],
   "source": [
    "import tensorflow as tf\n",
    "(x_train, y_train), (x_test, y_test) = tf.keras.datasets.mnist.load_data()\n",
    "imshow(x_train[0],cmap='Greys')"
   ]
  },
  {
   "cell_type": "code",
   "execution_count": 6,
   "metadata": {},
   "outputs": [
    {
     "name": "stderr",
     "output_type": "stream",
     "text": [
      "WARNING: Logging before flag parsing goes to stderr.\n",
      "W0405 11:25:22.608538 140735836812160 deprecation.py:506] From /Users/Gigio/anaconda3/lib/python3.7/site-packages/tensorflow/python/ops/init_ops.py:1257: calling VarianceScaling.__init__ (from tensorflow.python.ops.init_ops) with dtype is deprecated and will be removed in a future version.\n",
      "Instructions for updating:\n",
      "Call initializer instance with the dtype argument instead of passing it to the constructor\n"
     ]
    },
    {
     "name": "stdout",
     "output_type": "stream",
     "text": [
      "x_train shape: (60000, 28, 28, 1)\n",
      "Number of images in x_train 60000\n",
      "Number of images in x_test 10000\n"
     ]
    }
   ],
   "source": [
    "x_train = x_train.reshape(x_train.shape[0], 28, 28, 1)\n",
    "x_test = x_test.reshape(x_test.shape[0], 28, 28, 1)\n",
    "input_shape = (28, 28, 1)\n",
    "# Making sure that the values are float so that we can get decimal points after division\n",
    "x_train = x_train.astype('float32')\n",
    "x_test = x_test.astype('float32')\n",
    "# Normalizing the RGB codes by dividing it to the max RGB value.\n",
    "x_train /= 255\n",
    "x_test /= 255\n",
    "print('x_train shape:', x_train.shape)\n",
    "print('Number of images in x_train', x_train.shape[0])\n",
    "print('Number of images in x_test', x_test.shape[0])\n",
    "initial_instace = np.random.permutation(x_train)[:1]\n",
    "\n",
    "input = tf.keras.Input(shape=(28,28,1),name='input_part')\n",
    "out=tf.keras.layers.Conv2D(32, (5, 5), activation='relu')(input)\n",
    "out=tf.keras.layers.MaxPooling2D(pool_size=(2, 2))(out)\n",
    "out=tf.keras.layers.Dropout(0.2)(out)\n",
    "out=tf.keras.layers.Flatten()(out)\n",
    "out=tf.keras.layers.Dense(128, activation='relu')(out)\n",
    "out=tf.keras.layers.Dense(10,activation='softmax')(out)\n",
    "\n",
    "model = tf.keras.Model(input, out)\n",
    "\n",
    "model.compile(loss='categorical_crossentropy', optimizer='adam', metrics=['accuracy'])"
   ]
  },
  {
   "cell_type": "code",
   "execution_count": 7,
   "metadata": {},
   "outputs": [
    {
     "name": "stdout",
     "output_type": "stream",
     "text": [
      "Epoch 1/2\n",
      "60000/60000 [==============================] - 15s 250us/sample - loss: 0.1453 - acc: 0.9563\n",
      "Epoch 2/2\n",
      "60000/60000 [==============================] - 16s 264us/sample - loss: 0.0514 - acc: 0.9840\n"
     ]
    },
    {
     "data": {
      "text/plain": [
       "<tensorflow.python.keras.callbacks.History at 0x1a3a58b630>"
      ]
     },
     "execution_count": 7,
     "metadata": {},
     "output_type": "execute_result"
    }
   ],
   "source": [
    "model.fit(x_train,tf.keras.utils.to_categorical(y_train),epochs=2)"
   ]
  },
  {
   "cell_type": "markdown",
   "metadata": {},
   "source": [
    "### Minimization"
   ]
  },
  {
   "cell_type": "code",
   "execution_count": 139,
   "metadata": {},
   "outputs": [],
   "source": [
    "from time import time\n",
    "\n",
    "def _define_func(predict_fn,x,target_class='same'):\n",
    "    \n",
    "    x_shape_batch_format = (1,)+x.shape\n",
    "    if target_class=='same':\n",
    "        target_class=np.argmax(predict_fn(x.reshape(x_shape_batch_format)),axis=1)[0]\n",
    "\n",
    "    def func(x,target_class=target_class):\n",
    "        proba = predict_fn(x)[:,target_class]\n",
    "        return proba\n",
    "    return func\n",
    "\n",
    "def _calculate_funcgradx(func,x,epsilon=1):\n",
    "    \n",
    "    x_shape = x.shape\n",
    "    \n",
    "    x=x.flatten() \n",
    "    X_plus, X_minus = [],[]\n",
    "    t_0 = time()\n",
    "    for i in range(len(x)):\n",
    "        x_plus,x_minus = np.copy(x),np.copy(x)\n",
    "        x_plus[i]+=epsilon\n",
    "        x_minus[i]-=epsilon\n",
    "        x_plus,x_minus = x_plus.reshape(x_shape),x_minus.reshape(x_shape)\n",
    "        X_plus.append(x_plus)\n",
    "        X_minus.append(x_minus)        \n",
    "    \n",
    "    deltat_1 = time() - t_0\n",
    "    t_1 = time()\n",
    "    X_plus=np.asarray(X_plus)\n",
    "    X_minus=np.asarray(X_minus)\n",
    "    gradients = (func(X_plus) - func(X_minus))/(2*epsilon)\n",
    "\n",
    "    deltat_2 = time() - t_1\n",
    "    t_2 = time()\n",
    "    deltat_tot = t_2 - t_0\n",
    "\n",
    "    return gradients"
   ]
  },
  {
   "cell_type": "code",
   "execution_count": 140,
   "metadata": {},
   "outputs": [],
   "source": [
    "def _mock_metric(x,x_0):\n",
    "    return 1\n",
    "\n",
    "def l1_metric(x,x_0):\n",
    "    pass\n",
    "    "
   ]
  },
  {
   "cell_type": "code",
   "execution_count": 167,
   "metadata": {},
   "outputs": [],
   "source": [
    "from scipy.spatial.distance import cityblock\n",
    "def _define_loss_metric(metric, x_0):\n",
    " \n",
    "    def loss_metric(x):\n",
    "        batch_size = x.shape[0]\n",
    "        distances = []\n",
    "        for i in range(batch_size):\n",
    "            distances.append(metric(x[i].flatten(),x_0.flatten()))\n",
    "        return np.asarray(distances)\n",
    "    \n",
    "    return loss_metric\n",
    "\n",
    "def _calculate_watcher_grads(x, func, metric, x_0, target_probability, _lam, _norm, \n",
    "                             epsilon_func=1.0, epsilon_metric=1e-10):\n",
    "    \n",
    "    x_shape_batch_format = (1,)+x.shape\n",
    "    \n",
    "    preds = func(x.reshape(x_shape_batch_format))\n",
    "    loss_metric = _define_loss_metric(metric,x_0)\n",
    "    \n",
    "    funcgradx = _calculate_funcgradx(func,x,epsilon=epsilon_func)\n",
    "    metricgradx = _calculate_funcgradx(loss_metric,x,epsilon=epsilon_metric)\n",
    "    gradients_0 = (1 - _lam) * 2 * (preds[0] - target_probability) * funcgradx\n",
    "    gradients_1 = _lam * _norm * metricgradx\n",
    "    \n",
    "    gradients = gradients_0 + gradients_1\n",
    "    return gradients"
   ]
  },
  {
   "cell_type": "code",
   "execution_count": 142,
   "metadata": {},
   "outputs": [],
   "source": [
    "X_init = x_train[0]\n",
    "X_0 = x_train[0]\n",
    "func = _define_func(model.predict,X,target_class=1)\n",
    "#gradients=_calculate_funcgradx(func,X)\n",
    "gradients = _calculate_watcher_grads(X,func,_mock_metric,X_0,0.1,0.5,1)"
   ]
  },
  {
   "cell_type": "code",
   "execution_count": 143,
   "metadata": {},
   "outputs": [
    {
     "data": {
      "text/plain": [
       "array([ 2.60833644e-09,  2.93360336e-09,  7.45308704e-09,  6.00346395e-09,\n",
       "        4.34297709e-09,  3.65523656e-09,  1.11110310e-09,  1.09282372e-09,\n",
       "       -2.14148310e-10, -6.38538389e-10,  1.05429254e-09,  3.99596467e-10,\n",
       "        1.75764492e-09,  1.39052869e-09, -2.03119299e-10, -9.52669610e-10,\n",
       "       -9.42369627e-10, -7.66316233e-10, -9.15472864e-10, -6.19133522e-10,\n",
       "        7.58376695e-10,  1.24273780e-09, -1.78213155e-09, -2.01022932e-09,\n",
       "       -1.89720084e-09, -1.30444822e-09, -1.81747672e-10, -2.44101850e-10,\n",
       "        4.23249791e-09,  4.28239755e-09,  1.04430304e-08,  8.94552166e-09,\n",
       "        7.31111260e-09,  7.82947307e-09,  5.96002714e-09,  4.98115993e-09,\n",
       "        1.83550308e-09,  1.37319010e-11,  1.49662227e-09,  4.12218509e-10,\n",
       "        2.17759277e-09, -3.55078272e-10,  3.40036159e-11,  8.24027721e-11,\n",
       "       -2.17340479e-09, -1.80121107e-09,  3.97497535e-10,  1.48548385e-09,\n",
       "        2.19642060e-09,  3.78763154e-09, -2.98702590e-10, -3.47509244e-09,\n",
       "       -3.50806229e-09, -1.74269799e-09, -9.31951738e-10, -1.40648460e-09,\n",
       "        4.29462022e-09,  3.54295415e-09,  1.25921860e-08,  1.60876965e-08,\n",
       "        2.46519107e-08,  2.80177730e-08,  2.47320138e-08,  2.03074091e-08,\n",
       "        2.25277352e-09, -2.20373786e-09, -2.24634888e-09, -7.96544081e-11,\n",
       "        1.52900026e-09,  4.04017042e-09,  7.23279525e-09,  2.39379871e-09,\n",
       "       -2.32633290e-09,  2.44408938e-09,  9.35824751e-09,  9.23845977e-09,\n",
       "        6.32419361e-09,  3.87702448e-09, -2.77364931e-09, -6.44745368e-09,\n",
       "       -6.96818292e-09, -3.04876768e-09, -2.78397905e-09, -2.80825829e-09,\n",
       "        4.06772083e-09,  3.11062309e-09,  1.30450157e-08,  1.81518427e-08,\n",
       "        2.91177997e-08,  2.48959076e-08,  1.36037794e-08,  8.08492739e-09,\n",
       "        1.37360223e-09,  1.90398919e-09,  2.65711919e-09,  2.02624473e-09,\n",
       "        4.01193212e-09,  6.48959420e-09,  9.87996707e-09,  1.16342713e-08,\n",
       "        5.45101742e-09,  1.06702656e-08,  1.85518729e-08,  1.30305597e-08,\n",
       "        2.52531684e-09, -9.53677581e-09, -1.38301246e-08, -8.43829984e-09,\n",
       "       -1.67103720e-09,  8.50579218e-10, -1.14837939e-09, -1.10900700e-09,\n",
       "        8.27454372e-09,  9.35519040e-09,  1.12278915e-08,  1.07052553e-08,\n",
       "        2.19122098e-09, -2.01264481e-08, -2.54281076e-08, -1.72410797e-08,\n",
       "        4.39708447e-09,  1.84351681e-08,  8.45798986e-09,  3.27937066e-10,\n",
       "        3.72619091e-09,  5.80833959e-09,  1.57463909e-08,  1.66132192e-08,\n",
       "       -8.60485572e-10,  7.93218713e-10, -4.23405666e-09, -4.75315609e-09,\n",
       "       -1.75879205e-08, -1.68564185e-08, -9.69919967e-09,  6.79487799e-09,\n",
       "        1.88674107e-08,  8.16190759e-09, -1.94625649e-09, -2.07554218e-09,\n",
       "        1.13086687e-08,  1.21910961e-08,  2.45356002e-08,  1.52344892e-08,\n",
       "       -1.13330065e-08, -4.42059509e-08, -3.98090627e-08, -3.01441290e-08,\n",
       "        1.76243269e-08,  2.13950759e-08,  7.00636482e-09, -1.81105486e-09,\n",
       "        2.38058551e-09,  1.41841461e-09,  9.06674957e-10, -5.62766500e-09,\n",
       "       -1.44319197e-08, -1.63166565e-08,  8.17402646e-10,  1.98954830e-09,\n",
       "        1.41200829e-09,  1.72638899e-08,  2.13587601e-08,  2.92144886e-08,\n",
       "        1.43342485e-08,  6.03577011e-09, -9.11250275e-09, -3.93454869e-09,\n",
       "        1.41400029e-08,  1.69657941e-08,  3.52461313e-08,  2.83913728e-08,\n",
       "        1.61705032e-08, -1.17721228e-08, -2.23490240e-08, -1.83925284e-08,\n",
       "        1.31383437e-08,  1.56588911e-08, -4.01330191e-10,  2.83479989e-10,\n",
       "       -1.11218312e-09,  2.28312216e-10, -3.82457399e-09,  1.29420508e-09,\n",
       "        2.33540653e-09,  6.05137718e-09,  1.24195676e-08,  3.01720569e-08,\n",
       "        4.50858941e-08,  3.77499738e-08,  2.96105913e-08,  8.59458105e-09,\n",
       "        1.23887043e-08,  7.02947656e-09, -3.83536625e-09, -2.47832044e-09,\n",
       "        1.43088288e-08,  1.85977296e-08,  3.23166311e-08,  3.32920003e-08,\n",
       "        2.72056422e-08,  6.19448137e-09, -1.96740189e-08, -2.27698358e-08,\n",
       "       -2.38126763e-09,  7.05053460e-10,  4.55055549e-10,  4.33566827e-09,\n",
       "        7.92985677e-10,  1.29771505e-09,  4.55471927e-09,  1.35766589e-08,\n",
       "        2.14210019e-08,  1.10692486e-08,  4.81111995e-09,  2.02066772e-08,\n",
       "        1.47592139e-09, -1.07320108e-08, -2.33590729e-08, -1.52385002e-08,\n",
       "        3.36300698e-09,  4.60166971e-09, -1.17226207e-09, -4.41310877e-10,\n",
       "        4.36506209e-09,  4.67781902e-09,  1.89373193e-08,  3.16556985e-08,\n",
       "        3.99638225e-08,  3.76584133e-08, -1.67799055e-08, -2.28562111e-08,\n",
       "       -5.89249760e-09, -4.62928140e-09, -8.05201683e-09, -8.73366268e-10,\n",
       "        3.76546544e-10, -6.71847555e-09, -6.47924336e-09,  4.98064923e-09,\n",
       "        9.51236512e-09,  1.75348835e-09, -4.75714224e-09, -1.11927836e-08,\n",
       "       -3.67975055e-08, -4.66360746e-08, -3.71642273e-08, -1.41319525e-08,\n",
       "        3.44191520e-09,  4.26610880e-09,  3.09814108e-09, -3.07321446e-10,\n",
       "        5.91156724e-09,  6.46426779e-09,  2.08982165e-08,  2.91722699e-08,\n",
       "        4.28200053e-08,  2.97350748e-08,  5.53991741e-09, -1.71102643e-09,\n",
       "        7.92161270e-09,  9.46436529e-09, -1.73355197e-09,  1.19835342e-08,\n",
       "        1.26813973e-08, -1.52605253e-08, -3.91309314e-08, -3.52550167e-08,\n",
       "       -2.12354330e-08, -2.15022720e-08, -1.33730893e-08, -1.52745070e-08,\n",
       "       -2.33911557e-08, -2.57918362e-08, -2.67132787e-08, -1.03294164e-08,\n",
       "       -4.77688600e-09,  7.80023990e-10, -1.46949386e-09, -1.28417721e-09,\n",
       "        1.08768292e-08,  1.40778420e-08,  2.89554087e-08,  2.59004125e-08,\n",
       "        2.66111311e-08,  1.98035615e-08,  3.12446446e-09,  1.88203746e-08,\n",
       "        3.21609264e-08,  1.87118907e-08,  3.50115870e-09,  1.84840747e-08,\n",
       "        2.88783024e-08, -9.87443816e-09, -3.95499917e-08, -5.94442646e-08,\n",
       "       -5.67992409e-08, -3.50081670e-08, -1.27858888e-08, -3.73967435e-09,\n",
       "       -1.01553317e-08, -1.35311051e-08, -1.45489567e-08, -8.79945095e-09,\n",
       "       -2.37286057e-09,  1.61836633e-09, -7.69768749e-10, -2.76339196e-09,\n",
       "        1.41832208e-08,  1.83143989e-08,  3.71428683e-08,  2.97781426e-08,\n",
       "        1.11991065e-08,  5.44151035e-09,  3.35293726e-09,  1.46197623e-08,\n",
       "        2.06546851e-08,  9.18771015e-09, -6.22500362e-09,  1.38922953e-08,\n",
       "        2.91894828e-08,  1.09693801e-08, -1.34985401e-08, -3.21901439e-08,\n",
       "       -5.73966474e-08, -4.67592685e-08, -2.55402526e-08, -3.00820435e-09,\n",
       "       -1.77974808e-08, -1.62604952e-08, -1.20220998e-08, -8.86829454e-09,\n",
       "       -4.58272886e-09, -1.39337863e-09, -3.56572771e-09, -2.48116105e-09,\n",
       "        7.08506542e-09,  9.76339010e-09,  1.89228953e-08,  2.31165043e-08,\n",
       "        1.48078865e-08,  1.16109558e-08,  9.52399049e-09,  1.69049628e-08,\n",
       "        1.61700946e-08,  5.82159965e-09, -5.47265477e-09,  8.03796674e-09,\n",
       "        2.40142679e-08,  2.38457361e-08,  4.67250283e-09, -1.93932994e-08,\n",
       "       -3.13978354e-08, -5.63014666e-08, -3.22043903e-08, -1.51761039e-08,\n",
       "       -2.09410054e-08, -1.52585731e-08, -1.49056909e-08, -1.36987071e-08,\n",
       "       -1.12772875e-08, -8.92895624e-09, -3.20750937e-09, -4.35477210e-09,\n",
       "        6.46731735e-09,  9.39179312e-09,  1.87344291e-08,  1.92096827e-08,\n",
       "        1.16325385e-08,  9.40707245e-09,  9.27134636e-09,  1.06600355e-08,\n",
       "        1.34215368e-08,  7.32497529e-09,  2.28786012e-09,  1.25921931e-08,\n",
       "        2.19947651e-08,  3.35009283e-08,  2.55621284e-08,  1.38257494e-08,\n",
       "       -7.29051264e-10, -2.56250345e-08, -3.89571504e-08, -2.50326551e-08,\n",
       "       -1.78042967e-08, -4.17951451e-09, -7.02642033e-09, -9.64479696e-09,\n",
       "       -8.60703953e-09, -7.00390679e-09, -2.68598277e-09, -3.22208416e-09,\n",
       "       -6.49419615e-11,  1.81366822e-09,  1.78947002e-09,  2.45349985e-09,\n",
       "        7.68373809e-09,  5.91548233e-09,  7.85080168e-10,  3.32956329e-10,\n",
       "        1.98633243e-09, -1.12561793e-09,  2.27304398e-09, -4.48144855e-10,\n",
       "        2.50019228e-10,  3.94036226e-09,  7.57002727e-09,  3.36648149e-08,\n",
       "        3.17452091e-08,  4.92292695e-09, -1.09965281e-08, -2.81134511e-08,\n",
       "       -4.09136192e-09,  6.98162639e-11,  1.90365412e-08,  1.72164381e-08,\n",
       "        7.51397788e-09, -5.46579404e-09, -5.24796784e-09, -5.66775071e-09,\n",
       "        4.52464927e-10,  1.17187271e-09, -2.25590702e-09, -5.06754594e-09,\n",
       "       -1.96573957e-09, -3.28411853e-09, -2.65373723e-09, -6.01207661e-09,\n",
       "       -4.72089212e-09, -7.91893306e-09,  4.16671053e-09, -6.74269529e-09,\n",
       "       -2.07549622e-08, -1.58703610e-08, -2.19527774e-08, -1.82845883e-09,\n",
       "        2.24066543e-08,  2.95574907e-08,  1.97728554e-08,  4.50894627e-10,\n",
       "        1.68548002e-08,  9.62737712e-09,  5.94570011e-08,  7.16626261e-08,\n",
       "        4.11438776e-08,  1.49277621e-08,  1.46705392e-09, -3.62969543e-10,\n",
       "        7.08770986e-10,  3.42325501e-10, -1.94794611e-10, -3.00638048e-09,\n",
       "       -3.98816846e-09, -2.90995938e-09, -3.65871389e-10, -1.78440107e-09,\n",
       "       -8.70391925e-10, -3.19613735e-09,  5.73587089e-09,  4.36522329e-09,\n",
       "       -1.35260292e-08, -2.35019151e-08, -3.39451844e-08, -2.29916637e-08,\n",
       "       -1.78544554e-10,  2.66653828e-08,  1.82129565e-08,  7.59522489e-09,\n",
       "        2.23233965e-08,  1.20844952e-08,  1.00923536e-07,  1.33061178e-07,\n",
       "        6.86049688e-08,  4.68448995e-08,  8.66160477e-09,  6.72866562e-09,\n",
       "        2.10979012e-09,  1.49836032e-09, -1.83792603e-09, -3.61239882e-09,\n",
       "       -4.32917702e-09, -6.43054554e-10,  4.01621003e-09,  1.77649562e-09,\n",
       "        2.75685363e-10, -7.24984128e-10,  3.50841334e-09,  8.14767809e-09,\n",
       "        2.03040007e-09, -1.34677292e-09, -1.11947767e-08, -2.15166995e-08,\n",
       "       -7.82201948e-09,  1.51913078e-08,  1.00136823e-08,  6.14459994e-09,\n",
       "        6.50888410e-09,  2.94601654e-09,  1.06141393e-07,  1.18857876e-07,\n",
       "        5.21578620e-08,  2.98309999e-08,  1.21788988e-08,  8.32097502e-09,\n",
       "        6.26560670e-09,  5.57186208e-09, -2.32142461e-09, -3.72059206e-09,\n",
       "        1.94355354e-09,  3.61274188e-09,  1.59527935e-09, -2.73095235e-09,\n",
       "       -7.18225301e-09, -3.90901667e-09,  3.38787443e-09,  7.23050331e-09,\n",
       "        7.87972088e-09,  1.30781186e-09, -5.09029352e-09, -1.43162424e-08,\n",
       "       -1.01325384e-08,  6.33466657e-09,  3.34442629e-09, -2.35181585e-09,\n",
       "       -3.27011951e-09, -9.83296466e-09,  5.98320611e-08,  1.04023592e-07,\n",
       "        4.09696881e-08,  3.46004896e-08,  9.71116698e-09,  7.32047178e-09,\n",
       "        7.94256660e-09,  9.98684957e-09,  6.21756113e-09,  3.38150663e-09,\n",
       "        6.80476431e-09,  4.54442928e-09, -5.11487608e-09, -5.70370862e-09,\n",
       "       -1.14559215e-08, -1.02090461e-08, -2.45608756e-09, -1.84670834e-10,\n",
       "       -7.57875274e-09, -1.31820936e-08, -8.94411123e-09, -3.60942232e-09,\n",
       "       -5.16935517e-09,  2.11590079e-09, -1.14089911e-08, -2.41090152e-08,\n",
       "       -1.77175181e-08,  2.49570156e-11,  5.99507430e-08,  6.22282101e-08,\n",
       "        3.19442286e-08,  1.46334171e-08,  5.83350124e-09,  3.12480264e-09,\n",
       "        1.29099265e-08,  1.87256042e-08,  8.61519300e-09, -9.14786469e-09,\n",
       "       -1.83719457e-08, -9.44262801e-09, -1.06061462e-08, -1.24828823e-08,\n",
       "       -1.32306175e-08, -1.31598341e-08, -1.08847269e-08, -9.82406068e-09,\n",
       "       -1.43459893e-08, -8.30266272e-11,  1.83245774e-09,  1.03807796e-09,\n",
       "       -6.32241859e-09, -1.09224292e-08, -1.51106079e-08, -2.24410215e-08,\n",
       "       -3.57143790e-08,  1.29064635e-08,  3.46622109e-08,  2.72102127e-08,\n",
       "        3.15985993e-08,  2.34878144e-08,  2.34007613e-09,  2.36391196e-09,\n",
       "        8.21870394e-09,  8.45997050e-09, -3.39872153e-09, -2.14620908e-08,\n",
       "       -2.39949607e-08, -7.14005699e-09, -1.27002862e-08, -1.30729259e-08,\n",
       "       -9.98100269e-09, -6.64460709e-09, -5.24292298e-09, -2.37863151e-09,\n",
       "       -1.24282018e-09,  8.36630321e-09,  1.07575513e-08,  3.55605079e-09,\n",
       "        8.03060818e-09,  7.57239516e-09,  1.33751490e-08,  8.45523296e-09,\n",
       "        6.78243950e-09,  3.99819058e-08,  3.78177418e-08,  3.75893876e-08,\n",
       "        2.26826558e-08,  1.03537401e-08,  1.94495908e-09,  3.93194505e-10,\n",
       "        5.28808064e-09,  2.45229326e-09,  6.34135455e-09,  7.07532388e-09,\n",
       "       -3.02397413e-10,  1.09416942e-09, -7.34684003e-09, -9.30580502e-09,\n",
       "       -5.91420157e-09, -6.51049548e-10,  4.52905446e-09,  1.21294095e-08,\n",
       "        1.26319932e-08,  1.01011608e-08, -2.62419575e-09, -3.20087024e-09,\n",
       "        1.35585054e-08,  1.78053465e-08,  2.68622422e-08,  1.29335662e-08,\n",
       "        1.59231135e-08,  3.48431719e-08,  2.29127401e-08,  2.83640063e-08,\n",
       "        2.38822668e-08,  1.48927208e-08, -1.32046804e-11,  4.61201743e-10,\n",
       "        5.72152148e-09,  9.83987736e-09,  1.97339354e-08,  1.76176336e-08,\n",
       "       -8.94047225e-10, -2.22856968e-08, -1.63335354e-08, -9.46372669e-09,\n",
       "        5.24290877e-09,  1.63747271e-09,  6.20700247e-09,  7.45950945e-09,\n",
       "        2.61194177e-09, -7.24986826e-09, -9.77110659e-09, -3.31700084e-10,\n",
       "        9.20813292e-09,  1.19482273e-08,  1.19006955e-08,  7.52058948e-09,\n",
       "        1.22312027e-08,  1.38761491e-08,  2.06128554e-08,  2.13645865e-08,\n",
       "        1.34036853e-08,  5.82960347e-09,  3.03589681e-10, -2.35544102e-11,\n",
       "        4.65141969e-09,  1.09294849e-08,  1.67131411e-08,  2.46179521e-08,\n",
       "        5.24863886e-09, -5.20791632e-09,  1.64816910e-11,  2.08898832e-09,\n",
       "        3.91009003e-09, -2.19458882e-10,  1.65651515e-09, -3.12853143e-09,\n",
       "       -1.09959721e-08, -9.13293707e-09, -2.86035506e-09,  3.94968014e-09,\n",
       "        1.29480346e-08,  9.72853087e-09,  6.34556496e-09,  3.35453310e-09,\n",
       "        3.46295570e-09,  6.52256338e-09,  1.01862927e-08,  1.30039899e-08,\n",
       "        3.76982801e-09,  1.27084676e-09, -9.36419609e-10, -4.70491313e-10,\n",
       "        2.80913803e-09,  7.35109618e-09,  1.08246105e-08,  2.20533671e-08,\n",
       "        2.50100705e-08,  2.77835372e-08,  1.41784797e-08,  1.43112624e-08,\n",
       "        2.27789831e-09, -2.01658157e-09, -1.33709888e-09, -3.96125488e-09,\n",
       "       -4.33528458e-09, -1.24991562e-09,  2.39992071e-09,  3.64541974e-09,\n",
       "        9.34518329e-09,  7.67792585e-09,  3.80535381e-09,  4.68374939e-09,\n",
       "        1.35116196e-09,  3.95976407e-09,  4.78433737e-09,  3.51809937e-09,\n",
       "       -4.14906287e-09, -5.27014876e-09, -3.58562424e-09, -1.75001380e-09,\n",
       "        1.25049548e-09, -1.12043386e-09,  5.38692690e-09,  1.30590365e-08,\n",
       "        2.40822988e-08,  2.67261129e-08,  1.70292740e-08,  1.00618172e-08,\n",
       "        3.19680438e-09, -9.14431197e-10, -2.33552444e-09, -2.21984564e-09,\n",
       "       -2.54317700e-09, -3.04872372e-09,  1.46453710e-10, -5.61606761e-10,\n",
       "       -2.44608600e-09,  1.05924214e-09, -2.99575142e-09,  6.44501230e-10,\n",
       "       -4.11568202e-09, -9.01803465e-10, -3.86243659e-09, -2.50614440e-09,\n",
       "       -6.05095662e-09, -4.62869876e-09, -2.60610533e-09, -8.41845260e-10,\n",
       "        3.94484134e-09,  2.45823917e-09,  4.76131623e-09,  6.15561069e-09,\n",
       "        7.13084836e-09,  5.00737185e-09,  4.53082816e-09,  1.96401717e-09,\n",
       "        2.67405298e-09,  5.95837768e-10,  2.58208899e-10,  1.08714937e-09,\n",
       "       -5.17064391e-10, -2.72033174e-09, -1.80114423e-09,  1.03963407e-10,\n",
       "       -1.11755194e-09,  8.69597561e-10, -1.30673183e-09, -1.87291307e-10,\n",
       "       -3.16889159e-09, -2.48289478e-09, -6.66899513e-09, -5.41041079e-09,\n",
       "       -6.36101793e-09, -2.82874035e-09, -1.68710684e-10,  1.42212786e-09])"
      ]
     },
     "execution_count": 143,
     "metadata": {},
     "output_type": "execute_result"
    }
   ],
   "source": [
    "gradients"
   ]
  },
  {
   "cell_type": "code",
   "execution_count": 186,
   "metadata": {},
   "outputs": [],
   "source": [
    "def minimize_watcher(predict_fn, metric, x_i, x_0, target_class, target_probability, \n",
    "                     epsilon_func=5, epsilon_metric=0.1, maxiter=50, \n",
    "                     initial_lam=0, lam_step=0.001, final_lam=1, lam_how='adiabatic',\n",
    "                     norm=1, lr=50):\n",
    "    \n",
    "    x_shape = x_i.shape\n",
    "    x_shape_batch_format = (1,)+x_i.shape\n",
    "    func = _define_func(predict_fn,x_0,target_class=target_class)\n",
    "    for i in range(maxiter):\n",
    "        if lam_how == 'fixed':\n",
    "            _lam = initial_lam\n",
    "        elif lam_how == 'adiabatic':\n",
    "            _lam = (i / maxiter) * (final_lam - initial_lam)\n",
    "        gradients = _calculate_watcher_grads(x_i,func,metric,x_0,target_probability,\n",
    "                                             _lam, norm, \n",
    "                                             epsilon_func=epsilon_func,\n",
    "                                             epsilon_metric=epsilon_metric)\n",
    "\n",
    "        x_i = (x_i.flatten() - lr * gradients).reshape(x_shape)\n",
    "        if i % 50 == 0:\n",
    "            print(_lam)\n",
    "            print(target_class,predict_fn(x_i.reshape(x_shape_batch_format))[:,target_class])\n",
    "    return x_i"
   ]
  },
  {
   "cell_type": "code",
   "execution_count": 191,
   "metadata": {},
   "outputs": [
    {
     "name": "stdout",
     "output_type": "stream",
     "text": [
      "0.0\n",
      "0 [4.3529795e-08]\n",
      "5e-06\n",
      "0 [4.723691e-08]\n",
      "1e-05\n",
      "0 [5.786685e-08]\n",
      "1.5e-05\n",
      "0 [0.9999993]\n",
      "2e-05\n",
      "0 [0.99999905]\n",
      "2.5e-05\n",
      "0 [0.99999857]\n",
      "3e-05\n",
      "0 [0.99999785]\n",
      "3.5e-05\n",
      "0 [0.9999964]\n",
      "4e-05\n",
      "0 [0.9999931]\n",
      "4.5e-05\n",
      "0 [0.99998593]\n",
      "5e-05\n",
      "0 [0.9999709]\n",
      "5.500000000000001e-05\n",
      "0 [0.99994004]\n",
      "6e-05\n",
      "0 [0.9998746]\n",
      "6.500000000000001e-05\n",
      "0 [0.9997532]\n",
      "7e-05\n",
      "0 [0.9995758]\n",
      "7.500000000000001e-05\n",
      "0 [0.99937063]\n",
      "8e-05\n",
      "0 [0.99916506]\n",
      "8.5e-05\n",
      "0 [0.99900347]\n",
      "9e-05\n",
      "0 [0.99888223]\n",
      "9.5e-05\n",
      "0 [0.9989003]\n"
     ]
    }
   ],
   "source": [
    "x_min = minimize_watcher(model.predict, cityblock, X_init, X_0, 0, 1.0,\n",
    "                         initial_lam=0, final_lam=0.0001, lam_how='adiabatic',\n",
    "                         epsilon_func=5, lr=20, maxiter=1000)\n"
   ]
  },
  {
   "cell_type": "code",
   "execution_count": 192,
   "metadata": {},
   "outputs": [
    {
     "name": "stdout",
     "output_type": "stream",
     "text": [
      "[[4.3489170e-08 3.4928323e-07 2.5878185e-08 9.0577364e-02 2.9323644e-09\n",
      "  9.0940332e-01 8.1226119e-07 4.3899016e-07 6.6380394e-06 1.0993484e-05]]\n"
     ]
    },
    {
     "data": {
      "text/plain": [
       "<matplotlib.image.AxesImage at 0x1a58a73048>"
      ]
     },
     "execution_count": 192,
     "metadata": {},
     "output_type": "execute_result"
    },
    {
     "data": {
      "image/png": "[encoded data removed]",
      "text/plain": [
       "<Figure size 432x288 with 1 Axes>"
      ]
     },
     "metadata": {
      "needs_background": "light"
     },
     "output_type": "display_data"
    }
   ],
   "source": [
    "print(model.predict(X_0.reshape((1,)+x_min.shape)))\n",
    "imshow(X_0.reshape(28,28),cmap='Greys')"
   ]
  },
  {
   "cell_type": "code",
   "execution_count": 193,
   "metadata": {},
   "outputs": [
    {
     "name": "stdout",
     "output_type": "stream",
     "text": [
      "[[9.9891865e-01 3.7000189e-07 4.5676461e-05 5.2607766e-06 1.1919241e-06\n",
      "  2.2251972e-05 9.2564642e-06 7.1705371e-04 2.7968566e-04 6.0126808e-07]]\n"
     ]
    },
    {
     "data": {
      "text/plain": [
       "<matplotlib.image.AxesImage at 0x1a589fa550>"
      ]
     },
     "execution_count": 193,
     "metadata": {},
     "output_type": "execute_result"
    },
    {
     "data": {
      "image/png": "[encoded data removed]",
      "text/plain": [
       "<Figure size 432x288 with 1 Axes>"
      ]
     },
     "metadata": {
      "needs_background": "light"
     },
     "output_type": "display_data"
    }
   ],
   "source": [
    "print(model.predict(x_min.reshape((1,)+x_min.shape)))\n",
    "imshow(x_min.reshape(28,28),cmap='Greys')"
   ]
  },
  {
   "cell_type": "code",
   "execution_count": 185,
   "metadata": {},
   "outputs": [
    {
     "data": {
      "text/plain": [
       "5"
      ]
     },
     "execution_count": 185,
     "metadata": {},
     "output_type": "execute_result"
    }
   ],
   "source": [
    "np.argmax(model.predict(X.reshape((1,)+x_min.shape)),axis=1)[0]"
   ]
  },
  {
   "cell_type": "code",
   "execution_count": null,
   "metadata": {},
   "outputs": [],
   "source": []
  }
 ],
 "metadata": {
  "kernelspec": {
   "display_name": "Python 3",
   "language": "python",
   "name": "python3"
  },
  "language_info": {
   "codemirror_mode": {
    "name": "ipython",
    "version": 3
   },
   "file_extension": ".py",
   "mimetype": "text/x-python",
   "name": "python",
   "nbconvert_exporter": "python",
   "pygments_lexer": "ipython3",
   "version": "3.7.1"
  }
 },
 "nbformat": 4,
 "nbformat_minor": 2
}
