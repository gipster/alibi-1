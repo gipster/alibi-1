{
 "cells": [
  {
   "cell_type": "code",
   "execution_count": 1,
   "metadata": {},
   "outputs": [],
   "source": [
    "import pandas as pd\n",
    "import numpy as np\n",
    "from scipy.spatial.distance import cityblock\n",
    "from scipy.optimize import minimize\n",
    "from sklearn import datasets"
   ]
  },
  {
   "cell_type": "code",
   "execution_count": 2,
   "metadata": {},
   "outputs": [
    {
     "data": {
      "text/plain": [
       "array([0.96666667, 1.        , 0.96666667, 0.96666667, 1.        ])"
      ]
     },
     "execution_count": 2,
     "metadata": {},
     "output_type": "execute_result"
    }
   ],
   "source": [
    "from sklearn import svm, datasets\n",
    "from sklearn.model_selection import cross_val_score\n",
    "iris = datasets.load_iris()\n",
    "X, y = iris.data, iris.target\n",
    "clf = svm.SVC(gamma='scale', random_state=0)\n",
    "cross_val_score(clf, X, y, scoring='recall_macro',cv=5)  "
   ]
  },
  {
   "cell_type": "code",
   "execution_count": null,
   "metadata": {},
   "outputs": [],
   "source": []
  },
  {
   "cell_type": "code",
   "execution_count": null,
   "metadata": {},
   "outputs": [],
   "source": []
  },
  {
   "cell_type": "markdown",
   "metadata": {},
   "source": [
    "# Data prep"
   ]
  },
  {
   "cell_type": "code",
   "execution_count": 3,
   "metadata": {},
   "outputs": [],
   "source": [
    "iris = datasets.load_iris()\n",
    "X = iris.data\n",
    "y = iris.target"
   ]
  },
  {
   "cell_type": "code",
   "execution_count": 4,
   "metadata": {},
   "outputs": [
    {
     "name": "stdout",
     "output_type": "stream",
     "text": [
      "(120, 4) (120,)\n",
      "(30, 4) (30,)\n"
     ]
    }
   ],
   "source": [
    "#np.random.shuffle(X)\n",
    "split=0.8\n",
    "X_train,y_train=X[:int(split*len(X)),:],y[:int(split*len(X))]\n",
    "X_test,y_test=X[int(split*len(X)):,:],y[int(split*len(X)):]\n",
    "print(X_train.shape,y_train.shape)\n",
    "print(X_test.shape,y_test.shape)"
   ]
  },
  {
   "cell_type": "markdown",
   "metadata": {},
   "source": [
    "# Train "
   ]
  },
  {
   "cell_type": "code",
   "execution_count": 5,
   "metadata": {},
   "outputs": [],
   "source": [
    "from sklearn.ensemble import RandomForestClassifier\n",
    "from sklearn.linear_model import LogisticRegression\n",
    "from sklearn.neural_network import MLPClassifier\n",
    "from sklearn.metrics import confusion_matrix, accuracy_score,precision_score,recall_score\n",
    "from sklearn.utils.class_weight import compute_sample_weight\n",
    "from sklearn import svm, datasets\n",
    "from sklearn.model_selection import GridSearchCV\n",
    "from sklearn.neighbors import KNeighborsClassifier\n",
    "from sklearn.naive_bayes import GaussianNB\n",
    "from sklearn import svm\n",
    "from sklearn.model_selection import cross_val_score"
   ]
  },
  {
   "cell_type": "code",
   "execution_count": 6,
   "metadata": {},
   "outputs": [
    {
     "ename": "NameError",
     "evalue": "name '_calculate_franges' is not defined",
     "output_type": "error",
     "traceback": [
      "\u001b[0;31m---------------------------------------------------------------------------\u001b[0m",
      "\u001b[0;31mNameError\u001b[0m                                 Traceback (most recent call last)",
      "\u001b[0;32m<ipython-input-6-8e1c2473fe7c>\u001b[0m in \u001b[0;36m<module>\u001b[0;34m()\u001b[0m\n\u001b[0;32m----> 1\u001b[0;31m \u001b[0m_calculate_franges\u001b[0m\u001b[0;34m(\u001b[0m\u001b[0mX_train\u001b[0m\u001b[0;34m)\u001b[0m\u001b[0;34m\u001b[0m\u001b[0m\n\u001b[0m",
      "\u001b[0;31mNameError\u001b[0m: name '_calculate_franges' is not defined"
     ]
    }
   ],
   "source": [
    "_calculate_franges(X_train)"
   ]
  },
  {
   "cell_type": "code",
   "execution_count": 7,
   "metadata": {},
   "outputs": [],
   "source": [
    "#parameters = {'hidden_layer_sizes':((5,),(10,)),'activation':('relu','logistic')}\n",
    "#nn = MLPClassifier()\n",
    "#clf = GridSearchCV(nn, parameters, cv=2,scoring='accuracy')"
   ]
  },
  {
   "cell_type": "code",
   "execution_count": 8,
   "metadata": {},
   "outputs": [],
   "source": [
    "#clf.fit(X_train,y_train)"
   ]
  },
  {
   "cell_type": "code",
   "execution_count": 9,
   "metadata": {},
   "outputs": [],
   "source": [
    "#clf.cv_results_"
   ]
  },
  {
   "cell_type": "code",
   "execution_count": 10,
   "metadata": {},
   "outputs": [
    {
     "data": {
      "text/plain": [
       "SVC(C=1.0, cache_size=200, class_weight=None, coef0=0.0,\n",
       "  decision_function_shape='ovr', degree=3, gamma='scale', kernel='rbf',\n",
       "  max_iter=-1, probability=True, random_state=None, shrinking=True,\n",
       "  tol=0.001, verbose=False)"
      ]
     },
     "execution_count": 10,
     "metadata": {},
     "output_type": "execute_result"
    }
   ],
   "source": [
    "#clf = LogisticRegression()\n",
    "clf = svm.SVC(gamma='scale',probability=True)\n",
    "#cross_val_score(clf, X, y, scoring='recall_macro',cv=5)\n",
    "clf.fit(X,y)"
   ]
  },
  {
   "cell_type": "code",
   "execution_count": 11,
   "metadata": {},
   "outputs": [],
   "source": [
    "preds=clf.predict_proba(X)"
   ]
  },
  {
   "cell_type": "code",
   "execution_count": 12,
   "metadata": {},
   "outputs": [
    {
     "data": {
      "text/plain": [
       "array([[0.97834011, 0.01344511, 0.00821478],\n",
       "       [0.97275694, 0.01811364, 0.00912942],\n",
       "       [0.97847865, 0.01251508, 0.00900627],\n",
       "       [0.97049768, 0.01909167, 0.01041065],\n",
       "       [0.97918648, 0.0124115 , 0.00840202],\n",
       "       [0.96186742, 0.02701791, 0.01111468],\n",
       "       [0.97640315, 0.01382624, 0.00977061],\n",
       "       [0.97515233, 0.01616953, 0.00867814],\n",
       "       [0.96828025, 0.01961577, 0.01210398],\n",
       "       [0.9721749 , 0.01856692, 0.00925818],\n",
       "       [0.97356002, 0.01741541, 0.00902456],\n",
       "       [0.97167901, 0.01859543, 0.00972557],\n",
       "       [0.97404183, 0.01658655, 0.00937162],\n",
       "       [0.97606303, 0.01146288, 0.01247409],\n",
       "       [0.97194199, 0.01704967, 0.01100835],\n",
       "       [0.96048587, 0.02586656, 0.01364756],\n",
       "       [0.97634571, 0.01450332, 0.00915096],\n",
       "       [0.97732131, 0.01438238, 0.00829631],\n",
       "       [0.95528576, 0.03291139, 0.01180285],\n",
       "       [0.9756705 , 0.01520921, 0.00912029],\n",
       "       [0.95957175, 0.03009447, 0.01033379],\n",
       "       [0.97400134, 0.01689075, 0.00910791],\n",
       "       [0.98201295, 0.00780712, 0.01017993],\n",
       "       [0.95255598, 0.03642258, 0.01102144],\n",
       "       [0.95060003, 0.036518  , 0.01288197],\n",
       "       [0.96185097, 0.02803912, 0.01010992],\n",
       "       [0.96716561, 0.02317337, 0.00966103],\n",
       "       [0.97470328, 0.01669763, 0.00859909],\n",
       "       [0.97684158, 0.01492902, 0.00822941],\n",
       "       [0.96824096, 0.02143158, 0.01032746],\n",
       "       [0.96599929, 0.02382911, 0.0101716 ],\n",
       "       [0.96699983, 0.02370167, 0.0092985 ],\n",
       "       [0.97541532, 0.0143408 , 0.01024388],\n",
       "       [0.97279916, 0.01640351, 0.01079733],\n",
       "       [0.97085214, 0.01987021, 0.00927765],\n",
       "       [0.98031894, 0.01155207, 0.008129  ],\n",
       "       [0.97628296, 0.01514621, 0.00857083],\n",
       "       [0.97987832, 0.01147447, 0.00864721],\n",
       "       [0.9734493 , 0.01515683, 0.01139387],\n",
       "       [0.97455233, 0.01684548, 0.00860219],\n",
       "       [0.97994932, 0.01189767, 0.00815301],\n",
       "       [0.94740882, 0.03596354, 0.01662764],\n",
       "       [0.97602529, 0.01301307, 0.01096164],\n",
       "       [0.96282096, 0.026624  , 0.01055505],\n",
       "       [0.95049191, 0.03646606, 0.01304203],\n",
       "       [0.97139951, 0.01910166, 0.00949883],\n",
       "       [0.9735897 , 0.01685657, 0.00955373],\n",
       "       [0.97555309, 0.01468375, 0.00976316],\n",
       "       [0.97488625, 0.01626065, 0.00885311],\n",
       "       [0.97714192, 0.01451338, 0.0083447 ],\n",
       "       [0.01735866, 0.95042402, 0.03221731],\n",
       "       [0.01037032, 0.96810889, 0.02152079],\n",
       "       [0.01542201, 0.8316961 , 0.15288189],\n",
       "       [0.00506045, 0.97737146, 0.01756809],\n",
       "       [0.0082766 , 0.92788855, 0.06383485],\n",
       "       [0.00550166, 0.95704911, 0.03744923],\n",
       "       [0.01063701, 0.89884209, 0.0905209 ],\n",
       "       [0.02888916, 0.96048293, 0.01062791],\n",
       "       [0.00974267, 0.96951005, 0.02074728],\n",
       "       [0.0072248 , 0.97817437, 0.01460084],\n",
       "       [0.01381837, 0.97234858, 0.01383305],\n",
       "       [0.00714605, 0.98139626, 0.01145768],\n",
       "       [0.00631254, 0.98968563, 0.00400183],\n",
       "       [0.00694667, 0.910674  , 0.08237933],\n",
       "       [0.01415369, 0.98222701, 0.0036193 ],\n",
       "       [0.01227773, 0.97890418, 0.00881809],\n",
       "       [0.00646328, 0.92098611, 0.07255061],\n",
       "       [0.00686902, 0.99049603, 0.00263495],\n",
       "       [0.00690658, 0.83886043, 0.15423299],\n",
       "       [0.00658863, 0.98959524, 0.00381613],\n",
       "       [0.01055843, 0.52748213, 0.46195944],\n",
       "       [0.00776621, 0.98931138, 0.0029224 ],\n",
       "       [0.00923602, 0.53529415, 0.45546983],\n",
       "       [0.00666753, 0.95250048, 0.04083199],\n",
       "       [0.00847596, 0.98597028, 0.00555376],\n",
       "       [0.01036256, 0.97945211, 0.01018532],\n",
       "       [0.01124739, 0.89055033, 0.09820229],\n",
       "       [0.01240631, 0.45749835, 0.53009534],\n",
       "       [0.00638922, 0.94273483, 0.05087594],\n",
       "       [0.01661063, 0.97952769, 0.00386168],\n",
       "       [0.00710776, 0.98845914, 0.00443311],\n",
       "       [0.00909125, 0.98747204, 0.00343671],\n",
       "       [0.0074363 , 0.98978348, 0.00278022],\n",
       "       [0.00886338, 0.18397697, 0.80715965],\n",
       "       [0.00674072, 0.89595107, 0.09730821],\n",
       "       [0.01055942, 0.95207949, 0.03736109],\n",
       "       [0.01194457, 0.92834517, 0.05971026],\n",
       "       [0.00606142, 0.96313631, 0.03080227],\n",
       "       [0.00760167, 0.98680086, 0.00559747],\n",
       "       [0.00540754, 0.98328989, 0.01130257],\n",
       "       [0.00495133, 0.96336019, 0.03168847],\n",
       "       [0.00725455, 0.95208575, 0.0406597 ],\n",
       "       [0.00613967, 0.98986808, 0.00399224],\n",
       "       [0.02502094, 0.96544041, 0.00953864],\n",
       "       [0.0053416 , 0.98123124, 0.01342715],\n",
       "       [0.00739608, 0.98783584, 0.00476808],\n",
       "       [0.00639833, 0.98570973, 0.00789194],\n",
       "       [0.00738332, 0.98623833, 0.00637835],\n",
       "       [0.06237405, 0.92323889, 0.01438706],\n",
       "       [0.00622418, 0.98740284, 0.00637298],\n",
       "       [0.00974655, 0.0013005 , 0.98895295],\n",
       "       [0.00841686, 0.04013639, 0.95144676],\n",
       "       [0.00876535, 0.00344231, 0.98779234],\n",
       "       [0.00755407, 0.01023787, 0.98220806],\n",
       "       [0.00775056, 0.00165866, 0.99059079],\n",
       "       [0.0124958 , 0.00346712, 0.98403708],\n",
       "       [0.011724  , 0.40524605, 0.58302995],\n",
       "       [0.0101381 , 0.00383273, 0.98602917],\n",
       "       [0.00830788, 0.00406095, 0.98763117],\n",
       "       [0.01215608, 0.00332545, 0.98451846],\n",
       "       [0.01084139, 0.11344694, 0.87571167],\n",
       "       [0.00809559, 0.0241872 , 0.96771721],\n",
       "       [0.00853979, 0.0097583 , 0.98170191],\n",
       "       [0.00863969, 0.02886127, 0.96249904],\n",
       "       [0.00885366, 0.00572139, 0.98542495],\n",
       "       [0.00921798, 0.01044643, 0.98033559],\n",
       "       [0.00807855, 0.02440622, 0.96751523],\n",
       "       [0.01707795, 0.00708737, 0.97583468],\n",
       "       [0.01721957, 0.00419384, 0.97858659],\n",
       "       [0.00987642, 0.21100969, 0.7791139 ],\n",
       "       [0.00903035, 0.00363614, 0.98733352],\n",
       "       [0.00937746, 0.07457852, 0.91604402],\n",
       "       [0.01407864, 0.00410835, 0.98181301],\n",
       "       [0.00982979, 0.26925481, 0.7209154 ],\n",
       "       [0.00865856, 0.00613991, 0.98520153],\n",
       "       [0.00958643, 0.00933428, 0.98107929],\n",
       "       [0.00972399, 0.41991941, 0.57035661],\n",
       "       [0.00996438, 0.34458131, 0.64545431],\n",
       "       [0.00745266, 0.00288858, 0.98965876],\n",
       "       [0.00999085, 0.03064473, 0.95936442],\n",
       "       [0.01015843, 0.00471488, 0.98512669],\n",
       "       [0.01708199, 0.01505436, 0.96786366],\n",
       "       [0.00755994, 0.00209361, 0.99034646],\n",
       "       [0.00981255, 0.38053307, 0.60965438],\n",
       "       [0.0086261 , 0.03306205, 0.95831185],\n",
       "       [0.01207838, 0.0044303 , 0.98349132],\n",
       "       [0.00953315, 0.00299789, 0.98746896],\n",
       "       [0.00817772, 0.02637159, 0.96545069],\n",
       "       [0.00978722, 0.46089851, 0.52931427],\n",
       "       [0.00936484, 0.02085665, 0.96977852],\n",
       "       [0.00880265, 0.00260358, 0.98859377],\n",
       "       [0.01152485, 0.04089671, 0.94757844],\n",
       "       [0.00841686, 0.04013639, 0.95144676],\n",
       "       [0.00869471, 0.00197645, 0.98932884],\n",
       "       [0.00962829, 0.00224861, 0.9881231 ],\n",
       "       [0.00977999, 0.01674163, 0.97347838],\n",
       "       [0.00944478, 0.08015722, 0.910398  ],\n",
       "       [0.00921232, 0.04786392, 0.94292376],\n",
       "       [0.00967563, 0.0082316 , 0.98209277],\n",
       "       [0.00909613, 0.11686542, 0.87403845]])"
      ]
     },
     "execution_count": 12,
     "metadata": {},
     "output_type": "execute_result"
    }
   ],
   "source": [
    "preds"
   ]
  },
  {
   "cell_type": "code",
   "execution_count": 13,
   "metadata": {},
   "outputs": [
    {
     "ename": "ValueError",
     "evalue": "Classification metrics can't handle a mix of multiclass and continuous-multioutput targets",
     "output_type": "error",
     "traceback": [
      "\u001b[0;31m---------------------------------------------------------------------------\u001b[0m",
      "\u001b[0;31mValueError\u001b[0m                                Traceback (most recent call last)",
      "\u001b[0;32m<ipython-input-13-118b55b9e91e>\u001b[0m in \u001b[0;36m<module>\u001b[0;34m()\u001b[0m\n\u001b[0;32m----> 1\u001b[0;31m \u001b[0mconfusion_matrix\u001b[0m\u001b[0;34m(\u001b[0m\u001b[0my\u001b[0m\u001b[0;34m,\u001b[0m\u001b[0mpreds\u001b[0m\u001b[0;34m)\u001b[0m\u001b[0;34m\u001b[0m\u001b[0m\n\u001b[0m",
      "\u001b[0;32m~/anaconda3/lib/python3.6/site-packages/sklearn/metrics/classification.py\u001b[0m in \u001b[0;36mconfusion_matrix\u001b[0;34m(y_true, y_pred, labels, sample_weight)\u001b[0m\n\u001b[1;32m    251\u001b[0m \u001b[0;34m\u001b[0m\u001b[0m\n\u001b[1;32m    252\u001b[0m     \"\"\"\n\u001b[0;32m--> 253\u001b[0;31m     \u001b[0my_type\u001b[0m\u001b[0;34m,\u001b[0m \u001b[0my_true\u001b[0m\u001b[0;34m,\u001b[0m \u001b[0my_pred\u001b[0m \u001b[0;34m=\u001b[0m \u001b[0m_check_targets\u001b[0m\u001b[0;34m(\u001b[0m\u001b[0my_true\u001b[0m\u001b[0;34m,\u001b[0m \u001b[0my_pred\u001b[0m\u001b[0;34m)\u001b[0m\u001b[0;34m\u001b[0m\u001b[0m\n\u001b[0m\u001b[1;32m    254\u001b[0m     \u001b[0;32mif\u001b[0m \u001b[0my_type\u001b[0m \u001b[0;32mnot\u001b[0m \u001b[0;32min\u001b[0m \u001b[0;34m(\u001b[0m\u001b[0;34m\"binary\"\u001b[0m\u001b[0;34m,\u001b[0m \u001b[0;34m\"multiclass\"\u001b[0m\u001b[0;34m)\u001b[0m\u001b[0;34m:\u001b[0m\u001b[0;34m\u001b[0m\u001b[0m\n\u001b[1;32m    255\u001b[0m         \u001b[0;32mraise\u001b[0m \u001b[0mValueError\u001b[0m\u001b[0;34m(\u001b[0m\u001b[0;34m\"%s is not supported\"\u001b[0m \u001b[0;34m%\u001b[0m \u001b[0my_type\u001b[0m\u001b[0;34m)\u001b[0m\u001b[0;34m\u001b[0m\u001b[0m\n",
      "\u001b[0;32m~/anaconda3/lib/python3.6/site-packages/sklearn/metrics/classification.py\u001b[0m in \u001b[0;36m_check_targets\u001b[0;34m(y_true, y_pred)\u001b[0m\n\u001b[1;32m     79\u001b[0m     \u001b[0;32mif\u001b[0m \u001b[0mlen\u001b[0m\u001b[0;34m(\u001b[0m\u001b[0my_type\u001b[0m\u001b[0;34m)\u001b[0m \u001b[0;34m>\u001b[0m \u001b[0;36m1\u001b[0m\u001b[0;34m:\u001b[0m\u001b[0;34m\u001b[0m\u001b[0m\n\u001b[1;32m     80\u001b[0m         raise ValueError(\"Classification metrics can't handle a mix of {0} \"\n\u001b[0;32m---> 81\u001b[0;31m                          \"and {1} targets\".format(type_true, type_pred))\n\u001b[0m\u001b[1;32m     82\u001b[0m \u001b[0;34m\u001b[0m\u001b[0m\n\u001b[1;32m     83\u001b[0m     \u001b[0;31m# We can't have more than one value on y_type => The set is no more needed\u001b[0m\u001b[0;34m\u001b[0m\u001b[0;34m\u001b[0m\u001b[0m\n",
      "\u001b[0;31mValueError\u001b[0m: Classification metrics can't handle a mix of multiclass and continuous-multioutput targets"
     ]
    }
   ],
   "source": [
    "confusion_matrix(y,preds)"
   ]
  },
  {
   "cell_type": "code",
   "execution_count": 274,
   "metadata": {},
   "outputs": [
    {
     "data": {
      "text/plain": [
       "0.9866666666666667"
      ]
     },
     "execution_count": 274,
     "metadata": {},
     "output_type": "execute_result"
    }
   ],
   "source": [
    "recall_score(y,preds,average='macro')"
   ]
  },
  {
   "cell_type": "code",
   "execution_count": 278,
   "metadata": {},
   "outputs": [
    {
     "data": {
      "text/plain": [
       "0.3333333333333333"
      ]
     },
     "execution_count": 278,
     "metadata": {},
     "output_type": "execute_result"
    }
   ],
   "source": [
    "1/len(np.unique(y))"
   ]
  },
  {
   "cell_type": "markdown",
   "metadata": {},
   "source": [
    "# Explainer class"
   ]
  },
  {
   "cell_type": "code",
   "execution_count": 54,
   "metadata": {},
   "outputs": [],
   "source": [
    "def _calculate_franges(X_train):\n",
    "    f_ranges=[]\n",
    "    for i in range(X_train.shape[1]):\n",
    "        mi,ma=X_train[:,i].min(),X_train[:,i].max()\n",
    "        f_ranges.append((mi,ma))\n",
    "    return f_ranges\n",
    "\n",
    "\n",
    "def _calculate_radius(f_ranges,epsilon=0.1):\n",
    "    rs=[]\n",
    "    for l,h in f_ranges:\n",
    "        r=epsilon*(h-l)\n",
    "        rs.append(r)\n",
    "    return rs\n",
    "\n",
    "\n",
    "def _generate_samples(X,rs,nb_samples,all_positive=True):\n",
    "    lower_bounds = X-rs\n",
    "    upper_bounds = X+rs\n",
    "    if all_positive:\n",
    "        lower_bounds[lower_bounds<0]=0\n",
    "            \n",
    "    samples_in=[]\n",
    "    for _ in range(nb_samples):\n",
    "        S=np.asarray([np.random.uniform(low=lb,high=hb) for lb,hb in zip(lower_bounds,upper_bounds)])\n",
    "        #if cityblock(S,X) < epsilon:\n",
    "        #    samples_in.append(S)\n",
    "        samples_in.append(S)\n",
    "    return np.asarray(samples_in)\n",
    "\n",
    "\n",
    "def _calculate_confidence_treshold(X,model,y_train):\n",
    "    preds=model.predict(X)\n",
    "    assert isinstance(pred,np.array), 'predictions not in a np.array format. Prediction format: {}'.format(type(preds))\n",
    "    pred_class=np.argmax(preds)\n",
    "    p_class = len(y_train[np.where(y_train==pred_class)])/len(y_train)\n",
    "    return 1-p_class\n",
    "    \n",
    "        \n",
    "class CounterFactual(object):\n",
    "    \n",
    "    def __init__(self,model,X_train,y_train,\n",
    "                 method='rndsample',tollerance=0,epsilon=0.1,epsilon_step=0.1,lam=1,nb_samples=100):\n",
    "        self.model=model\n",
    "        self.X_train=X_train\n",
    "        self.y_train=y_train\n",
    "        self.method=method\n",
    "        self.tollerance=tollerance\n",
    "        self.epsilon=epsilon\n",
    "        self.epsilon_step=epsilon_step\n",
    "        self.lam=lam\n",
    "        self.nb_samples=nb_samples\n",
    "        \n",
    "    def generate_explanation(self,X):\n",
    "        f_ranges=_calculate_franges(self.X_train)\n",
    "        probas_x = self.model.predict_proba(np.asarray(X).reshape(1, -1))\n",
    "        pred_class = np.argmax(probas_x,axis=1)[0]\n",
    "        max_proba_x = probas_x[:,pred_class]\n",
    "        \n",
    "        if self.method=='rndsample':\n",
    "            while self.epsilon<2:\n",
    "                rs=_calculate_radius(f_ranges=f_ranges,epsilon=self.epsilon)\n",
    "                samples_in=_generate_samples(X,rs,self.nb_samples)\n",
    "            \n",
    "                probas_si = self.model.predict_proba(samples_in)\n",
    "                pred_classes = np.argmax(probas_si,axis=1)\n",
    "                unique, counts = np.unique(pred_classes, return_counts=True)\n",
    "                majority_class = unique[np.argmax(counts)]\n",
    "                print ('Original predicted class: {}; Majority class in sampled data: {}'.format(pred_class, majority_class))                        \n",
    "                avg_probas = probas_si.mean(axis=0)\n",
    "            \n",
    "                if majority_class!=pred_class:\n",
    "                #if avg_pred<max_proba_x-self.tollerance:\n",
    "                    samples_flip = samples_in[np.where(pred_classes!=pred_class)]\n",
    "                    cf_instance=samples_flip.mean(axis=0)\n",
    "                    print ('Epsilon', self.epsilon)\n",
    "                    print ('==========================')\n",
    "                    print ('Number of samples:',len(samples_in))\n",
    "                    print ('Original predicted class {} with probability {}:'.format(iris.target_names[pred_class],max_proba_x))\n",
    "                    print ('Majority class in sampled data points', iris.target_names[majority_class])\n",
    "                    print ('Original instance:',X)\n",
    "                    print ('Counfact instance:', cf_instance)\n",
    "                    print ('Features values difference', cf_instance-X)\n",
    "                    print ('L1 distance from X',cityblock(cf_instance,X))\n",
    "                    self.explaning_instance=cf_instance\n",
    "                #self.avg_pred=avg_pred\n",
    "                    self.samples_flip=samples_flip\n",
    "                    self.features_values_diff=cf_instance-X\n",
    "                    self.l1_distance=cityblock(cf_instance,X)\n",
    "                    break\n",
    "                \n",
    "                self.epsilon+=self.epsilon_step\n",
    "            return self.explaning_instance\n",
    "        \n",
    "        elif self.method=='minloss':\n",
    "            def countefactual_loss(x,XX=np.random.uniform(size=X.shape),lam=self.lam,yy=2/3):\n",
    "                return lam*(self.model.predict_proba(x.reshape(1,-1))[:,pred_class]-yy)**2 + cityblock(x,XX)\n",
    "            def contrains_diff(x,yy=2/3,tollerance=self.tollerance):\n",
    "                return (self.model.predict_proba(x.reshape(1,-1))[:,pred_class]-yy)**2<=tollerance\n",
    "            def contrains_dist(x,XX=X,epsilon=self.epsilon):\n",
    "                return cityblock(x,XX)<epsilon\n",
    "            \n",
    "            res=minimize(countefactual_loss,X,method='COBYLA',\n",
    "                         constraints=[{'type':'ineq','fun':contrains_dist},{'type':'ineq','fun':contrains_diff}])\n",
    "            self.explaning_instance=res.x\n",
    "            print ('Max proba X',max_proba_x)\n",
    "            print ('Predicted class original',iris.target_names[pred_class])\n",
    "            print ('Original instance',X)\n",
    "            print ('Counfact instance', self.explaning_instance)\n",
    "            print ('Features values difference', self.explaning_instance-X)\n",
    "            print ('L1 distance from X',cityblock(self.explaning_instance,X))\n",
    "            return self.explaning_instance\n",
    "            "
   ]
  },
  {
   "cell_type": "code",
   "execution_count": 55,
   "metadata": {},
   "outputs": [],
   "source": [
    "cf=CounterFactual(clf,X,y,method='rndsample',lam=1,tollerance=0.1,epsilon=0.01,nb_samples=300)"
   ]
  },
  {
   "cell_type": "code",
   "execution_count": 56,
   "metadata": {},
   "outputs": [
    {
     "name": "stdout",
     "output_type": "stream",
     "text": [
      "Original predicted class: 0; Majority class in sampled data: 0\n",
      "Original predicted class: 0; Majority class in sampled data: 0\n",
      "Original predicted class: 0; Majority class in sampled data: 0\n",
      "Original predicted class: 0; Majority class in sampled data: 0\n",
      "Original predicted class: 0; Majority class in sampled data: 0\n",
      "Original predicted class: 0; Majority class in sampled data: 0\n",
      "Original predicted class: 0; Majority class in sampled data: 1\n",
      "Epsilon 0.61\n",
      "==========================\n",
      "Number of samples: 300\n",
      "Original predicted class setosa with probability [0.95957175]:\n",
      "Majority class in sampled data points versicolor\n",
      "Original instance: [5.4 3.4 1.7 0.2]\n",
      "Counfact instance: [5.4533561  3.30333917 3.7566682  0.8438514 ]\n",
      "Features values difference [ 0.0533561  -0.09666083  2.0566682   0.6438514 ]\n",
      "L1 distance from X 2.8505365369914553\n"
     ]
    }
   ],
   "source": [
    "expl=cf.generate_explanation(X[20])"
   ]
  },
  {
   "cell_type": "code",
   "execution_count": 48,
   "metadata": {},
   "outputs": [
    {
     "data": {
      "text/plain": [
       "array([5.49427191, 3.2487006 , 3.82074829, 0.70802545])"
      ]
     },
     "execution_count": 48,
     "metadata": {},
     "output_type": "execute_result"
    }
   ],
   "source": [
    "expl"
   ]
  },
  {
   "cell_type": "code",
   "execution_count": 428,
   "metadata": {},
   "outputs": [
    {
     "data": {
      "text/plain": [
       "array([0])"
      ]
     },
     "execution_count": 428,
     "metadata": {},
     "output_type": "execute_result"
    }
   ],
   "source": [
    "clf.predict([[5.0,3.5,1.3,1.4]])"
   ]
  },
  {
   "cell_type": "code",
   "execution_count": 429,
   "metadata": {},
   "outputs": [
    {
     "data": {
      "text/plain": [
       "'versicolor'"
      ]
     },
     "execution_count": 429,
     "metadata": {},
     "output_type": "execute_result"
    }
   ],
   "source": [
    "iris.target_names[1]"
   ]
  },
  {
   "cell_type": "code",
   "execution_count": null,
   "metadata": {},
   "outputs": [],
   "source": []
  },
  {
   "cell_type": "code",
   "execution_count": null,
   "metadata": {},
   "outputs": [],
   "source": []
  }
 ],
 "metadata": {
  "kernelspec": {
   "display_name": "Python 3",
   "language": "python",
   "name": "python3"
  },
  "language_info": {
   "codemirror_mode": {
    "name": "ipython",
    "version": 3
   },
   "file_extension": ".py",
   "mimetype": "text/x-python",
   "name": "python",
   "nbconvert_exporter": "python",
   "pygments_lexer": "ipython3",
   "version": "3.6.5"
  }
 },
 "nbformat": 4,
 "nbformat_minor": 2
}
