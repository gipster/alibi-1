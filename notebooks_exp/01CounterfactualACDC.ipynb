v{
 "cells": [
  {
   "cell_type": "markdown",
   "metadata": {},
   "source": [
    "# Sampling method"
   ]
  },
  {
   "cell_type": "code",
   "execution_count": 1,
   "metadata": {},
   "outputs": [],
   "source": [
    "import pandas as pd\n",
    "import numpy as np\n",
    "from scipy.spatial.distance import cityblock"
   ]
  },
  {
   "cell_type": "code",
   "execution_count": 74,
   "metadata": {},
   "outputs": [],
   "source": [
    "X = 10*np.arange(10)\n",
    "X=np.vstack((X,10*np.arange(10,20))).T"
   ]
  },
  {
   "cell_type": "code",
   "execution_count": 75,
   "metadata": {},
   "outputs": [],
   "source": [
    "from functools import reduce"
   ]
  },
  {
   "cell_type": "code",
   "execution_count": 76,
   "metadata": {},
   "outputs": [
    {
     "data": {
      "text/plain": [
       "[[0, 100],\n",
       " [10, 110],\n",
       " [20, 120],\n",
       " [30, 130],\n",
       " [40, 140],\n",
       " [50, 150],\n",
       " [60, 160],\n",
       " [70, 170],\n",
       " [80, 180],\n",
       " [90, 190]]"
      ]
     },
     "execution_count": 76,
     "metadata": {},
     "output_type": "execute_result"
    }
   ],
   "source": [
    "X.tolist()"
   ]
  },
  {
   "cell_type": "code",
   "execution_count": 77,
   "metadata": {},
   "outputs": [
    {
     "data": {
      "text/plain": [
       "array([[ 90, 190],\n",
       "       [  0, 100],\n",
       "       [ 10, 110],\n",
       "       [ 20, 120],\n",
       "       [ 30, 130],\n",
       "       [ 40, 140],\n",
       "       [ 50, 150],\n",
       "       [ 60, 160],\n",
       "       [ 70, 170],\n",
       "       [ 80, 180]])"
      ]
     },
     "execution_count": 77,
     "metadata": {},
     "output_type": "execute_result"
    }
   ],
   "source": [
    "np.roll(X,1,axis=0)"
   ]
  },
  {
   "cell_type": "code",
   "execution_count": 64,
   "metadata": {},
   "outputs": [
    {
     "data": {
      "text/plain": [
       "50"
      ]
     },
     "execution_count": 64,
     "metadata": {},
     "output_type": "execute_result"
    }
   ],
   "source": [
    "reduce(lambda x,y:cityblock(np.asarray(x),np.asarray(y)),X.tolist())"
   ]
  },
  {
   "cell_type": "code",
   "execution_count": 69,
   "metadata": {},
   "outputs": [],
   "source": [
    "from sklearn.metrics.pairwise import manhattan_distances"
   ]
  },
  {
   "cell_type": "code",
   "execution_count": null,
   "metadata": {},
   "outputs": [],
   "source": [
    "from sklearn.neighbors import DistanceMetric"
   ]
  },
  {
   "cell_type": "code",
   "execution_count": 85,
   "metadata": {},
   "outputs": [
    {
     "data": {
      "text/plain": [
       "array([[ 10, 110],\n",
       "       [ 40, 140],\n",
       "       [ 90, 190],\n",
       "       [ 30, 130],\n",
       "       [ 50, 150]])"
      ]
     },
     "execution_count": 85,
     "metadata": {},
     "output_type": "execute_result"
    }
   ],
   "source": [
    "np.random.permutation(X)[:5]"
   ]
  },
  {
   "cell_type": "code",
   "execution_count": 80,
   "metadata": {},
   "outputs": [
    {
     "data": {
      "text/plain": [
       "array([[ 0.,  0.],\n",
       "       [10., 10.],\n",
       "       [20., 20.],\n",
       "       [30., 30.],\n",
       "       [40., 40.],\n",
       "       [50., 50.],\n",
       "       [60., 60.],\n",
       "       [70., 70.],\n",
       "       [80., 80.],\n",
       "       [90., 90.],\n",
       "       [10., 10.],\n",
       "       [ 0.,  0.],\n",
       "       [10., 10.],\n",
       "       [20., 20.],\n",
       "       [30., 30.],\n",
       "       [40., 40.],\n",
       "       [50., 50.],\n",
       "       [60., 60.],\n",
       "       [70., 70.],\n",
       "       [80., 80.],\n",
       "       [20., 20.],\n",
       "       [10., 10.],\n",
       "       [ 0.,  0.],\n",
       "       [10., 10.],\n",
       "       [20., 20.],\n",
       "       [30., 30.],\n",
       "       [40., 40.],\n",
       "       [50., 50.],\n",
       "       [60., 60.],\n",
       "       [70., 70.],\n",
       "       [30., 30.],\n",
       "       [20., 20.],\n",
       "       [10., 10.],\n",
       "       [ 0.,  0.],\n",
       "       [10., 10.],\n",
       "       [20., 20.],\n",
       "       [30., 30.],\n",
       "       [40., 40.],\n",
       "       [50., 50.],\n",
       "       [60., 60.],\n",
       "       [40., 40.],\n",
       "       [30., 30.],\n",
       "       [20., 20.],\n",
       "       [10., 10.],\n",
       "       [ 0.,  0.],\n",
       "       [10., 10.],\n",
       "       [20., 20.],\n",
       "       [30., 30.],\n",
       "       [40., 40.],\n",
       "       [50., 50.],\n",
       "       [50., 50.],\n",
       "       [40., 40.],\n",
       "       [30., 30.],\n",
       "       [20., 20.],\n",
       "       [10., 10.],\n",
       "       [ 0.,  0.],\n",
       "       [10., 10.],\n",
       "       [20., 20.],\n",
       "       [30., 30.],\n",
       "       [40., 40.],\n",
       "       [60., 60.],\n",
       "       [50., 50.],\n",
       "       [40., 40.],\n",
       "       [30., 30.],\n",
       "       [20., 20.],\n",
       "       [10., 10.],\n",
       "       [ 0.,  0.],\n",
       "       [10., 10.],\n",
       "       [20., 20.],\n",
       "       [30., 30.],\n",
       "       [70., 70.],\n",
       "       [60., 60.],\n",
       "       [50., 50.],\n",
       "       [40., 40.],\n",
       "       [30., 30.],\n",
       "       [20., 20.],\n",
       "       [10., 10.],\n",
       "       [ 0.,  0.],\n",
       "       [10., 10.],\n",
       "       [20., 20.],\n",
       "       [80., 80.],\n",
       "       [70., 70.],\n",
       "       [60., 60.],\n",
       "       [50., 50.],\n",
       "       [40., 40.],\n",
       "       [30., 30.],\n",
       "       [20., 20.],\n",
       "       [10., 10.],\n",
       "       [ 0.,  0.],\n",
       "       [10., 10.],\n",
       "       [90., 90.],\n",
       "       [80., 80.],\n",
       "       [70., 70.],\n",
       "       [60., 60.],\n",
       "       [50., 50.],\n",
       "       [40., 40.],\n",
       "       [30., 30.],\n",
       "       [20., 20.],\n",
       "       [10., 10.],\n",
       "       [ 0.,  0.]])"
      ]
     },
     "execution_count": 80,
     "metadata": {},
     "output_type": "execute_result"
    }
   ],
   "source": [
    "manhattan_distances(X,X,sum_over_features=False)"
   ]
  },
  {
   "cell_type": "code",
   "execution_count": 65,
   "metadata": {},
   "outputs": [
    {
     "data": {
      "text/plain": [
       "10"
      ]
     },
     "execution_count": 65,
     "metadata": {},
     "output_type": "execute_result"
    }
   ],
   "source": [
    "cityblock(X[8],X[9])"
   ]
  },
  {
   "cell_type": "code",
   "execution_count": 49,
   "metadata": {},
   "outputs": [
    {
     "data": {
      "text/plain": [
       "18"
      ]
     },
     "execution_count": 49,
     "metadata": {},
     "output_type": "execute_result"
    }
   ],
   "source": [
    "np.abs(X-np.roll(X,1,axis=0)).sum(axis=1).max()"
   ]
  },
  {
   "cell_type": "code",
   "execution_count": 26,
   "metadata": {},
   "outputs": [],
   "source": [
    "def distance(X):\n",
    "    return cityblock(X[i],X[i+1])"
   ]
  },
  {
   "cell_type": "code",
   "execution_count": 29,
   "metadata": {},
   "outputs": [],
   "source": [
    "df = pd.DataFrame(X)"
   ]
  },
  {
   "cell_type": "code",
   "execution_count": 34,
   "metadata": {},
   "outputs": [
    {
     "data": {
      "text/html": [
       "<div>\n",
       "<style scoped>\n",
       "    .dataframe tbody tr th:only-of-type {\n",
       "        vertical-align: middle;\n",
       "    }\n",
       "\n",
       "    .dataframe tbody tr th {\n",
       "        vertical-align: top;\n",
       "    }\n",
       "\n",
       "    .dataframe thead th {\n",
       "        text-align: right;\n",
       "    }\n",
       "</style>\n",
       "<table border=\"1\" class=\"dataframe\">\n",
       "  <thead>\n",
       "    <tr style=\"text-align: right;\">\n",
       "      <th></th>\n",
       "      <th>0</th>\n",
       "      <th>1</th>\n",
       "    </tr>\n",
       "  </thead>\n",
       "  <tbody>\n",
       "    <tr>\n",
       "      <th>0</th>\n",
       "      <td>0</td>\n",
       "      <td>10</td>\n",
       "    </tr>\n",
       "    <tr>\n",
       "      <th>1</th>\n",
       "      <td>1</td>\n",
       "      <td>11</td>\n",
       "    </tr>\n",
       "    <tr>\n",
       "      <th>2</th>\n",
       "      <td>2</td>\n",
       "      <td>12</td>\n",
       "    </tr>\n",
       "    <tr>\n",
       "      <th>3</th>\n",
       "      <td>3</td>\n",
       "      <td>13</td>\n",
       "    </tr>\n",
       "    <tr>\n",
       "      <th>4</th>\n",
       "      <td>4</td>\n",
       "      <td>14</td>\n",
       "    </tr>\n",
       "    <tr>\n",
       "      <th>5</th>\n",
       "      <td>5</td>\n",
       "      <td>15</td>\n",
       "    </tr>\n",
       "    <tr>\n",
       "      <th>6</th>\n",
       "      <td>6</td>\n",
       "      <td>16</td>\n",
       "    </tr>\n",
       "    <tr>\n",
       "      <th>7</th>\n",
       "      <td>7</td>\n",
       "      <td>17</td>\n",
       "    </tr>\n",
       "    <tr>\n",
       "      <th>8</th>\n",
       "      <td>8</td>\n",
       "      <td>18</td>\n",
       "    </tr>\n",
       "    <tr>\n",
       "      <th>9</th>\n",
       "      <td>9</td>\n",
       "      <td>19</td>\n",
       "    </tr>\n",
       "  </tbody>\n",
       "</table>\n",
       "</div>"
      ],
      "text/plain": [
       "   0   1\n",
       "0  0  10\n",
       "1  1  11\n",
       "2  2  12\n",
       "3  3  13\n",
       "4  4  14\n",
       "5  5  15\n",
       "6  6  16\n",
       "7  7  17\n",
       "8  8  18\n",
       "9  9  19"
      ]
     },
     "execution_count": 34,
     "metadata": {},
     "output_type": "execute_result"
    }
   ],
   "source": [
    "df"
   ]
  },
  {
   "cell_type": "code",
   "execution_count": 36,
   "metadata": {},
   "outputs": [
    {
     "data": {
      "text/html": [
       "<div>\n",
       "<style scoped>\n",
       "    .dataframe tbody tr th:only-of-type {\n",
       "        vertical-align: middle;\n",
       "    }\n",
       "\n",
       "    .dataframe tbody tr th {\n",
       "        vertical-align: top;\n",
       "    }\n",
       "\n",
       "    .dataframe thead th {\n",
       "        text-align: right;\n",
       "    }\n",
       "</style>\n",
       "<table border=\"1\" class=\"dataframe\">\n",
       "  <thead>\n",
       "    <tr style=\"text-align: right;\">\n",
       "      <th></th>\n",
       "      <th>0</th>\n",
       "      <th>1</th>\n",
       "    </tr>\n",
       "  </thead>\n",
       "  <tbody>\n",
       "    <tr>\n",
       "      <th>0</th>\n",
       "      <td>NaN</td>\n",
       "      <td>NaN</td>\n",
       "    </tr>\n",
       "    <tr>\n",
       "      <th>1</th>\n",
       "      <td>0.0</td>\n",
       "      <td>10.0</td>\n",
       "    </tr>\n",
       "    <tr>\n",
       "      <th>2</th>\n",
       "      <td>1.0</td>\n",
       "      <td>11.0</td>\n",
       "    </tr>\n",
       "    <tr>\n",
       "      <th>3</th>\n",
       "      <td>2.0</td>\n",
       "      <td>12.0</td>\n",
       "    </tr>\n",
       "    <tr>\n",
       "      <th>4</th>\n",
       "      <td>3.0</td>\n",
       "      <td>13.0</td>\n",
       "    </tr>\n",
       "    <tr>\n",
       "      <th>5</th>\n",
       "      <td>4.0</td>\n",
       "      <td>14.0</td>\n",
       "    </tr>\n",
       "    <tr>\n",
       "      <th>6</th>\n",
       "      <td>5.0</td>\n",
       "      <td>15.0</td>\n",
       "    </tr>\n",
       "    <tr>\n",
       "      <th>7</th>\n",
       "      <td>6.0</td>\n",
       "      <td>16.0</td>\n",
       "    </tr>\n",
       "    <tr>\n",
       "      <th>8</th>\n",
       "      <td>7.0</td>\n",
       "      <td>17.0</td>\n",
       "    </tr>\n",
       "    <tr>\n",
       "      <th>9</th>\n",
       "      <td>8.0</td>\n",
       "      <td>18.0</td>\n",
       "    </tr>\n",
       "  </tbody>\n",
       "</table>\n",
       "</div>"
      ],
      "text/plain": [
       "     0     1\n",
       "0  NaN   NaN\n",
       "1  0.0  10.0\n",
       "2  1.0  11.0\n",
       "3  2.0  12.0\n",
       "4  3.0  13.0\n",
       "5  4.0  14.0\n",
       "6  5.0  15.0\n",
       "7  6.0  16.0\n",
       "8  7.0  17.0\n",
       "9  8.0  18.0"
      ]
     },
     "execution_count": 36,
     "metadata": {},
     "output_type": "execute_result"
    }
   ],
   "source": [
    "df,df.shift()"
   ]
  },
  {
   "cell_type": "code",
   "execution_count": 22,
   "metadata": {},
   "outputs": [
    {
     "data": {
      "text/plain": [
       "array([[ 0, 10],\n",
       "       [ 1, 11],\n",
       "       [ 2, 12],\n",
       "       [ 3, 13],\n",
       "       [ 4, 14],\n",
       "       [ 5, 15],\n",
       "       [ 6, 16],\n",
       "       [ 7, 17],\n",
       "       [ 8, 18],\n",
       "       [ 9, 19]])"
      ]
     },
     "execution_count": 22,
     "metadata": {},
     "output_type": "execute_result"
    }
   ],
   "source": [
    "X"
   ]
  },
  {
   "cell_type": "markdown",
   "metadata": {},
   "source": [
    "### Synthetic data point 2 features"
   ]
  },
  {
   "cell_type": "code",
   "execution_count": 2,
   "metadata": {},
   "outputs": [
    {
     "data": {
      "text/plain": [
       "(8,)"
      ]
     },
     "execution_count": 2,
     "metadata": {},
     "output_type": "execute_result"
    }
   ],
   "source": [
    "nb_samples=100\n",
    "epsilon=0.1\n",
    "f_ranges=[(0,1),(10,20),(0,1),(10,20),(0,1),(10,20),(0,1),(10,20)]\n",
    "XX = np.asarray([np.random.uniform(low=l,high=h) for l,h in f_ranges])\n",
    "XX.shape\n"
   ]
  },
  {
   "cell_type": "code",
   "execution_count": 3,
   "metadata": {},
   "outputs": [
    {
     "data": {
      "text/plain": [
       "array([ 0.57923679, 15.1987012 ,  0.16999527, 12.18864878,  0.58952116,\n",
       "       13.21018957,  0.76793654, 16.66244089])"
      ]
     },
     "execution_count": 3,
     "metadata": {},
     "output_type": "execute_result"
    }
   ],
   "source": [
    "XX"
   ]
  },
  {
   "cell_type": "markdown",
   "metadata": {},
   "source": [
    "### Define epsilon-neighbourhood"
   ]
  },
  {
   "cell_type": "code",
   "execution_count": 82,
   "metadata": {},
   "outputs": [],
   "source": [
    "def _calculate_radius(f_ranges,epsilon=0.1):\n",
    "    rs=[]\n",
    "    for l,h in f_ranges:\n",
    "        r=epsilon*(h-l)\n",
    "        rs.append(r)\n",
    "    return rs"
   ]
  },
  {
   "cell_type": "code",
   "execution_count": 83,
   "metadata": {},
   "outputs": [
    {
     "data": {
      "text/plain": [
       "8"
      ]
     },
     "execution_count": 83,
     "metadata": {},
     "output_type": "execute_result"
    }
   ],
   "source": [
    "rs=_calculate_radius(f_ranges=f_ranges,epsilon=epsilon)\n",
    "len(rs)"
   ]
  },
  {
   "cell_type": "markdown",
   "metadata": {},
   "source": [
    "### Sample from neighbourhood"
   ]
  },
  {
   "cell_type": "code",
   "execution_count": 84,
   "metadata": {},
   "outputs": [],
   "source": [
    "def _generate_samples(X,rs,nb_samples):\n",
    "    lower_bounds = X-rs\n",
    "    upper_bounds = X+rs\n",
    "    samples_in=[]\n",
    "    for _ in range(nb_samples):\n",
    "        S=np.asarray([np.random.uniform(low=lb,high=hb) for lb,hb in zip(lower_bounds,upper_bounds)])\n",
    "        #if cityblock(S,X) < epsilon:\n",
    "        #    samples_in.append(S)\n",
    "        samples_in.append(S)\n",
    "    return np.asarray(samples_in)"
   ]
  },
  {
   "cell_type": "code",
   "execution_count": 85,
   "metadata": {},
   "outputs": [],
   "source": [
    "samples_in=_generate_samples(XX,rs,nb_samples)"
   ]
  },
  {
   "cell_type": "code",
   "execution_count": 86,
   "metadata": {},
   "outputs": [],
   "source": [
    "cf_instance=samples_in.mean(axis=0)"
   ]
  },
  {
   "cell_type": "code",
   "execution_count": 88,
   "metadata": {},
   "outputs": [
    {
     "data": {
      "text/plain": [
       "array([-0.00795677, -0.02846136, -0.00442178,  0.02903659, -0.0093416 ,\n",
       "        0.07085913,  0.00042877, -0.04377629])"
      ]
     },
     "execution_count": 88,
     "metadata": {},
     "output_type": "execute_result"
    }
   ],
   "source": [
    "cf_instance-XX"
   ]
  },
  {
   "cell_type": "code",
   "execution_count": 89,
   "metadata": {},
   "outputs": [
    {
     "data": {
      "text/plain": [
       "0.19428229072422692"
      ]
     },
     "execution_count": 89,
     "metadata": {},
     "output_type": "execute_result"
    }
   ],
   "source": [
    "cityblock(cf_instance,XX)"
   ]
  },
  {
   "cell_type": "markdown",
   "metadata": {},
   "source": [
    "### Expanding spheres"
   ]
  },
  {
   "cell_type": "code",
   "execution_count": 90,
   "metadata": {},
   "outputs": [],
   "source": [
    "def predict(batch):\n",
    "    return np.random.uniform(size=len(batch))"
   ]
  },
  {
   "cell_type": "code",
   "execution_count": 91,
   "metadata": {},
   "outputs": [
    {
     "name": "stdout",
     "output_type": "stream",
     "text": [
      "Epsilon 0.1\n",
      "==========================\n",
      "Average pred 0.5111357166855156\n",
      "Original instance [ 0.97437815 15.83637408  0.89134279 17.39207511  0.48911485 18.48155088\n",
      "  0.95860355 14.8803123 ]\n",
      "Counfact instance [ 0.98063763 15.78228827  0.96676951 16.90024613  0.42924912 18.30721037\n",
      "  1.01859359 14.68860405]\n",
      "Features values difference [ 0.00625948 -0.05408581  0.07542671 -0.49182897 -0.05986573 -0.17434051\n",
      "  0.05999004 -0.19170825]\n",
      "L1 distance from X 1.1135055091201842\n"
     ]
    }
   ],
   "source": [
    "epsilon = 0.1\n",
    "while epsilon<1:\n",
    "    rs=_calculate_radius(f_ranges=f_ranges,epsilon=epsilon)\n",
    "    samples_in=_generate_samples(XX,rs,nb_samples)\n",
    "    preds = predict(samples_in)\n",
    "    avg_pred = preds.mean(axis=0)\n",
    "    if avg_pred>0.5:\n",
    "        samples_flip = samples_in[np.where(avg_pred>0.5)]\n",
    "        cf_instance=samples_flip.mean(axis=0)\n",
    "        print ('Epsilon', epsilon)\n",
    "        print ('==========================')\n",
    "        print ('Average pred', avg_pred)\n",
    "        print ('Original instance',XX)\n",
    "        print ('Counfact instance', cf_instance)\n",
    "        print ('Features values difference', cf_instance-XX)\n",
    "        print ('L1 distance from X',cityblock(cf_instance,XX))\n",
    "        break\n",
    "    epsilon+=0.1"
   ]
  },
  {
   "cell_type": "markdown",
   "metadata": {},
   "source": [
    "# Loss minimization method"
   ]
  },
  {
   "cell_type": "code",
   "execution_count": 199,
   "metadata": {},
   "outputs": [
    {
     "data": {
      "text/plain": [
       "(8,)"
      ]
     },
     "execution_count": 199,
     "metadata": {},
     "output_type": "execute_result"
    }
   ],
   "source": [
    "nb_samples=100\n",
    "epsilon=0.01\n",
    "f_ranges=[(0,1),(10,20),(0,1),(10,20),(0,1),(10,20),(0,1),(10,20)]\n",
    "XX = np.asarray([np.random.uniform(low=l,high=h) for l,h in f_ranges])\n",
    "XX.shape"
   ]
  },
  {
   "cell_type": "code",
   "execution_count": 200,
   "metadata": {},
   "outputs": [],
   "source": [
    "def _predict_single(XX):\n",
    "    return np.random.uniform()"
   ]
  },
  {
   "cell_type": "code",
   "execution_count": 201,
   "metadata": {},
   "outputs": [],
   "source": [
    "def countefactual_loss(X,XX=XX,lam=0.1,yy=0.5):\n",
    "    return lam*(_predict_single(X)-yy)**2 + cityblock(X,XX)"
   ]
  },
  {
   "cell_type": "code",
   "execution_count": 202,
   "metadata": {},
   "outputs": [],
   "source": [
    "def contrains_dist(X,XX=XX,epsilon=epsilon):\n",
    "    return cityblock(X,XX)<epsilon"
   ]
  },
  {
   "cell_type": "code",
   "execution_count": 203,
   "metadata": {},
   "outputs": [],
   "source": [
    "def contrains_diff(X,yy=0.5,tollerance=0):\n",
    "    return (_predict_single(X)-yy)**2<=tollerance"
   ]
  },
  {
   "cell_type": "code",
   "execution_count": 204,
   "metadata": {},
   "outputs": [],
   "source": [
    "from scipy.optimize import minimize"
   ]
  },
  {
   "cell_type": "code",
   "execution_count": 209,
   "metadata": {},
   "outputs": [],
   "source": [
    "res=minimize(countefactual_loss,samples_in[0],method='COBYLA',\n",
    "             constraints=[{'type':'ineq','fun':contrains_dist},{'type':'ineq','fun':contrains_diff}])"
   ]
  },
  {
   "cell_type": "code",
   "execution_count": 210,
   "metadata": {},
   "outputs": [
    {
     "data": {
      "text/plain": [
       "array([ 0.11465411, 18.83175021,  0.34691319, 11.93580361,  0.95894407,\n",
       "       16.00692182,  0.1095785 , 10.88636281])"
      ]
     },
     "execution_count": 210,
     "metadata": {},
     "output_type": "execute_result"
    }
   ],
   "source": [
    "res.x"
   ]
  },
  {
   "cell_type": "code",
   "execution_count": 211,
   "metadata": {},
   "outputs": [
    {
     "data": {
      "text/plain": [
       "array([ 0.1179502 , 18.84728838,  0.31423644, 11.93531492,  0.96239999,\n",
       "       15.96075859,  0.10967686, 10.89557077])"
      ]
     },
     "execution_count": 211,
     "metadata": {},
     "output_type": "execute_result"
    }
   ],
   "source": [
    "XX"
   ]
  },
  {
   "cell_type": "code",
   "execution_count": 212,
   "metadata": {},
   "outputs": [
    {
     "data": {
      "text/plain": [
       "array([-3.29609326e-03, -1.55381763e-02,  3.26767515e-02,  4.88685525e-04,\n",
       "       -3.45592180e-03,  4.61632276e-02, -9.83611035e-05, -9.20795569e-03])"
      ]
     },
     "execution_count": 212,
     "metadata": {},
     "output_type": "execute_result"
    }
   ],
   "source": [
    "res.x-XX"
   ]
  },
  {
   "cell_type": "markdown",
   "metadata": {},
   "source": [
    "# AGCDC"
   ]
  },
  {
   "cell_type": "code",
   "execution_count": null,
   "metadata": {},
   "outputs": [],
   "source": []
  },
  {
   "cell_type": "code",
   "execution_count": 72,
   "metadata": {
    "scrolled": false
   },
   "outputs": [],
   "source": [
    "S=np.asarray([[np.random.uniform(low=lb,high=hb) for lb,hb in zip(lower_bound,upper_bound)] for _ in range(nb_samples)])"
   ]
  },
  {
   "cell_type": "code",
   "execution_count": 74,
   "metadata": {},
   "outputs": [
    {
     "data": {
      "text/plain": [
       "(100, 2)"
      ]
     },
     "execution_count": 74,
     "metadata": {},
     "output_type": "execute_result"
    }
   ],
   "source": [
    "S.shape"
   ]
  },
  {
   "cell_type": "code",
   "execution_count": null,
   "metadata": {},
   "outputs": [],
   "source": []
  }
 ],
 "metadata": {
  "kernelspec": {
   "display_name": "Python 3",
   "language": "python",
   "name": "python3"
  },
  "language_info": {
   "codemirror_mode": {
    "name": "ipython",
    "version": 3
   },
   "file_extension": ".py",
   "mimetype": "text/x-python",
   "name": "python",
   "nbconvert_exporter": "python",
   "pygments_lexer": "ipython3",
   "version": "3.6.5"
  }
 },
 "nbformat": 4,
 "nbformat_minor": 2
}
